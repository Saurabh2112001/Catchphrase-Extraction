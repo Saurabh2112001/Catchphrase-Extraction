{
  "nbformat": 4,
  "nbformat_minor": 0,
  "metadata": {
    "colab": {
      "provenance": [],
      "gpuType": "T4"
    },
    "kernelspec": {
      "name": "python3",
      "display_name": "Python 3"
    },
    "language_info": {
      "name": "python"
    },
    "accelerator": "GPU"
  },
  "cells": [
    {
      "cell_type": "markdown",
      "source": [
        "#**Install Libraries**"
      ],
      "metadata": {
        "id": "SzHmNIKGkZe2"
      }
    },
    {
      "cell_type": "code",
      "execution_count": null,
      "metadata": {
        "colab": {
          "base_uri": "https://localhost:8080/"
        },
        "id": "D6HsLyBGq3WR",
        "outputId": "656ce487-f02b-48fa-828f-9934905e65b6"
      },
      "outputs": [
        {
          "output_type": "stream",
          "name": "stdout",
          "text": [
            "Collecting tensorflow-addons\n",
            "  Downloading tensorflow_addons-0.23.0-cp310-cp310-manylinux_2_17_x86_64.manylinux2014_x86_64.whl (611 kB)\n",
            "\u001b[2K     \u001b[90m━━━━━━━━━━━━━━━━━━━━━━━━━━━━━━━━━━━━━━━━\u001b[0m \u001b[32m611.8/611.8 kB\u001b[0m \u001b[31m3.4 MB/s\u001b[0m eta \u001b[36m0:00:00\u001b[0m\n",
            "\u001b[?25hRequirement already satisfied: packaging in /usr/local/lib/python3.10/dist-packages (from tensorflow-addons) (24.0)\n",
            "Collecting typeguard<3.0.0,>=2.7 (from tensorflow-addons)\n",
            "  Downloading typeguard-2.13.3-py3-none-any.whl (17 kB)\n",
            "Installing collected packages: typeguard, tensorflow-addons\n",
            "Successfully installed tensorflow-addons-0.23.0 typeguard-2.13.3\n"
          ]
        }
      ],
      "source": [
        "!pip install tensorflow-addons"
      ]
    },
    {
      "cell_type": "code",
      "source": [
        "!pip install git+https://www.github.com/keras-team/keras-contrib.git"
      ],
      "metadata": {
        "colab": {
          "base_uri": "https://localhost:8080/"
        },
        "id": "M7TZS-90q4IO",
        "outputId": "784d46d0-85b9-4b6b-9ab2-6f83586bde08"
      },
      "execution_count": null,
      "outputs": [
        {
          "output_type": "stream",
          "name": "stdout",
          "text": [
            "Collecting git+https://www.github.com/keras-team/keras-contrib.git\n",
            "  Cloning https://www.github.com/keras-team/keras-contrib.git to /tmp/pip-req-build-ps850gw7\n",
            "  Running command git clone --filter=blob:none --quiet https://www.github.com/keras-team/keras-contrib.git /tmp/pip-req-build-ps850gw7\n",
            "  warning: redirecting to https://github.com/keras-team/keras-contrib.git/\n",
            "  Resolved https://www.github.com/keras-team/keras-contrib.git to commit 3fc5ef709e061416f4bc8a92ca3750c824b5d2b0\n",
            "  Preparing metadata (setup.py) ... \u001b[?25l\u001b[?25hdone\n",
            "Requirement already satisfied: keras in /usr/local/lib/python3.10/dist-packages (from keras-contrib==2.0.8) (2.15.0)\n",
            "Building wheels for collected packages: keras-contrib\n",
            "  Building wheel for keras-contrib (setup.py) ... \u001b[?25l\u001b[?25hdone\n",
            "  Created wheel for keras-contrib: filename=keras_contrib-2.0.8-py3-none-any.whl size=101055 sha256=ff6d80a8408fb3d897409162c3eaa6371d15f7e5dc6f584441f8c1e68565f6e5\n",
            "  Stored in directory: /tmp/pip-ephem-wheel-cache-0i8bgbig/wheels/74/d5/f7/0245af7ac33d5b0c2e095688649916e4bf9a8d6b3362a849f5\n",
            "Successfully built keras-contrib\n",
            "Installing collected packages: keras-contrib\n",
            "Successfully installed keras-contrib-2.0.8\n"
          ]
        }
      ]
    },
    {
      "cell_type": "markdown",
      "source": [
        "#**Import Libraries**"
      ],
      "metadata": {
        "id": "RWZ1OVFSkwUb"
      }
    },
    {
      "cell_type": "code",
      "source": [
        "import numpy as np\n",
        "import pandas as pd\n",
        "from gensim.models.doc2vec import Doc2Vec, TaggedDocument\n",
        "from gensim.models import Word2Vec\n",
        "from keras.preprocessing.text import Tokenizer\n",
        "from keras.preprocessing.sequence import pad_sequences\n",
        "from keras.models import Sequential, Model\n",
        "from keras.layers import LSTM, Embedding, Dense, Bidirectional, Input, TimeDistributed\n",
        "from keras_contrib.layers import CRF\n",
        "from sklearn.metrics import accuracy_score\n",
        "import tensorflow as tf\n",
        "from tensorflow_addons.layers import CRF"
      ],
      "metadata": {
        "id": "qclLXcFdrH4T",
        "colab": {
          "base_uri": "https://localhost:8080/"
        },
        "outputId": "2d8b3e9c-d286-4b3a-d096-81d20bdb0c8e"
      },
      "execution_count": null,
      "outputs": [
        {
          "output_type": "stream",
          "name": "stderr",
          "text": [
            "/usr/local/lib/python3.10/dist-packages/tensorflow_addons/utils/tfa_eol_msg.py:23: UserWarning: \n",
            "\n",
            "TensorFlow Addons (TFA) has ended development and introduction of new features.\n",
            "TFA has entered a minimal maintenance and release mode until a planned end of life in May 2024.\n",
            "Please modify downstream libraries to take dependencies from other repositories in our TensorFlow community (e.g. Keras, Keras-CV, and Keras-NLP). \n",
            "\n",
            "For more information see: https://github.com/tensorflow/addons/issues/2807 \n",
            "\n",
            "  warnings.warn(\n"
          ]
        }
      ]
    },
    {
      "cell_type": "code",
      "source": [
        "import nltk\n",
        "from nltk.corpus import stopwords\n",
        "nltk.download('wordnet')\n",
        "nltk.download('punkt')\n",
        "nltk.download('stopwords')\n",
        "nltk.download('maxent_ne_chunker')\n",
        "nltk.download('words')"
      ],
      "metadata": {
        "colab": {
          "base_uri": "https://localhost:8080/"
        },
        "id": "4QliutwzrReQ",
        "outputId": "fe8ae62a-cad1-440d-ec7f-1138d1da8834"
      },
      "execution_count": null,
      "outputs": [
        {
          "output_type": "stream",
          "name": "stderr",
          "text": [
            "[nltk_data] Downloading package wordnet to /root/nltk_data...\n",
            "[nltk_data] Downloading package punkt to /root/nltk_data...\n",
            "[nltk_data]   Unzipping tokenizers/punkt.zip.\n",
            "[nltk_data] Downloading package stopwords to /root/nltk_data...\n",
            "[nltk_data]   Unzipping corpora/stopwords.zip.\n",
            "[nltk_data] Downloading package maxent_ne_chunker to\n",
            "[nltk_data]     /root/nltk_data...\n",
            "[nltk_data]   Unzipping chunkers/maxent_ne_chunker.zip.\n",
            "[nltk_data] Downloading package words to /root/nltk_data...\n",
            "[nltk_data]   Unzipping corpora/words.zip.\n"
          ]
        },
        {
          "output_type": "execute_result",
          "data": {
            "text/plain": [
              "True"
            ]
          },
          "metadata": {},
          "execution_count": 4
        }
      ]
    },
    {
      "cell_type": "markdown",
      "source": [
        "#**Load Dataset**"
      ],
      "metadata": {
        "id": "2SVJzgp8k0MZ"
      }
    },
    {
      "cell_type": "code",
      "source": [
        "df = pd.read_csv('Final_200.csv')\n",
        "df"
      ],
      "metadata": {
        "colab": {
          "base_uri": "https://localhost:8080/",
          "height": 423
        },
        "id": "zgJmDysLrMQN",
        "outputId": "5ef7f8d8-f025-4482-c880-768d571e0131"
      },
      "execution_count": null,
      "outputs": [
        {
          "output_type": "execute_result",
          "data": {
            "text/plain": [
              "                                                  Text  \\\n",
              "0    Dipak Misra, J.\\n1. Leave granted.\\n2. The App...   \n",
              "1    U.U. Lalit, J.\\n1. State Bank of India and 13 ...   \n",
              "2    ﻿A.M. Khanwilkar, J. \\n1. Leave granted. \\nJUD...   \n",
              "3    Ranjan Gogoi, J.\\n1. Leave granted.\\n2 . The w...   \n",
              "4    Jasti Chelameswar, J.\\n1. Leave Granted\\n2 . M...   \n",
              "..                                                 ...   \n",
              "195  ﻿N.V. Ramana, J. \\n1. These appeals by special...   \n",
              "196  ﻿Madan B. Lokur, J.\\n1. Leave granted.\\nJUDGME...   \n",
              "197  ﻿Abhay Manohar Sapre, J. 1. Leave granted. \\n2...   \n",
              "198  ﻿Aniruddha Bose, J. \\n1. Leave granted. \\nJUDG...   \n",
              "199  ﻿B.R. Gavai, J.\\n1. These appeals challenge th...   \n",
              "\n",
              "                                          Catchphrases  \n",
              "0    Leave granted\\nFIR No. 645 of 2004\\nCharge she...  \n",
              "1    Special leave petitions\\nHigh Court of Karnata...  \n",
              "2    Lease Deed\\nDemand notice\\nShow cause notice\\n...  \n",
              "3    Writ petition\\nAppeals\\nAgartala Bench of the ...  \n",
              "4    Negotiable Instruments Act, 1881\\nSections 138...  \n",
              "..                                                 ...  \n",
              "195  Suit\\nDeclaration of title\\nPermanent injuncti...  \n",
              "196  Section 92 of the Code of Civil Procedure: Thi...  \n",
              "197  Order 6 Rule 1 the institution of the suit.\\nO...  \n",
              "198  Marine Cargo-Open Policy, Sales Turnover basis...  \n",
              "199  The Appellant, a promoter of M/s. Siva Industr...  \n",
              "\n",
              "[200 rows x 2 columns]"
            ],
            "text/html": [
              "\n",
              "  <div id=\"df-9e0cc582-2406-4abf-aec1-cbbb8e61bdf3\" class=\"colab-df-container\">\n",
              "    <div>\n",
              "<style scoped>\n",
              "    .dataframe tbody tr th:only-of-type {\n",
              "        vertical-align: middle;\n",
              "    }\n",
              "\n",
              "    .dataframe tbody tr th {\n",
              "        vertical-align: top;\n",
              "    }\n",
              "\n",
              "    .dataframe thead th {\n",
              "        text-align: right;\n",
              "    }\n",
              "</style>\n",
              "<table border=\"1\" class=\"dataframe\">\n",
              "  <thead>\n",
              "    <tr style=\"text-align: right;\">\n",
              "      <th></th>\n",
              "      <th>Text</th>\n",
              "      <th>Catchphrases</th>\n",
              "    </tr>\n",
              "  </thead>\n",
              "  <tbody>\n",
              "    <tr>\n",
              "      <th>0</th>\n",
              "      <td>Dipak Misra, J.\\n1. Leave granted.\\n2. The App...</td>\n",
              "      <td>Leave granted\\nFIR No. 645 of 2004\\nCharge she...</td>\n",
              "    </tr>\n",
              "    <tr>\n",
              "      <th>1</th>\n",
              "      <td>U.U. Lalit, J.\\n1. State Bank of India and 13 ...</td>\n",
              "      <td>Special leave petitions\\nHigh Court of Karnata...</td>\n",
              "    </tr>\n",
              "    <tr>\n",
              "      <th>2</th>\n",
              "      <td>﻿A.M. Khanwilkar, J. \\n1. Leave granted. \\nJUD...</td>\n",
              "      <td>Lease Deed\\nDemand notice\\nShow cause notice\\n...</td>\n",
              "    </tr>\n",
              "    <tr>\n",
              "      <th>3</th>\n",
              "      <td>Ranjan Gogoi, J.\\n1. Leave granted.\\n2 . The w...</td>\n",
              "      <td>Writ petition\\nAppeals\\nAgartala Bench of the ...</td>\n",
              "    </tr>\n",
              "    <tr>\n",
              "      <th>4</th>\n",
              "      <td>Jasti Chelameswar, J.\\n1. Leave Granted\\n2 . M...</td>\n",
              "      <td>Negotiable Instruments Act, 1881\\nSections 138...</td>\n",
              "    </tr>\n",
              "    <tr>\n",
              "      <th>...</th>\n",
              "      <td>...</td>\n",
              "      <td>...</td>\n",
              "    </tr>\n",
              "    <tr>\n",
              "      <th>195</th>\n",
              "      <td>﻿N.V. Ramana, J. \\n1. These appeals by special...</td>\n",
              "      <td>Suit\\nDeclaration of title\\nPermanent injuncti...</td>\n",
              "    </tr>\n",
              "    <tr>\n",
              "      <th>196</th>\n",
              "      <td>﻿Madan B. Lokur, J.\\n1. Leave granted.\\nJUDGME...</td>\n",
              "      <td>Section 92 of the Code of Civil Procedure: Thi...</td>\n",
              "    </tr>\n",
              "    <tr>\n",
              "      <th>197</th>\n",
              "      <td>﻿Abhay Manohar Sapre, J. 1. Leave granted. \\n2...</td>\n",
              "      <td>Order 6 Rule 1 the institution of the suit.\\nO...</td>\n",
              "    </tr>\n",
              "    <tr>\n",
              "      <th>198</th>\n",
              "      <td>﻿Aniruddha Bose, J. \\n1. Leave granted. \\nJUDG...</td>\n",
              "      <td>Marine Cargo-Open Policy, Sales Turnover basis...</td>\n",
              "    </tr>\n",
              "    <tr>\n",
              "      <th>199</th>\n",
              "      <td>﻿B.R. Gavai, J.\\n1. These appeals challenge th...</td>\n",
              "      <td>The Appellant, a promoter of M/s. Siva Industr...</td>\n",
              "    </tr>\n",
              "  </tbody>\n",
              "</table>\n",
              "<p>200 rows × 2 columns</p>\n",
              "</div>\n",
              "    <div class=\"colab-df-buttons\">\n",
              "\n",
              "  <div class=\"colab-df-container\">\n",
              "    <button class=\"colab-df-convert\" onclick=\"convertToInteractive('df-9e0cc582-2406-4abf-aec1-cbbb8e61bdf3')\"\n",
              "            title=\"Convert this dataframe to an interactive table.\"\n",
              "            style=\"display:none;\">\n",
              "\n",
              "  <svg xmlns=\"http://www.w3.org/2000/svg\" height=\"24px\" viewBox=\"0 -960 960 960\">\n",
              "    <path d=\"M120-120v-720h720v720H120Zm60-500h600v-160H180v160Zm220 220h160v-160H400v160Zm0 220h160v-160H400v160ZM180-400h160v-160H180v160Zm440 0h160v-160H620v160ZM180-180h160v-160H180v160Zm440 0h160v-160H620v160Z\"/>\n",
              "  </svg>\n",
              "    </button>\n",
              "\n",
              "  <style>\n",
              "    .colab-df-container {\n",
              "      display:flex;\n",
              "      gap: 12px;\n",
              "    }\n",
              "\n",
              "    .colab-df-convert {\n",
              "      background-color: #E8F0FE;\n",
              "      border: none;\n",
              "      border-radius: 50%;\n",
              "      cursor: pointer;\n",
              "      display: none;\n",
              "      fill: #1967D2;\n",
              "      height: 32px;\n",
              "      padding: 0 0 0 0;\n",
              "      width: 32px;\n",
              "    }\n",
              "\n",
              "    .colab-df-convert:hover {\n",
              "      background-color: #E2EBFA;\n",
              "      box-shadow: 0px 1px 2px rgba(60, 64, 67, 0.3), 0px 1px 3px 1px rgba(60, 64, 67, 0.15);\n",
              "      fill: #174EA6;\n",
              "    }\n",
              "\n",
              "    .colab-df-buttons div {\n",
              "      margin-bottom: 4px;\n",
              "    }\n",
              "\n",
              "    [theme=dark] .colab-df-convert {\n",
              "      background-color: #3B4455;\n",
              "      fill: #D2E3FC;\n",
              "    }\n",
              "\n",
              "    [theme=dark] .colab-df-convert:hover {\n",
              "      background-color: #434B5C;\n",
              "      box-shadow: 0px 1px 3px 1px rgba(0, 0, 0, 0.15);\n",
              "      filter: drop-shadow(0px 1px 2px rgba(0, 0, 0, 0.3));\n",
              "      fill: #FFFFFF;\n",
              "    }\n",
              "  </style>\n",
              "\n",
              "    <script>\n",
              "      const buttonEl =\n",
              "        document.querySelector('#df-9e0cc582-2406-4abf-aec1-cbbb8e61bdf3 button.colab-df-convert');\n",
              "      buttonEl.style.display =\n",
              "        google.colab.kernel.accessAllowed ? 'block' : 'none';\n",
              "\n",
              "      async function convertToInteractive(key) {\n",
              "        const element = document.querySelector('#df-9e0cc582-2406-4abf-aec1-cbbb8e61bdf3');\n",
              "        const dataTable =\n",
              "          await google.colab.kernel.invokeFunction('convertToInteractive',\n",
              "                                                    [key], {});\n",
              "        if (!dataTable) return;\n",
              "\n",
              "        const docLinkHtml = 'Like what you see? Visit the ' +\n",
              "          '<a target=\"_blank\" href=https://colab.research.google.com/notebooks/data_table.ipynb>data table notebook</a>'\n",
              "          + ' to learn more about interactive tables.';\n",
              "        element.innerHTML = '';\n",
              "        dataTable['output_type'] = 'display_data';\n",
              "        await google.colab.output.renderOutput(dataTable, element);\n",
              "        const docLink = document.createElement('div');\n",
              "        docLink.innerHTML = docLinkHtml;\n",
              "        element.appendChild(docLink);\n",
              "      }\n",
              "    </script>\n",
              "  </div>\n",
              "\n",
              "\n",
              "<div id=\"df-f0349eea-11e0-4552-bba5-8d0c926fabeb\">\n",
              "  <button class=\"colab-df-quickchart\" onclick=\"quickchart('df-f0349eea-11e0-4552-bba5-8d0c926fabeb')\"\n",
              "            title=\"Suggest charts\"\n",
              "            style=\"display:none;\">\n",
              "\n",
              "<svg xmlns=\"http://www.w3.org/2000/svg\" height=\"24px\"viewBox=\"0 0 24 24\"\n",
              "     width=\"24px\">\n",
              "    <g>\n",
              "        <path d=\"M19 3H5c-1.1 0-2 .9-2 2v14c0 1.1.9 2 2 2h14c1.1 0 2-.9 2-2V5c0-1.1-.9-2-2-2zM9 17H7v-7h2v7zm4 0h-2V7h2v10zm4 0h-2v-4h2v4z\"/>\n",
              "    </g>\n",
              "</svg>\n",
              "  </button>\n",
              "\n",
              "<style>\n",
              "  .colab-df-quickchart {\n",
              "      --bg-color: #E8F0FE;\n",
              "      --fill-color: #1967D2;\n",
              "      --hover-bg-color: #E2EBFA;\n",
              "      --hover-fill-color: #174EA6;\n",
              "      --disabled-fill-color: #AAA;\n",
              "      --disabled-bg-color: #DDD;\n",
              "  }\n",
              "\n",
              "  [theme=dark] .colab-df-quickchart {\n",
              "      --bg-color: #3B4455;\n",
              "      --fill-color: #D2E3FC;\n",
              "      --hover-bg-color: #434B5C;\n",
              "      --hover-fill-color: #FFFFFF;\n",
              "      --disabled-bg-color: #3B4455;\n",
              "      --disabled-fill-color: #666;\n",
              "  }\n",
              "\n",
              "  .colab-df-quickchart {\n",
              "    background-color: var(--bg-color);\n",
              "    border: none;\n",
              "    border-radius: 50%;\n",
              "    cursor: pointer;\n",
              "    display: none;\n",
              "    fill: var(--fill-color);\n",
              "    height: 32px;\n",
              "    padding: 0;\n",
              "    width: 32px;\n",
              "  }\n",
              "\n",
              "  .colab-df-quickchart:hover {\n",
              "    background-color: var(--hover-bg-color);\n",
              "    box-shadow: 0 1px 2px rgba(60, 64, 67, 0.3), 0 1px 3px 1px rgba(60, 64, 67, 0.15);\n",
              "    fill: var(--button-hover-fill-color);\n",
              "  }\n",
              "\n",
              "  .colab-df-quickchart-complete:disabled,\n",
              "  .colab-df-quickchart-complete:disabled:hover {\n",
              "    background-color: var(--disabled-bg-color);\n",
              "    fill: var(--disabled-fill-color);\n",
              "    box-shadow: none;\n",
              "  }\n",
              "\n",
              "  .colab-df-spinner {\n",
              "    border: 2px solid var(--fill-color);\n",
              "    border-color: transparent;\n",
              "    border-bottom-color: var(--fill-color);\n",
              "    animation:\n",
              "      spin 1s steps(1) infinite;\n",
              "  }\n",
              "\n",
              "  @keyframes spin {\n",
              "    0% {\n",
              "      border-color: transparent;\n",
              "      border-bottom-color: var(--fill-color);\n",
              "      border-left-color: var(--fill-color);\n",
              "    }\n",
              "    20% {\n",
              "      border-color: transparent;\n",
              "      border-left-color: var(--fill-color);\n",
              "      border-top-color: var(--fill-color);\n",
              "    }\n",
              "    30% {\n",
              "      border-color: transparent;\n",
              "      border-left-color: var(--fill-color);\n",
              "      border-top-color: var(--fill-color);\n",
              "      border-right-color: var(--fill-color);\n",
              "    }\n",
              "    40% {\n",
              "      border-color: transparent;\n",
              "      border-right-color: var(--fill-color);\n",
              "      border-top-color: var(--fill-color);\n",
              "    }\n",
              "    60% {\n",
              "      border-color: transparent;\n",
              "      border-right-color: var(--fill-color);\n",
              "    }\n",
              "    80% {\n",
              "      border-color: transparent;\n",
              "      border-right-color: var(--fill-color);\n",
              "      border-bottom-color: var(--fill-color);\n",
              "    }\n",
              "    90% {\n",
              "      border-color: transparent;\n",
              "      border-bottom-color: var(--fill-color);\n",
              "    }\n",
              "  }\n",
              "</style>\n",
              "\n",
              "  <script>\n",
              "    async function quickchart(key) {\n",
              "      const quickchartButtonEl =\n",
              "        document.querySelector('#' + key + ' button');\n",
              "      quickchartButtonEl.disabled = true;  // To prevent multiple clicks.\n",
              "      quickchartButtonEl.classList.add('colab-df-spinner');\n",
              "      try {\n",
              "        const charts = await google.colab.kernel.invokeFunction(\n",
              "            'suggestCharts', [key], {});\n",
              "      } catch (error) {\n",
              "        console.error('Error during call to suggestCharts:', error);\n",
              "      }\n",
              "      quickchartButtonEl.classList.remove('colab-df-spinner');\n",
              "      quickchartButtonEl.classList.add('colab-df-quickchart-complete');\n",
              "    }\n",
              "    (() => {\n",
              "      let quickchartButtonEl =\n",
              "        document.querySelector('#df-f0349eea-11e0-4552-bba5-8d0c926fabeb button');\n",
              "      quickchartButtonEl.style.display =\n",
              "        google.colab.kernel.accessAllowed ? 'block' : 'none';\n",
              "    })();\n",
              "  </script>\n",
              "</div>\n",
              "\n",
              "  <div id=\"id_40209a68-b3b0-4134-beb0-b3b2d12f7478\">\n",
              "    <style>\n",
              "      .colab-df-generate {\n",
              "        background-color: #E8F0FE;\n",
              "        border: none;\n",
              "        border-radius: 50%;\n",
              "        cursor: pointer;\n",
              "        display: none;\n",
              "        fill: #1967D2;\n",
              "        height: 32px;\n",
              "        padding: 0 0 0 0;\n",
              "        width: 32px;\n",
              "      }\n",
              "\n",
              "      .colab-df-generate:hover {\n",
              "        background-color: #E2EBFA;\n",
              "        box-shadow: 0px 1px 2px rgba(60, 64, 67, 0.3), 0px 1px 3px 1px rgba(60, 64, 67, 0.15);\n",
              "        fill: #174EA6;\n",
              "      }\n",
              "\n",
              "      [theme=dark] .colab-df-generate {\n",
              "        background-color: #3B4455;\n",
              "        fill: #D2E3FC;\n",
              "      }\n",
              "\n",
              "      [theme=dark] .colab-df-generate:hover {\n",
              "        background-color: #434B5C;\n",
              "        box-shadow: 0px 1px 3px 1px rgba(0, 0, 0, 0.15);\n",
              "        filter: drop-shadow(0px 1px 2px rgba(0, 0, 0, 0.3));\n",
              "        fill: #FFFFFF;\n",
              "      }\n",
              "    </style>\n",
              "    <button class=\"colab-df-generate\" onclick=\"generateWithVariable('df')\"\n",
              "            title=\"Generate code using this dataframe.\"\n",
              "            style=\"display:none;\">\n",
              "\n",
              "  <svg xmlns=\"http://www.w3.org/2000/svg\" height=\"24px\"viewBox=\"0 0 24 24\"\n",
              "       width=\"24px\">\n",
              "    <path d=\"M7,19H8.4L18.45,9,17,7.55,7,17.6ZM5,21V16.75L18.45,3.32a2,2,0,0,1,2.83,0l1.4,1.43a1.91,1.91,0,0,1,.58,1.4,1.91,1.91,0,0,1-.58,1.4L9.25,21ZM18.45,9,17,7.55Zm-12,3A5.31,5.31,0,0,0,4.9,8.1,5.31,5.31,0,0,0,1,6.5,5.31,5.31,0,0,0,4.9,4.9,5.31,5.31,0,0,0,6.5,1,5.31,5.31,0,0,0,8.1,4.9,5.31,5.31,0,0,0,12,6.5,5.46,5.46,0,0,0,6.5,12Z\"/>\n",
              "  </svg>\n",
              "    </button>\n",
              "    <script>\n",
              "      (() => {\n",
              "      const buttonEl =\n",
              "        document.querySelector('#id_40209a68-b3b0-4134-beb0-b3b2d12f7478 button.colab-df-generate');\n",
              "      buttonEl.style.display =\n",
              "        google.colab.kernel.accessAllowed ? 'block' : 'none';\n",
              "\n",
              "      buttonEl.onclick = () => {\n",
              "        google.colab.notebook.generateWithVariable('df');\n",
              "      }\n",
              "      })();\n",
              "    </script>\n",
              "  </div>\n",
              "\n",
              "    </div>\n",
              "  </div>\n"
            ],
            "application/vnd.google.colaboratory.intrinsic+json": {
              "type": "dataframe",
              "variable_name": "df",
              "summary": "{\n  \"name\": \"df\",\n  \"rows\": 200,\n  \"fields\": [\n    {\n      \"column\": \"Text\",\n      \"properties\": {\n        \"dtype\": \"category\",\n        \"num_unique_values\": 99,\n        \"samples\": [\n          \"\\nJUDGMENT\\nDr. A.P. Thaker, J.\\n1 . Being aggrieved and feeling dissatisfied with the judgment and decree of the\\nAppellate Court, Surat passed in Regular Civil Appeal No. 33 of 1981 dated17.11.1981,\\nthe original defendant has preferred this Second Appeal under Section 100 of CPC. The\\nappellant is the original defendant-respondent and the present respondent is the\\noriginal plaintiff-appellant. It is contended that the respondent had filed a Suit against\\npresent appellant being Suit No. 108/1978 for the partition alleging that the properties\\nare of the joint family properties and possession of his 1/2 share in the suit property.\\nAccording to him, the trial Court, by its judgment and decree dated 31.12.1980,\\ndismissed the suit of the plaintiff against which the plaintiff has filed First Appeal No.\\n33/1981, wherein the First Appellate Court allowed the Appeal filed by the plaintiff.\\n2 . For the brevity and convenience the parties are referred to herein as plaintiff and\\ndefendant.\\n\\n3 . The defendant has challenged the judgment of the First Appellate Court on the\\nground that the First Appellate Court has erred in holding that the Diwala Gausa was not\\nin sound state of mind and he did not understood the effect of the disposition he has\\nmade. According to defendant, the learned Appellate Court overlooked the fact that after\\nmarriage of the plaintiff, the plaintiff has been residing at his Father-in-law's house at\\nGhantoli. It is also alleged that the learned Appellate Court has not considered the\\nimportant fact that the defendant's father died before 30 years so the deceased Diwala\\nGausa had naturally more love and affection to his grand-son, who lost the love of his\\nfather at the age of around 12 or 14 years forever. It is also contended that the learned\\nAppellate Court has misread the evidence on record. It is also contended that the\\nplaintiff in his evidence admitted that his father Diwala Gausa died at the age of was 65\\nyears. This fact is not properly considered by the learned Appellate court. It is also\\ncontended that the learned Appellate Court has not properly appreciated the evidence on\\nrecord. That the version of the defendant and his witnesses ought to have been believed\\nby the learned Appellate Court and learned appellate Court ought not to have set aside\\nthe well reasoned judgment and decree of the learned trial Court. It is also contended\\nthat the learned first appellate Court has mis-read the evidence of the defendant's\\nwitnesses and also the documentary evidence i.e. \\\"Will\\\". It is also contended that the\\nobservation of the learned first appellate Court that at the time of execution of the Will\\nfalse statement was made that no son of the deceased is alive, is contrary to the\\ndocumentary evidence on record. The defendant has prayed to set aside the impugned\\njudgment of the first Appellate Court and restore the judgment and decree of the trial\\nCourt passed in Civil Suit No. 108/1978.\\n4. The defendant-appellant has raised almost 4 substantial questions of law. However,\\nthis Court has raised the following questions of law.\\n(1) Whether on the facts and circumstances of the case, the lower Court has\\ncommitted error in holding that the Will on which the appellant relied on is a\\nWill executed by the deceased Diwala Gausa in sound state of mind on\\n11.1.1975?\\n(2) Whether after the appellate Court came to the conclusion that the plaintiff\\ndoes not prove that the suit properties are undivided family properties and\\nerred to decree the suit of the plaintiff for one half share in the Suit property?\\n5. Heard learned advocate Ms. Dhara Shah for the appellant and Mr. Nagesh Sood, as\\namicus-curiae for the respondent through video-conferencing at length.\\n6. The facts leading to the present Appeal are as under:\\n6.1 The plaintiff has filed the Suit for partition of the suit-properties which\\nconsist of two agricultural lands bearing Survey No. 55, admeasuring 2 Acres,\\nsituated in the Sim of village - Talsada-Khurd and the agricultural land bearing\\nSurvey No. 30 admeasuring Acre-3 and 8 Gunthas situated in the Sim of village\\nUmarkhadi, Taluka: Mandvi. The case of the plaintiff is that the suit-properties\\nare the joint family properties of the deceased Diwala Gausa, the plaintiff and\\nthe defendant. It is further case of the plaintiff that deceased Diwala Gausa was\\nthe Karta of the joint family and Diwala Gausa purchased the suit properties\\nwith the aid of joint family funds under the provisions of the Bombay Tenancy\\nand Agricultural Lands Act. Further, the case of the plaintiff is that the deceased\\nDiwala Gausa died on 13.1.1975. According to the plaintiff, he has share in the\\nsuit properties. He has also contended that Diwala Gausa was physically and\\n\\nmentally infirm to execute a Will. It is further case of plaintiff that Diwala\\nGausa has not executed any Will and has not bequeathed the Suit lands to the\\ndefendant. The plaintiff contended that Diwala Gausa has no right to execute a\\nWill. According to him, yet the Suit lands were mutated in the name of the\\ndefendant in the Revenue records on the basis of the fabricated Will alleged to\\nhave been executed by the plaintiff's father Diwala Gausa. It is alleged that the\\nplaintiff had called upon the defendant to partition the suit properties, but the\\ndefendant refused to do so. The case of the plaintiff is that he has 1/2 share in\\nthe suit properties. On the basis of these averments, the plaintiff has filed the\\nSuit for partition of the suit-properties and for possession thereof by metes and\\nbounds and mesne profits thereof.\\n7. It appears from the record that the defendant has filed his Written Statement at Exh8 before the trial Court wherein, he has denied that the suit-properties are undivided\\njoint family properties. He has also denied that Diwala Gausa was Karta of the joint\\nfamily. He has denied the contention of the plaintiff that the Suit lands were purchased\\nby Diwala Gausa with the aid of joint family funds. According to the defendant, the suit\\nlands were self-acquired properties of Diwala Gausa and he had right to make Will and\\nto bequeath the said properties. According to him, the plaintiff had separated from\\nDiwala Gausa before many years and he was residing at village Ghantoli at his fatherin-law's house since last 30 years. It is also contended that since that time i.e.\\nseparation of the plaintiff from the deceased Diwala Gausa, the deceased has purchased\\nthe lands, which are self-acquired properties of the deceased. It is also contended that\\nthe deceased Diwala Gausa has acquired the suit lands under the provisions of the\\nBombay Tenancy and Agricultural Lands Act and, therefore, the concerned Court has no\\njurisdiction to entertain the Suit.\\n8 . On the basis of the pleadings of the parties, the trial Court has framed following\\nissues at Exh-10.\\n(1) Does the plaintiff proves that the deceased Diwala Gausa had no authority\\nto execute a Will in respect of suit-property?\\n(2) Does the plaintiff proves that the suit-property is of the H.U.F. of the\\nparties?\\n3. Does the plaintiff proves that he has got 1/2 share in the suit-property?\\n4. Does the plaintiff proves that he is entitled to partition, separate possession\\nand mesne-profit?\\n5. Has this Court has jurisdiction to hear and decide the suit?\\n6. Is this suit-property valued for Court-fees and jurisdiction?\\n7. To what relief, if any, is the plaintiff entitled?\\n8. What order and decree?\\n9. Whether the plaintiff is a joint tenant with the deceased Diwala in respect of\\nthe suit-land?\\n9. After considering the evidence on record, the trial Court held that the suit properties\\nwere the self-acquired properties of the deceased Diwala Gausa. The trial Court has also\\nheld that the plaintiff has failed to prove that the Suit properties were undivided family\\n\\nproperties of the parties. The trial Court further held that Diwala Gausa had executed\\nWill in respect of the suit properties and the deceased Diwala Gausa had executed the\\nWill at Exh-49 in sound disposing state of mind and had bequeathed the suit properties\\nin favour of the defendant. It has also held that the plaintiff has no right and interest in\\nthe suit lands and ultimately dismissed the Suit of the plaintiff.\\n10. Being aggrieved with the judgment and decree of the trial Court, the plaintiff has\\npreferred First Appeal being Regular Civil Appeal No. 33 of 1981 before theAppellant\\nCourt, Surat which has been decided by the Assistant Judge, Surat vide judgment and\\ndecree dated 17.11.1981, whereby the Appellate Court has framed the following Points:\\n1. Whether the defendant proves that the testator Diwala Gausa was in sound\\ndisposing state of mind on 11.1.1975?\\n2. Whether the Will (Exh. 49) dated 11.1.1975 is proved to have been executed\\nby Diwala Gausa in sound disposing state of mind?\\n3 . Whether the plaintiff proves that the suit-properties are undivided joint\\nfamily properties of the parties?\\n4. What order?\\n11. The First Appellate Court has decided the aforesaid points in negative and has\\nultimately passed the Order to the effect that the plaintiff is entitled to partition with\\nmetes and bounds and also directed the Collector, Surat or any subordinate to the\\nCollector deputed by him, to make partition and separation of the lands and has also\\npassed order for drawing the decree. This judgment and decree of the first Appellate\\nCourt has been challenged by the defendant in this Second Appeal.\\n12. Ms. Dhara Shah, learned advocate for the appellant has vehemently submitted that\\ndeceased Diwala Gausa has executed the Will whereby the properties have been\\nbequeathed to the appellant herein. She has also submitted that the plaintiff has never\\nresided with the deceased and he was residing with his wife at his father-in-law's\\nhouse. She also submitted that the allegations made by the plaintiff regarding the\\nproperties being HUF, is not proper as entire properties were self-acquired properties of\\nthe deceased. She has contended that the trial Court has, after considering the entire\\nevidence on record, dismissed the suit of the plaintiff and the judgment and decree of\\nthe trial Court are tenable in the eyes of law. She has submitted that the plaintiff\\nchallenged the same before the appellate Court wherein the appellate Court has allowed\\nthe Appeal by declaring that the plaintiff has got 1/2 share in the properties and he is\\nentitled for partition of the same. That the appellate Court also ordered to partition by\\nmetes and bounds and held that the plaintiff shall recover 1/2 share in the suit\\nproperties. According to her submissions, the appellate Court has committed serious\\nerror of facts and law by setting aside the decree of the trial Court. She has also\\nsubmitted that the observations made by the appellate Court regarding the Will are not\\nproper. She has also submitted that the observation made by the appellate Court that\\nthe deceased Diwala Gausa died intestate without making any Will is not based on\\nevidence on record. According to her submissions, there is ample evidence on record to\\nsuggest that the deceased Diwala Gausa has executed Will and, therefore, the\\nobservation of the Appellate Court is not legal and valid.\\n12.1. She has also submitted that Will has been produced at Exh-49 and on the basis\\nof the same, the trial Court has held that the properties are self-acquired properties of\\nthe deceased. She has also submitted that the plaintiff has not challenged the Will on\\n\\nthe ground of illness of the deceased and of unsoundness of the mind of the deceased.\\nShe has also submitted that it was challenged only on the ground that the properties\\nwere of HUF and the properties were not self-acquired properties of the deceased. She\\nhas submitted that learned first Appellate Court has committed serious error of facts and\\nlaw in passing the impugned decree. She has relied on the decisions in case of Narinder\\nSingh Rao v. AVM Mahinder Singh Rao and Ors, reported in MANU/SC/0273/2013 : AIR\\n2013 SC 1470.\\n13. Per contra, Mr. Nagesh Sood, learned advocate as an amicus curiae, has submitted\\nthat there are two agricultural properties and the deceased was only Karta of HUF. He\\nhas also submitted that the properties being agricultural lands and deceased being Karta\\nof the HUF, the deceased had no right to bequeath the properties in favour of the\\ndefendant. He has also submitted that the deceased has not executed any Will and the\\nWill produced in the matter is a fabricated one. He has also submitted that the\\nproperties are of joint family properties and, therefore, the plaintiff has 1/2 share in the\\nsame. He has also submitted that the trial Court has not framed any issues regarding\\nthe validity or execution of the \\\"Will\\\". He has submitted that the suit was filed for\\npartition only which is legal and valid. He has also submitted that the trial Court has not\\nproperly considered the evidence on record and has committed error in framing issues\\nand has ultimately dismissed the suit of the plaintiff. He supported the judgment and\\ndecree of the first appellate Court and has submitted that the findings of the fact\\nrecorded by the first appellate Court is proper and valid and this being Second Appeal,\\nthis Court may not disturb the findings of fact, which has been recorded by the first\\nappellate Court, which is based on the oral and documentary evidence. He has also\\nsubmitted that though the attesting witness to the Will has been examined but the\\nscribe of the Will is not examined to substantiate that there was a legal Will executed by\\nthe deceased. He has submitted that the present Appeal may be dismissed.\\n14. In rejoinder, Ms. Dhara Shah, learned advocate for the appellant has submitted that\\nthe plaintiff has failed to establish the fact that the properties were of joint family\\nproperties. She has also submitted that the plaintiff being Son was not residing with\\nfather and was residing with his wife at his Father-in-law's house since 1950. This fact,\\naccording to her, is relevant which has not been considered by the First Appellate Court.\\nShe has also submitted that the societal approach of the deceased treating his Son as of\\nnon-existence for all purposes is a relevant factor, which is not properly considered by\\nthe First Appellate Court. She has submitted that there is no legal need that there\\nshould be registration of the Will in every case. According to her submissions, there is\\nalways no necessity of giving entire description of the properties of the deceased. She\\nhas further submitted that the first appellate Court has failed to consider the legal\\naspect regarding to the Will and has committed serious error of facts and, therefore,\\nthis Court being second appellate Court, can re-appreciate the evidence on record. She\\nhas prayed to allow the present Appeal.\\n15. In the case of Narinder Singh Rao v. AVM Mahinder Singh Rao and Ors. (Supra),\\nthe Apex Court has upheld the observations made by the High Court of Punjab &\\nHaryana, which is as follows:\\n\\\"7. It is pertinent to note as to how the High Court has decided the Second\\nAppeal and for that purpose let us look at the findings, which are as under:\\nThe ultimate findings arrived at by the court below are to the effect that\\nthe writing executed by Rao Gajraj Singh, which stated that upon death\\nof himself or his wife, the suit property would be inherited by the\\n\\nsurvivor, was neither in the nature of a Will nor in the nature of\\ntransfer of the property because the said writing was neither registered\\nas required under the provisions of the Indian Registration Act, 1908\\nnor was attested by two witnesses as it should have been done, had it\\nbeen a Will. Thus, the writing executed by Rao Gajraj Singh, in the\\neyes of law, was only a piece of paper, having no legal effect. Factually\\nalso, the said writing was not a Will because it was not attested by two\\nattesting witnesses as is required to be done for execution of a valid\\nWill. It is also a fact that the said writing had not been registered and\\nby virtue of the said writing either complete ownership or share of Rao\\nGajraj Singh was not transferred to Sumitra Devi, thus, the High Court\\nin its impugned judgment rightly ignored the said writing executed by\\nRao Gajraj Singh\\\".\\n15.1. While rejecting the submissions made on behalf of appellant regarding the mental\\ncapacity of the testator to execute a Will, the Apex Court has observed in Para-16 as\\nunder:\\n\\\"16. The submissions made with regard to the mental capacity of Sumitra Devi\\nat the time of execution of the Will cannot also be looked into at this stage\\nbecause the mental capacity of the testator to execute a Will being a question of\\nfact, we would like to accept the findings arrived at by the court below and all\\nallegations with regard to soundness of mind of Sumitra Devi at the time of\\nexecution of the Will or allegation with regard to undue influence of the present\\nappellant with whom Sumitra Devi was residing at the time of her death cannot\\nbe looked into by this Court as they are the issues pertaining to fact. We,\\ntherefore, do not accept the submissions made with regard to validity of the\\nWill executed by Sumitra Devi\\\".\\n16. Prior to coming into force of the Hindu Succession Act, no coparcener could dispose\\nof whole or any portion of his undivided coparcenary interest by Will. But by virtue of\\nSection 30 of the Act read with explanation, a coparcener derives his right to dispose of\\nhis undivided share in Mitakshara joint family property by Will or any testamentary\\ndisposition i.e. by virtue of law. The said provision reads thus:\\nSection 30: Testamentary succession: Any Hindu may dispose of by Will or\\nother testamentary disposition any property, which is capable of being so\\ndisposed of by him or by her, in accordance with the provisions of the Indian\\nSuccession Act, 1925 (39 of 1925), or any other law for the time being in force\\nand applicable to Hindus. Explanation.--The interest of a male Hindu in a\\nMitakshara coparcenary property or the interest of a member of a tarwad,\\ntavazhi, illom, kutumba or kavaru in the property of the tarwad, tavazhi, illom,\\nkutumba or kavaru shall notwithstanding anything contained in this Act or in\\nany other law for the time being in force, be deemed to be property capable of\\nbeing disposed of by him or by her within the meaning of this section.\\n17. In the case of Radhamma and Ors. v. H.N. Muddukrishna and Ors, reported in\\nMANU/SC/0065/2019 : AIR 2019 SC 643, the Apex Court has dealt with Section 30 on\\nthe Hindu Succession Act and especially in Para-7 has observed as under:\\n\\\"7. Section 30 of the Act, the extract of which has been referred to above,\\npermits the disposition by way of Will of a male Hindu in a Mitakshara\\ncoparcenary property. The significant fact which may be noticed is that while\\n\\nthe legislature was aware of the strict rule against alienation by way of gift, it\\nonly relaxed the rule in favour of disposition by way of a Will of a male Hindu\\nin a Mitakshara coparcenary property. Therefore, the law insofar as it applies to\\njoint family property governed by the Mitakshara school, prior to the\\namendment of 2005, when a male Hindu dies after the commencement of the\\nHindu Succession Act, 1956 leaving at the time of his death an interest in\\nMitakshara coparcenary property, his interest in the property will devolve by\\nsurvivorship upon the surviving members of the coparcenary. An exception is\\ncontained in the explanation to Section 30 of the Act making it clear that\\nnotwithstanding anything contained in the Act, the interest of a male Hindu in\\nMitakshara coparcenary property can be disposed of by him by Will or any other\\ntestamentary disposition ...\\\".\\n18. It is pertinent to note that Section 6 and 19 of the Hindu Succession Act, 1956\\ndeals with devolution of interest in coparcenary property as well as mode of succession\\nof two or more heads respectively. Both these provisions provide as under:\\nSection 6: Devolution of interest in coparcenary property.--\\n(1) On and from the commencement of the Hindu Succession (Amendment) Act,\\n2005, in a Joint Hindu family governed by the Mitakshara law, the daughter of a\\ncoparcener shall,--\\n(a) by birth become a coparcener in her own right in the same manner\\nas the son;\\n(b) have the same rights in the coparcenary property as she would\\nhave had if she had been a son;\\n(c) be subject to the same liabilities in respect of the said coparcenary\\nproperty as that of a son and any reference to a Hindu Mitakshara\\ncoparcener shall be deemed to include a reference to a daughter of a\\ncoparcener: Provided that nothing contained in this subsection shall\\naffect or invalidate any disposition or alienation including any partition\\nor testamentary disposition of property which had taken place before\\nthe 20th day of December, 2004.\\n(2) Any property to which a female Hindu becomes entitled by virtue of subsection (1) shall be held by her with the incidents of coparcenary ownership\\nand shall be regarded, notwithstanding anything contained in this Act or any\\nother law for the time being in force in, as property capable of being disposed\\nof by her by testamentary disposition.\\n(3) Where a Hindu dies after the commencement of the Hindu Succession\\n(Amendment) Act, 2005, his interest in the property of a Joint Hindu family\\ngoverned by the Mitakshara law, shall devolve by testamentary or intestate\\nsuccession, as the case may be, under this Act and not by survivorship and the\\ncoparcenary property shall be deemed to have been divided as if a partition had\\ntaken place and,--\\n(a) the daughter is allotted the same share as is allotted to a son;\\n(b) the share of the pre-deceased son or a pre-deceased daughter, as\\nthey would have got had they been alive at the time of partition, shall\\n\\nbe allotted to the surviving child of such pre-deceased son or of such\\npre-deceased daughter; and\\n(c) the share of the pre-deceased child of a predeceased son or of a\\npre-deceased daughter, as such child would have got had he or she\\nbeen alive at the time of the partition, shall be allotted to the child of\\nsuch pre-deceased child of the pre-deceased son or a pre-deceased\\ndaughter, as the case may be.\\nExplanation.--For the purposes of this sub-section, the interest of a Hindu\\nMitakshara coparcener shall be deemed to be the share in the property that\\nwould have been allotted to him if a partition of the property had taken place\\nimmediately before his death, irrespective of whether he was entitled to claim\\npartition or not.\\n(4) After the commencement of the Hindu Succession (Amendment) Act, 2005,\\nno court shall recognise any right to proceed against a son, grandson or greatgrandson for the recovery of any debt due from his father, grandfather or greatgrandfather solely on the ground of the pious obligation under the Hindu law,\\nof such son, grandson or great-grandson to discharge any such debt: Provided\\nthat in the case of any debt contracted before the commencement of the Hindu\\nSuccession (Amendment) Act, 2005, nothing contained in this sub-section shall\\naffect--\\n(a) the right of any creditor to proceed against the son, grandson or\\ngreat-grandson, as the case may be; or\\n(b) any alienation made in respect of or in satisfaction of, any such\\ndebt and any such right or alienation shall be enforceable under the\\nrule of pious obligation in the same manner and to the same extent as\\nit would have been enforceable as if the Hindu Succession\\n(Amendment) Act, 2005 had not been enacted.\\nExplanation.--For the purposes of clause (a), the expression \\\"son\\\", \\\"grandson\\\"\\nor \\\"great-grandson\\\" shall be deemed to refer to the son, grandson or greatgrandson, as the case may be, who was born or adopted prior to the\\ncommencement of the Hindu Succession (Amendment) Act, 2005.\\n(5) Nothing contained in this section shall apply to a partition, which has been\\neffected before the 20th day of December, 2004. Explanation.--For the\\npurposes of this section \\\"partition\\\" means any partition made by execution of a\\ndeed of partition duly registered under the Registration Act, 1908 (16 of 1908)\\nor partition effected by a decree of a court.] Statement of Objects and Reasons\\n[The Hindu Succession (Amendment) Act, 2005] Section 6 of the Act deals with\\ndevolution of interest of a male Hindu in coparcenary property and recognises\\nthe rule of devolution by survivorship among the members of the coparcenary.\\nThe retention of the Mitakshara coparcenary property without including the\\nfemales in it means that the females cannot inherit in ancestral property as their\\nmale counterparts do. The law by excluding the daughter from participating in\\nthe coparcenary ownership not only contributes to her discrimination on the\\nground of gender but also has led to oppression and negation of her\\nfundamental right of equality guaranteed by the Constitution having regard to\\nthe need to render social justice to women, the States of Andhra Pradesh, Tamil\\nNadu, Karnataka and Maharashtra have made necessary changes in the law\\n\\ngiving equal right to daughters in Hindu Mitakshara coparcenary property. The\\nKerala Legislature has enacted the Kerala Joint Hindu Family System (Abolition)\\nAct, 1975. It is proposed to remove the discrimination as contained in section 6\\nof the Hindu Succession Act, 1956 by giving equal rights to daughters in the\\nHindu Mitakshara coparcenary property as the sons have. State Amendment\\nSections 6A to 6C Karnataka: After section 6 the following sections shall be\\ninserted, namely:--\\\"6A. Equal rights to daughter in co-parcenary property.--\\nNotwithstanding anything contained in section 6 of this Act-\\n(a) in a joint Hindu family governed by Mitakshara law, the daughter of\\na co-parcener shall by birth become a co-parcener in her own right in\\nthe same manner as the son and have the same rights in the coparcenary property as she would have had if she had been a son\\ninclusive of the right to claim by survivorship and shall be subject to\\nthe same liabilities and disabilities in respect thereto as the son;\\n(b) at a partition in such a joint Hindu family the coparcenary property\\nshall be so divided as to allot to a daughter the same share as is\\nallottable to a son: Provided that the share which a predeceased son or\\na predeceased daughter would have got at the partition if he or she had\\nbeen alive at the time of the partition, shall be allotted to the surviving\\nchild of such predeceased son or of such predeceased daughter:\\nProvided further that the share allottable to the predeceased child of a\\npredeceased son or of a predeceased daughter, if such child had been\\nalive at the time of the partition, shall be allotted to the child of such\\npredeceased child of the predeceased son or of such predeceased\\ndaughter, as the case may be;\\n(c) any property to which a female Hindu becomes entitled by virtue of\\nthe provisions of clause (a) shall be held by her with the incidents of\\nco-parcenary ownership and shall be regarded, notwithstanding\\nanything contained in this Act or any other law for the time being in\\nforce, as property capable of being disposed of by her by will or other\\ntestamentary disposition;\\n(d) nothing in clause (b) shall apply to a daughter married prior to or\\nto a partition which had been effected before the commencement of\\nHindu Succession (Karnataka Amendment) Act, 1990.\\n6B. Interest to devolve by survivorship on death.--When a female Hindu dies\\nafter the commencement of the Hindu Succession (Karnataka Amendment) Act,\\n1990, having at the time of her death an interest in a Mitakshara co-parcenary\\nproperty, her interest in the property shall devolve by survivorship upon the\\nsurviving members of the co-parcenary and not in accordance with this Act:\\nProvided that if the deceased had left any child or child of a pre-deceased child,\\nthe interest of the deceased in the Mitakshara co-parcenary property shall\\ndevolve by testamentary or intestate succession as the case may be under this\\nAct and not by survivorship.\\n(Explanations) --(1) For the purposes of this section the interest of female\\nHindu Mitakshara co-parcenary shall be deemed to be the share in the property\\nthat would have been allotted to her if a partition of the property had taken\\nplace immediately before her death, irrespective of whether she was entitled to\\n\\nclaim partition or not.\\n(2) Nothing contained in the proviso to this section shall be construed as\\nenabling a person who, before the death of the deceased had separated himself\\nor herself from the co-parcenary, or any of his or her heirs to claim on intestacy\\na share in the interest referred to therein.\\n6C. Preferential right to acquire property in certain cases.--\\n(1) Where, after the commencement of Hindu Succession (Karnataka\\nAmendment) Act, 1990 an interest in any immovable property of an\\nintestate or in any business carried by him or her, whether solely or in\\nconjunction with others devolves under sections 6A or 6B upon two or\\nmore heirs and any one of such heirs proposes to transfer his or her\\ninterest in the property or business, the other heirs shall have a\\npreferential right to acquire the interest proposed to be transferred.\\n(2) The consideration for which any interest in the property of the\\ndeceased may be transferred under subsection (1) shall in the absence\\nof any agreement between the parties, be determined by the court, on\\napplication, being made to it in this behalf and if any person proposing\\nto acquire the interest is not willing to acquire it for the consideration\\nso determined, such person shall be liable to pay all costs of or\\nincidental to the application.\\n(3) If there are two or more heirs proposing to acquire any interest\\nunder this section, that heir who offers the highest consideration for\\nthe transfer shall be preferred.\\nExplanation.--In this section 'court' means the court within the limits of whose\\njurisdiction the immovable property is situate or the business is carried on and\\nincludes any other court which the State Government may by notification in the\\nOfficial Gazette specify in this behalf. [Vide Karnataka Act 23 of 1994, sec. 2\\n(w.e.f. 30-7-1994).]\\n(i) The contention of the petitioners that there was automatic partition\\namongst the heirs of the deceased Karta on his death has been\\nnegatived because it is only when the deceased had left his surviving\\nfemale heirs as provided in proviso to section 6 of the Act, a notional\\npartition is deemed to have taken place in the joint family property for\\nthe purpose of ascertaining the share of the deceased in the joint\\nfamily properties which comes to the share of the female heirs. If there\\nare male heirs there is no automatic partition; Shivgonda Balgonda\\nPatil v. Director of Resettlement, MANU/MH/0017/1992 : AIR 1992 Bom\\n72.\\n(ii) The heirs will get his or her share in the interest which the\\ndeceased had in the coparcenary property at the time of his death in\\naddition to the share which he or she received or must be deemed to\\nhave received in the notional partition; Gurupad v. Hirabai,\\nMANU/SC/0407/1978 : AIR 1978 SC 1239.\\n(iii) The fiction in the explanation of section 6 of the Act should be\\ncarried to a narrow extent only with a new point to implement the\\n\\npurpose for which it was introduced. When there were only two\\ncoparceners and one of them died, then if any person other then the\\ncoparcener is entitled to a share as a result of severance of the share of\\nthe deceased coparcener, the share of such other person will become\\nfixed; Shushilabai v. Narayanrao, MANU/MH/0171/1975 : AIR 1975\\nBom 257.\\n(iv) The deceased coparcener's share gets fixed on the date of his\\ndeath, subsequent fluctuations in the fortunes of the coparceners do\\nnot affect it; Karuppa v. Palaniammal; MANU/TN/0093/1963 : AIR 1963\\nMad 254.\\n19. Mode of succession of two or more heirs.--If two or more heirs succeed\\ntogether to the property of an intestate, they shall take the property,--\\n(a) save as otherwise expressly provided in this Act, per capita and not\\nper stirpes; and\\n(b) as tenants-in-common and not as joint tenants.\\n1 9 . In the case of M. Arumugam Vs. Ammaniammal and Ors., reported in\\nMANU/SC/0015/2020 : (2020) 11 SCC 103, the Apex Court in Para-10 has observed as\\nunder:\\n\\\"10. When we read Section 6 of the Succession Act the opening portion\\nindicates that on the death of a male Hindu, his interest in the coparcenary\\nproperty shall devolve by survivorship upon the surviving members of the\\ncoparcenary and not in accordance with the Act. That would mean that only the\\nbrothers would get the property. However, the Proviso makes it clear that if the\\ndeceased leaves behind a female heir specified in Class-I of the Schedule, the\\ninterest of the deceased in the coparcenary property shall devolve either by\\ntestamentary or by intestate succession under the Succession Act and not by\\nsurvivorship. The opening portion of Section 6, as it stood at the relevant time,\\nclearly indicate\",\n          \"\\ufeffKrushna Ram Mohapatra, J. \\n1. Order dated 25.4.2014 passed by the learned Civil Judge (Senior Division), Champua in Guardian Petition No. 2 of 2013, allowing the petition under Section 25 of the Guardians and Wards Act, 1890 to hand over the custody of the minor girl to her mother, is under challenge in this appeal. \\n2. Briefly stated the petitioner-respondent (mother of the child) filed a petition under Section 25 of the Guardians and Wards Act, 1890 for custody of her minor daughter, namely, Poonam Pradhan, alleging that she got married to the opposite party-appellant No. 1, namely, Anil Kumar Pradhan, on 03.07.2010. After their marriage, the petitioner- respondent stayed in her in-laws house at village Balibandha in the district of Keonjhar. Out of their wedlock, Poonam was born on 7.7.2011. However, there was a break down in the marital life as the in-laws of the petitioner-respondent ill-treated her and did not provide the basic necessities for her sustenance and her minor daughter. On 17.4.2012, the petitioner-respondent was driven out from her in-laws house forcibly removing the custody of the minor daughter from her. However, due to intervention of the parents and relatives of the petitioner-respondent, she returned back to her in-laws house. Again on 5.1.2013, the opposite party-appellant Nos. 1, 2 and 4 forcibly administered poison to the petitioner-respondent for which she was hospitalized in Jhumpura C.H.C. and was discharged on the next day, i.e. on 6.1.2013. Learning about the incident, the father of petitioner-respondent came and took her back to his house, but her in-laws did not allow to take the minor daughter (Poonam) with her. The father of petitioner- respondent lodged an F.I.R. at Jhumpura P.S. which was registered as Jhumpura P.S. Case No. 3 of 2013 under Sections 498-A/323/307/34 I.P.C. read with Section 4 of the D.P. Act. The petitioner-respondent claimed that as Poonam is a breast feeding child, the opposite parties-appellants could not take proper care of her and she would be deprived of proper nourishment and affection of her mother. Hence, she filed the petition for the aforesaid relief. \\n3 . The opposite parties-appellants filed their show cause admitting the marriage, relationship and custody of the child with them, but they denied all other allegations made in the petition. They contended that the petitioner-respondent never behaved properly with her elders and she was not looking after the child properly and abandoning the child, she left the in-laws house. However, the opposite party-appellant No. 1 after much persuasion brought her back for the welfare of the child. The petitioner-respondent was of unpredictable temperament and short-tempered. She used to loose her temper on trivial issues and used to be violent and was always threatening to commit suicide. She used to remain shabby and unclean. She was neither taking care of herself nor her child. Suspecting the petitioner-respondent to be suffering from mental illness, the opposite party-appellant No. 1 took her to the District Headquarters Hospital at Keonjhar, where she was examined by one Dr. Majhi, who was a Neuro- psychiatrist. Dr. Majhi on examination diagnosed that the petitioner-respondent was suffering from bipolar disorder i.e. a kind of mental illness, and advised her to be treated at Ranchi for advance treatment, but she resisted the same. They further contended that the allegation of administration of poison is cooked up. In fact, she locked the door of her room from inside and did not open the same. The opposite parties-appellants with much difficulty broke upon the door and found that she herself had consumed poison and thereafter, she was admitted at Jhumpura C.H.C. When the parents of the petitioner-respondent took back her on 6.1.2013, neither the petitioner- respondent nor her parents had ever asked for the child 'Poonam' and to take her with them. \\n4 . It was their further case that the opposite party-appellant No. 4, the parental grandmother of Poonam, is taking care of her in the best possible manner. The petitioner-respondent wanted a son and instead was blessed with a female child for which she deserted the child and refused to take care of her. In the circumstances, if the custody of Poonam would be given to the petitioner-respondent, her mental and physical growth would be seriously affected. Therefore, they prayed for dismissal of the petition and to allow them the custody of the child. \\n5. The learned trial court considering the materials on record allowed the prayer of the petitioner-respondent directing the opposite party-appellant No. 1 to handover the minor daughter (Poonam Pradhan) to her mother (petitioner-respondent) within fifteen days failing which the petitioner-respondent can take custody of the child as per law. It was further directed that the opposite party-appellant No. 1 can meet the child on every alternative Sunday in the house of the petitioner-respondent's father at Jayantigarh in between 9.00 A.M. to 5.00 P.M. Assailing the said order, the opposite parties-appellants have filed this appeal. \\nBefore delving into the rival contentions of the learned counsel for the parties, it would be proper to take note of relevant provisions of law, i.e., Sections 2, 6 and 13 of the Hindu Minority and Guardianship Act, 1956 (in short 'the Act, 1956') as well as Section 25 of the Guardians and Wards Act, 1890 (in short 'the Act, 1890') which are reproduced hereunder: \\n\\\"2. Act to be supplemental to Act 8 of 1890.--The provision of this Act shall be in addition to, and not, save as hereinafter expressly provided, in derogation of, the Guardian and Wards Act, 1890 (8 of 1890). \\nxx xx xx \\n6. Natural guardians of a Hindu minor.--The natural guardian of a Hindu minor, in respect of the minor's person as well as in respect of the minor's property (excluding his or her undivided interest in joint family property), are-- \\n(a) in the case of a boy or an unmarried girl--the father, and after him, the mother: provided that the custody of a minor who has not completed the age of five years shall ordinarily be with the mother; \\n(b) in case of an illegitimate boy or an illegitimate unmarried girl--the mother, and after her, the father; (c) in the case of a married girl--the husband: Provided that no person shall be entitled to act as the natural guardian of a minor under the provisions of this section-- \\n(a) if he has ceased to be a Hindu, or \\n(b) if he has completely and finally renounced the world by becoming a hermit (vanaprastha) or an ascetic (yati or sanyasi). Explanation.--In this section, the expression \\\"father\\\" and \\\"mother\\\" do not include a step-father and a stepmother. \\nxx xx xxx\\n13. Welfare of minor to be paramount consideration.-- \\n(1) In the appointment or declaration of any person as guardian of a Hindu minor by a court, the welfare of the minor shall be the paramount consideration. \\n(2) No person shall be entitled to the guardianship by virtue of the provisions of this Act or of any law relating to guardianship in marriage among Hindus, if the court is of opinion that his or her guardianship will not be for the welfare of the minor.\\\" \\nSection 25 of the Guardians and Wards Act, 1890 provides as under: \\\"25. Title of guardian to custody of ward- \\n(1) If a ward leaves or is removed from the custody of a guardian of his person, the court, if it is of opinion that it will be for the welfare of the ward to return to the custody of the guardian, may make an order for his return and for the purpose of enforcing the order may cause the ward to be arrested and to be delivered into the custody of the guardian. \\n(2) For the purpose of arresting the ward, the court may exercise the power conferred on a Magistrate of the first class by section 100 of the Code of Criminal Procedure, 1882 (10 of 1882) 16. \\n(3) The residence of a ward against the will of his guardian with a person who is not his guardian does not of itself terminate the guardianship.\\\" \\nThus, it is in the light of the aforesaid provisions of law, the rival contentions of the parties are to be considered. \\n6. Mr. S.K. Nayak, learned counsel for the appellants with vehemence submitted that though the welfare of the child is the paramount consideration, the pleadings made in the petition by the petitioner-respondent for custody of the child do not spell out a single sentence with regard to the welfare of the child. The petitioner-respondent only described about the alleged disturbances in her marital life and the alleged ill-treatment by her husband and in-laws. It appears from the pleadings that she wanted the custody of the child as of right since the child (Poonam) was of one and half years and was breast feeding child and she could not leave without breast feeding her child. It was pleaded that she was an educated woman and conscious about welfare of the child. But, the pleadings are conspicuously silent about how the welfare of the child (Poonam), lies in keeping her in the custody of her mother (respondent). Mr. Nayak further submitted that the petitioner-respondent did not have slightest love for the child and she refused to breast feed her when she was in matrimonial home. She was a self-centered lady and did not care for the welfare of the child. She deserted her daughter as she wanted a son. It was the petitioner-respondent who left the child with her in-laws. The opposite parties-appellants have another house at Keonjhar Town since last 25 years. For proper nourishment, the child was under the proper care of opposite party-appellant Nos. 2 to 4 at Keonjhar. She is now studying in a public school at Keonjhar. The District Headquarter Hospital at Keonjhar has well trained pediatricians. On the other hand, the petitioner-respondent leaves in a remote village in the State of Jharkhand having no access to the basic amenities including medical facilities. The grandmother of the child (opposite party-appellant No. 4) is taking personal care of the child. Hence, her mental and physical growth is best looked after by the appellants. If the custody of the child is given to the petitioner-respondent, the mental and physical growth of the child would be seriously affected. Hence, they prayed to set aside the impugned order. \\n7. Mr. B.K. Nayak, learned counsel for the respondent supporting the impugned order submitted that ordinarily the mother is the custodian of a minor child who is less than five years. When the child was taken out of the custody of the petitioner-respondent, she was a breast feeding child and was aged about only one and half years. He further contended that the Doctor (O.P.W. 4), who diagnosed the petitioner-respondent for having bipolar disease (mental disorder) advised to consult Nuero Psycatrics. Exts. A and B go to show that O.P.W. 4 had only examined the petitioner-respondent once on 25.7.2012 and there is no subsequent material to show that she was suffering from any kind of mental illness. Taking into consideration the decision of the Hon'ble Supreme Court in the case of Rajesh Kumar Gupta v. Ram Gopala Agarwal, reported in MANU/SC/0329/2005 : (2005) 5 SCC 359, learned trial court has rightly rejected the plea of mental illness of the petitioner-respondent. He further submitted that even if the financial condition of opposite parties-appellants is better than the petitioner- respondent, the same should not be a ground to refuse the custody of the child to the petitioner-respondent as it is always the duty of the father to maintain the legitimate child. Though the father of the child deposed in his evidence that his mother was taking care of the child but his mother who is opposite party-appellant No. 4 was not examined in support of the case. Further it was his contention that the appeal contains only general allegations and no specific ground is made out to assail the order impugned. The impugned order was passed taking into consideration the pleadings, evidence and settled law with regard to custody of the child and hence, the same needs no interference. Thus, he prayed for dismissal of the appeal and to confirm the impugned order. \\n8 . Before hearing of the appeal, an attempt was made for conciliation between the parties by this Court and the parties were directed to appear before this Court in person with the child. However, by order dated 25.3.2015, this Court observing that attempt of settlement having been failed directed for hearing of the appeal on merit. \\n9. Section 6 of the Act, 1956 provides that the natural guardian of a Hindu minor, in respect of minor's person as well as in respect of minor's property, in case of a Boy or an unmarried girl, shall be the father, and after him, the mother, provided that the custody of the minor who has not completed the age of five years shall ordinarily be with the mother. \\nIt is not disputed that marriage between the appellant No. 1 and respondent was solemnized on 3.7.2010 and Poonam was born out of their wedlock on 7.7.2011. Thus, the legitimacy of the child is not in question. At the time of filing of the petition under Section 25 of the Act, 1890, the child (Poonam) was only of one and half years old. At the time of adjudication of the petition, she was three years old and at present, she is four and half years old. Keeping in view the aforesaid legal position and the materials available on record, it has to be determined whether the petitioner-respondent is entitled to the custody of the child. \\nIn order to consider the legality and propriety of the impugned order, this Court feels it proper to go through the pleadings of the parties at the outset to determine in whose custody the welfare of the child can be best achieved, which is the paramount consideration for determining the custody of the child. The petitioner-respondent had stated in para-8 of her petition that the opposite parties-appellants by showing physical force took away the child (Poonam) from her. She also pleaded in para-9 of her petition that Poonam Pradhan is aged about 1 1/2 years and is a breast feeding child and she (the mother) cannot leave without her breast feeding child. The opposite parties- appellants could not take proper care of her daughter and if her minor daughter will continue to stay with the opposite parties-appellants, she will be deprived of proper nourishment and mother's affection. She also pleaded that she is an educated woman and is very much conscious about the welfare of her child. In reply, the opposite parties-appellants stated in para-5 of their show cause that neither the petitioner- respondent nor her parents asked for the child when the petitioner-respondent left the matrimonial home, as they considered the baby daughter to be a burden on them. The child being neglected by her mother, the opposite party-appellant No. 4 (grandmother of the child) has been fostering and nourishing the child and all the opposite parties- appellants are deeply concerned about the well being of the child. The opposite parties- appellants had also stated in para-6 of their show cause that the petitioner-respondent has no slightest love for the child and she resented to breast feed the child when she was in the matrimonial home. She being a self-centered lady did not care for the welfare of the child. The opposite parties-appellants have another house at Keonjhar Town since last 25 years. In order to avoid family bickering and unusual behavior of petitioner-respondent, the opposite parties-appellant Nos. 2 to 4 lived at Keonjhar and the child was with them all throughout. Keonjhar has District Headquarter Hospital and private Hospitals with well trained and foreign qualified pediatricians. On the other hand, the petitioner-respondent lives in a remote village in the State of Jharkhand having no access to basic amenities and medical facilities. The infant daughter (Poonam) is being well looked after by the opposite parties-appellants, who are conscious about the nutritional values of food she takes and from time to time, they consult the Child Specialist about the well being of the child. They further stated that if the child is left with the custody of her mother, her mental and physical growth would be seriously affected. They also pleaded that Poonam has been living happily and comfortably in the care and custody of the opposite parties-appellants and is bound to rot and suffer in the hands of the petitioner-respondent and her parents. \\n10. With regard to the welfare of the child, reiterating the pleadings in her deposition, the petitioner-respondent (P.W. 1) deposed that the opposite parties-appellants did not allow her to take Poonam and in para-9 of her deposition, she stated that Poonam will be better with her. Beyond that, she has not stated a single word as to how could she take care of the child, if the child (Poonam) stays in her custody. Except the above, the petitioner-respondent in her petition as well as the deposition has only alleged against her in-laws and disturbance in her marital life and tried to assert her right for the custody of the child. Of course, she denied to the suggestion put to her that she never breast fed the child and she could not take care of the child. P.W. 2, who is the father of petitioner-respondent, in his evidence stated in para-6 that Madhabi (petitioner- respondent) is an educated woman and is very much conscious about the welfare of the child (Poonam). He also deposed that her custody should be given to Madhabi for her proper care and nourishment. In para-12 of the cross-examination, he denied the suggestion that Poonam is quite well with the opposite parties-appellants. On the other hand, O.P.W. 1 (brother of appellant No. 1) in his evidence at para-8 deposed that the petitioner-respondent was very much indifferent towards her daughter, grossly neglected her, strongly protested and objected to breast feed her. In para-10 of his evidence, he deposed that they are quite resourceful to up-bring the child in a befitting manner and the family of petitioner-respondent has no sufficient means to look after the child. In para-11 of his evidence, he had categorically stated that the custody of the minor at the hands of petitioner-respondent would have devastating effect on her mental and physical growth. In cross-examination, he deposed at para-17 that Sub- Divisional Hospital of Champua is at a distance of about 4 to 5 K.Ms. from the father's house of petitioner-respondent. He further categorically stated that Poonam, at present, is in custody of his mother, his wife, the wife of his younger brother and other family members. He also denied to the suggestion that Poonam is forcibly separated from the petitioner-respondent. In para-9 of his deposition, O.P.W. 1 categorically stated that the baby daughter is being properly nourished in consultation with a Child Specialist and Dietician at Keonjhar Town and is growing fast in physical and mental activities. He further categorically stated that Poonam would be deprived of basic facilities and proper medical care in the custody of petitioner-respondent. In a tiny village where the petitioner-respondent resides, there is dearth of facilities of education, medical care etc. and the child would ultimately languish in the custody of petitioner-respondent and her relations, and her mental and physical growth would be stalled. The statements of O.P.W. 1 have not been disturbed in the cross-examination and almost remained unchallenged more particularly with regard to medical and educational facilities available to the child. O.P.W. 2, who is the father of the child and husband of petitioner-respondent, in his deposition at para-2 deposed that after delivery of their daughter, namely, Poonam, the petitioner-respondent being allergic towards the child refused to breast feed her. At his insistence to breast feed the child, she used to pick up quarrels with him and did not take care of the daughter. She even in a fit of tamper once left for her parental home abandoning the child and after much persuasion, she came back after one and half months. The O.P.W. 2 categorically deposed in para-7 that after birth of his daughter, the petitioner-respondent grossly neglected her and never tried to breast feed the child. On the other hand, his (O.P.W. 2's) mother (appellant No. 4) has been taking utmost care of the child. He further deposed that the Baby under the care of the opposite parties-appellants and consultation by Child Specialist and Dietician at Keonjhar Town is growing fast and she would be deprived of the basic facilities and proper medical care and educational facilities in the custody of the petitioner- respondent. In the village of petitioner-respondent, which is far from educational and medical facilities, the child would languish in her custody. He further deposed at para-8 that he is running his own business in Keonjhar Town and residing at Keionjhar with his family and his daughter. In the company of his family members and under their care and custody, his daughter (Poonam) is growing both mentally and physically very fast. In case the custody of his daughter (Poonam) is given to the petitioner-respondent, her future prospect would be bleak and would have devastating effect on her growth and well being. In cross-examination, not a single question with regard to care, nourishment and welfare of the child was put to O.P.W. 2, who is none other than the father of minor child. Thus, his statements with regard to care, nourishment and welfare of the child remained uncontroverted. Only formal suggestion was put to O.P.W. 2 to the effect that he had forcibly taken the child from the petitioner-respondent and compelled the petitioner-respondent to leave his house, to which the O.P.W. 2 denied. He also denied to the suggestion that because of him, Poonam is debarred from the love of her mother. The O.P.W. 3, who is the father-in-law of petitioner-respondent and grandfather of the child, also stated in his deposition at para-3 that his daughter in law was allergic to the child and refused to take care of the Baby and breastfeed her. Corroborating the statement of O.P.W. 3, he also deposed that because of behavior of petitioner-respondent, the opposite parties-appellants decided that the appellant No. 4, who is the grandmother of the child, would stay with them at Balibandh residence for better nourishment and proper care of new born. In spite of ill-treatment at the hands of petitioner-respondent, she remained there and took utmost care of the new born. She also corroborated the statements of O.P.Ws. 1 and 2 to the effect that the child (Poonam) under their care and consultation with Child Specialist and Dietician at Keonhar is growing fast both mentally and physically. There is no facility of education and health care in the village of petitioner-respondent and as such, the child would languish in the custody of petitioner-respondent, if the custody of the child is given to her. Such statements on oath were also not disturbed in the cross-examination. Learned trial court completely ignored to consider the aforesaid evidence with regard to care, nourishment and welfare of the child and in fact there is no finding on the welfare of the child in the impugned order, which is the paramount consideration to determine the custody of the child. \\n11. The learned trial court while adjudicating the petition of the petitioner-respondent for custody of the child had discussed a lot about the mental health of the petitioner- respondent. The opposite parties-appellants in their show cause have contended that the petitioner-respondent is suffering from bipolar disorder, a kind of mental illness and incapable of taking care of the child. The petitioner-respondent, in fact, was diagnosed bipolar disorder by O.P.W. 4, who was working as Assistant Surgeon of District Headquarters Hospital at Keonjhar and was also a Consultant Neuro Psychiatrist. In support of their case, the opposite parties-appellants had filed documents, i.e., Ext. A- Outdoor Medical Ticket dated 25.7.2012 and Ext. B-Medicine Prescription of O.P.W. 4 granted on 25.7.2012. These documents were never challenged or denied by the petitioner-respondent. On the other hand, the petitioner-respondent in her deposition has categorically admitted that she had been to O.P.W. 4 who diagnosed bipolar disorder. The evidence of OPW-4 was not relied upon on the ground that diagnosis of mental condition of petitioner-respondent was provisional, differential, suspected and probable. Thus, the same was not conclusive. Moreover, the learned trial court held that there is nothing to show that the petitioner-respondent is recently suffering from any kind of mental illness. To this, it can only be said that the petitioner-respondent was diagnosed bipolar disorder, a kind of mental illness by a Consultant of Neuro Psychiatrist who advised to take the petitioner-respondent to Ranchi for better treatment. It is the specific case of the opposite parties-appellants that she resisted to go to Ranchi for better treatment which she never denied. Moreover, there is nothing on record to disbelieve the opinion given by a Doctor who has been examined as O.P.W. 4. The same was also not challenged. The decision of Hon'ble Supreme Court in the case of Rajesh Kumar (supra) is distinguishable for the reason that the Hon'ble Supreme Court has dealt with an issue of personality disorder with no medical problem. But, in the case at hand, the petitioner-respondents is suffering from bipolar disorder, a kind of mental disease. Hence, the finding of the learned trial court with regard to mental health of the petitioner-respondent is vulnerable. \\nThe second contention of the opposite parties-appellants was that the petitioner- respondent is living in a remote village at Pattajayanti in the State of Jharkhand and the opposite parties-appellants are living at District Headquarter at Keonjhar which has better avenues compared to Pattajayanti. However, while discussing the same, the learned trial court misdirected himself and concentrated only on the question with regard to financial condition of petitioner-respondent vis-A\\u0303 -vis the opposite parties- appellants, which is insignificant for determining the custody of the child Thereafter, it relied on various case laws and legal provisions but failed to discuss as to how ratio decided in the said cases are relevant to the case at hand. The financial condition of the mother cannot be a ground to refuse custody of the child to her. Because, it is the duty of the father to maintain his legitimate child. He has to provide maintenance for the child. As stated earlier, there is no finding with regard to the welfare of the child. \\nAt this stage, it is profitable to adopt the language of Section 17 of the Guardians and Wards Act, 1890 for determination of the question of 'welfare' of the minor, which reads as follows: \\n\\\"17. Matter to be considered by the Court in appointing guardian.-(1) In appointing or declaring the guardian of a minor, the Court shall, subject to the provisions of this section, be guided by what, consistently with the law to which the minor is subject, appears in the circumstances to be for the welfare of the minor. \\n(2) In considering what will be for the welfare of the minor, the Courts shall have regard to the age, sex and religion of the minor, the character and capacity of the proposed guardian and his nearness of kin to the minor, the wishes, if any, of a deceased parent, and any existing or previous relations of the proposed guardian with the minor or his property. \\n(3) If the minor is old enough to form an intelligent preference, the Court may consider that preference. \\nxx xx xx \\n(5) The Court shall not appoint or declare any person to be a guardian against his will.\\\" \\nSub-section (2) of Section 17 provides that Court while considering the question of 'welfare' of the child shall have regard to the age, sex and religion of the minor, so also the character and capacity of the proposed guardian and his nearness of kin to the minor etc. The same is also the consideration while determining the question of 'welfare' for custody of the child. Thus, broadly the following questions shall be considered along with others for determining 'welfare' of the child. Those are: \\na) Who would have the better care and better consideration for the welfare of the minor; \\nb) Where he or she is likely to be happier; \\nc) By whom mental and physical development and comfort of the child can be better looked after; \\nd) Who has not only the desire but a determination, not only in concept but also capacity to provide for a better education and medical facility as well as uninterrupted nourishment of the child; And \\ne) Who would be available by the side of the child at the time of his/her need for mental as well as physical support and can provide proper care, counseling and give love and affection as well as protection and patting up; \\nIn the case of Smt. Meera Dei v. Shyamsundar Agrawalla, reported in MANU/OR/0016/1985 : AIR 1985 Orissa 65, this Court held as follows: \\n\\\"10. Some arguments were advanced from both the sides regarding power and jurisdiction of the Court to pass orders regarding education and spending holidays etc. by the minor while deciding an application under Section 25 of the Guardians and Wards Act Whatever doubt on these questions might have been there previously the same has been set at rest by the Supreme Court, in the case of Thrity Hoshie Dolikuka v. Hoshiam Shavaksha Dolikuka MANU/SC/0149/1982 : AIR 1982 SC 1276 wherein it has been held that while considering an application under Section 25 of the Act it is open to the Court to make any arrangement relating to the minor which he considers to be in the best interest of minor and in such a case it is the welfare of the minor which alone is the foremost consideration and not the rights of the parents. Neither the father nor the mother has an indefeasible right to have custody of the minor or to decide his future as he or she likes. The Court's duty in this regard is onerous and the Court is required to discharge the same to the best of its ability in the interest of minor.\\\" \\nFollowing the ratio decided in the aforesaid case, this Court in the case of Shyama Prasad Tripathy & Ors. v. Aishwarya Satpathy, reported in MANU/OR/0491/2011 : 2011 (II) ILR- CUT- 806 held as follows: \\n\\\"15 ....This past conduct though is not the sole criteria to determine the attitude of the respondent towards her family, but is indicative of her attitude towards rising a family. Furthermore, when she was residing at Chennai alone, the child was less than three years of age and she admitted him to a Play School, which does not appear to be reasonable to us. Admittedly, we find that the child is with the appellants for the last two years, at Bhubaneswar and, therefore, it can safely be presumed that he has accustomed with the life style of Bhubaneswar with his father and grandparents and at this juncture passing an order to remove him from Bhubaneswar to Bangalore will have an adverse psychological impact on the minor child....\\\" \\nThese are vital aspects to be considered while determining the 'welfare' of the child for custody. Admittedly, learned Civil Judge did not at all consider these vital aspects for determining the custody of child and delved into less important aspects, which have already been discussed above. \\n12. Admittedly, the child, namely, Poonam, is staying at Keonjhar and is prosecuting her studies as revealed from the pleadings and oral testimony of the parties. The petitioner-respondent is staying with her parents, whereas there are three adult female members in the family of opposite parties-appellants to look after the child including other members, namely, the father, grandfather and uncle of the child. The child is at present staying at District Headquarter at Keonjhar where better amenities and facilities with regard to education and health care are available in comparison to that of village Pattajayanti. The Sub-Divisional Hospital at Champua is about 4 to 5 K.Ms. away from the village where the petitioner-respondent resides, whereas the child is at present staying at Keonjhar where the District Headquarter Hospital situates at a stone throw distance. The petitioner-respondent never disputes the aforesaid fact nor does she complain of any ill-treatment or negligence on the part of the appellants in taking care, nourishment and welfare of the child. Admittedly, the child has stayed with her father and other family members for more than four years and has become compatible to the surroundings and situations. The Hon'ble Supreme Court in\",\n          \"\\ufeffMadan B. Lokur, J.\\n1. Leave granted.\\nJUDGMENT\\n2. The dispute that has arisen in this appeal is one that could have and ought to have been settled in the first instance in the Trial Court. Unfortunately, the feelings (if not the animosity) between the parties have run so high that any meaningful discussion between them to sort out the pending issues has been ruled out. When feelings are strong (and get further hardened over time) and tempers are high, there is a loss of balance and equilibrium. It is unfortunate that this state of mind has persisted with both parties who are well educated and perhaps have a philosophical and spiritual bent of mind, being trustees and residents of the Sri Aurobindo Ashram in Pondicherry and followers of Sri Aurobindo.\\n3. On our part, we attempted to amicably sort out the problem between the parties, but one of them refused to appreciate the meaning of 'dissociation' while the other expressed the view that mere dissociation was not enough and there must be condemnation! At the end of the day, we felt that each party wanted to score a brownie point over the other, little realizing that while they would be left with some ephemeral brownie points, the brownies (and the cream) would be shared by somebody else. In another decision altogether, this Court had occasion to remark that public trusts for charitable and religious purpose are run for the benefit of the public. No individual should take benefit from them. If the persons in management of the trusts are subjected to multiplicity of legal proceedings, funds which are to be used for charitable or\\nreligious purposes would be wasted on litigation.1 How true.\\n4. It is time for all of us, litigants, lawyers and judges to introspect and decide whether a litigation being pursued is really worth the while and alternatively whether an amicable dispute resolution mechanism could be availed of to settle the dispute to the satisfaction of the litigants. Most problems have a positive solution and a concerted effort must be made by all concerned to find that solution of least resistance to the problem. This is not only in the interest of the parties involved but also in the larger interest of the justice delivery system.\\nThe facts\\n5. The Respondents are residents of or are otherwise concerned with the Sri Aurobindo Ashram in Pondicherry. They filed a civil suit being O.S. No. 15/20102 before the District Judge, Pondicherry under the provisions of Section 92 of the Code of Civil\\nProcedure (hereinafter referred to as the 'Code of Civil Procedure').3 It was prayed therein that Appellants 2 to 6 who are the trustees in the Sri Aurobindo Ashram Trust (Appellant No. 1 and hereinafter referred to as 'the Trust') be removed and new trustees be appointed since these Appellants have failed the philosophy of Sri Aurobindo and the Mother. A prayer was also made for settling a scheme for the administration of the Trust.\\nPlaint filed by the Respondents\\n6. The averments made in the plaint principally pertain to a book titled \\\"The Lives of Sri Aurobindo\\\" written by one Peter Heehs and the fall out thereafter. The book purports to be a biography of Sri Aurobindo and was published in May 2008 by Columbia University Press in the United States. For convenience, and for no other reason, this book is hereafter referred to as the book or the objectionable book.\\n7. The Respondents summarized their grievances in paragraph 2 of the plaint and the relevant portion thereof reads as follows:\\nThe Plaintiffs who represent the interest of the community of followers, devotees and disciples of Sri Aurobindo (for whose benefit the Trust was created) are constrained to file the present suit, inter alia seeking the removal of the present Trustees when the Trustees acted in bad faith and in breach of their obligations as trustees. Instead of promoting Sri Aurobindo's tenets and philosophy, the Trustees have and continue to harbor, defend and openly extend support to one Mr. Peter Heehs who authored \\\"The Lives of Sri Aurobindo\\\", a sacrilegious book which falsely portrays Sri Aurobindo as a liar and a mentally imbalanced person, and ridiculing his spiritual encounters and experiences as an outcome of Sri Aurobindo's tantric sexual indulgence and schizophrenic state of mind. The fact that such an offensive and venomous book was authored by none other than one of the Ashram's own members, sent shock waves throughout the community of thousands of devotees and disciples' of Sri Aurobindo. Masses of devotees appealed to the Trustees to publicly condemn the content of the book and to clarify that the book was not an official publication/work supported by the Trust, and further to seek the expulsion of Peter Heehs from the Ashram. Instead of publicly dissociating itself from Peter Heehs and his book, the Trustees in absolute breach of trust, have for over two years harbored Peter Heehs within the Ashram itself and gone to the extent of standing as a financial guarantor for Peter Heehs' conduct for his visa renewals. Despite mass public outcries to the Trustees to\\ni. expel Peter Heehs.\\nii. condemn and dissociate the Trust from the sacrilegious work\\niii. stop the circulation of the book so as to protect the future interest of the trust\\nThe Trustees, in pursuit of some hidden agenda, chose to protect and render support to that very individual who has maliciously disparaged, debased and brought disrepute to Sri Aurobindo's philosophy and the ashram community at large. The Trustees have repeatedly disobeyed and declined to carry out the directions of the Settler of the Trust, failed to execute the trust in accordance with its object of Trust and have thus acted in gross dereliction of their duty as trustees. The repeated conduct and failure of the Trustees has proven that the Trustees are unfit and incapable of administrating the trust in conformity with the ideals of Sri Aurobindo. Thus it is in the interest of the trust and its beneficiaries to remove the existing trustees and consequently appoint new trustees having faith in Sri Aurobindo's philosophy and ideals and who are capable of administering the trust and protecting its interest in accordance with its objects.\\n8 . More specifically, it was stated that the book contains deliberate and baseless distortions relating to the life of Sri Aurobindo, inter alia, to the effect that he had romantic affairs with the Mother involving veiled tantric sexual practices; that he was a frequent liar and lied about his spiritual experiences; that his spiritual experiences were based on sexual and schizophrenic stimuli and that he was the initiator of the Hindu- Muslim divide and was responsible for the partition of the country.\\n9. It was stated that Peter Heehs claimed to be one of the founders of the archives of the Sri Aurobindo Ashram whereas the sole founder was one Jayanthilal Parekh and that this impersonation was mala fide and malicious to lend credibility to his book.\\n10. In sum and substance, according to the Respondents what was outrageous and intolerable, as far as they and other devotees and inmates of Sri Aurobindo Ashram are concerned, was:\\na) That the author of the deeply offensive book against Sri Aurobindo was none other than one of the ashramites;\\nb) That an individual who had been allowed to reside, use and benefit from the facilities and resources of the Ashram to pursue spiritual enlightenment through Sri Aurobindo's philosophy had instead flagrantly misused the Ashram's name and its resources to launch a disparaging attack on the soul and foundations of the Ashram, its faith, tenets and beliefs;\\nc) That Peter Heehs, the author has intentionally tried to mislead the public to believe that the sacrilegious work has been published in consultation/affiliation with the Ashram by audaciously claiming that he is one of the \\\"founders of the Ashram Archives\\\" in a clear attempt to give credibility to the source and foundation of a book.\\nd) That the book was made possible by extensively misusing the Ashram's own research database and resources to which Peter Heehs had privileged access, and which has been gathered and developed over 40 years by the Ashram's inmates, devotees and researchers, and includes rare materials of great historical value. This database which is intended to document the greatness of Sri Aurobindo's life and work was misused by Peter Heehs to misrepresent Sri Aurobindo in bad light.\\ne) Work done by large teams of dedicated inmates of the Ashram over 40 years was claimed by Peter Heehs to be his own personal research in the book.\\nf) Some of the rare materials published by Peter Heehs in his book were without proper permission of the Sri Aurobindo Ashram Trust. 11. In view of the above, the Respondents and Ors. made several petitions to the\\nAppellants including on 20th September, 2008 and 2nd October, 2008 but the Appellants did not take any remedial action either in respect of the objectionable book or in respect of Peter Heehs. It was stated that one Pranab Bhattacharya, the Head of the Physical Education Department had expelled Peter Heehs from the Physical Education Department\\nof the Ashram on 30th October, 2008. The expulsion notice was displayed prominently on the notice board but in spite of such and other actions, the Appellants failed to take any appropriate corrective measures.\\n12. It was stated in the plaint that through a communication made on 11th November, 2008 the Trust expressed and admitted its displeasure with the contents of the book written by Peter Heehs and claimed that disciplinary action had been initiated against him. It was clarified that Peter Heehs was not the founder of the archives of the Ashram but Jayanthilal Parekh was its founder. However, this does not appear to have satisfied the Respondents.\\n13. Quite independent of the actions taken within the Ashram, some devotees of Sri Aurobindo took other proactive measures to stop the circulation of the objectionable book. This eventually led the Government of Orissa to order forfeiture of the book\\nUnder Section 95 of the Code of Criminal Procedure4 for being a work punishable under Section 295-A of the Indian Penal Code.5\\n14. The forfeiture process was initiated by one of the devotees of Sri Aurobindo who filed a writ petition in the Orissa High Court being W.P. No. 15939 of 2008 to prohibit the printing, publication and distribution of the objectionable book. This led the Orissa\\nHigh Court to pass an order on 4th November, 2008 requiring the Petitioner therein to make a representation to the Government of India which in turn was required to pass an order on the representation. The Petitioner did make a representation and the Government of India passed an order in December, 2008 directing the State Government of Delhi and the Union Government in Pondicherry to ensure that there should be no publication of the objectionable book without obtaining a no objection from the Government of India.\\n15. The Government of Orissa also independently examined the matter and on 9th April, 2009 a Gazette Notification was issued in which grounds were given to conclude that the objectionable book contained matters which were deliberately and maliciously intended to insult the religious beliefs of the devotees of Sri Aurobindo thereby affecting public peace and tranquility making the publication of the objectionable book\\nan offence punishable Under Sections 295-A and 153-A of the Indian Penal Code.6 Therefore, every copy of the objectionable book, its copies, reprints, translations or other documents containing extracts taken therefrom was forfeited to the Government.\\n16. The relevant extract of the Gazette Notification dated 9th April, 2009 reads as follows:\\nS.R.O. No. 127/2009 - Where as on a careful consideration of materials placed on record, it appears to the State Government that the book titled as'The Lives of Sri Aurobindo\\\" written by Peter Heehs and published by Columbia University Press, New York, U.S.A. contain objectionable matters depicting distorted facts about the life and character of Sri Aurobindo. And whereas the State Government, on the following grounds, is of the opinion that the said book contains matters which are deliberately and maliciously intended to insult religious beliefs of millions of Indians who idolize Sri Aurobindo as a National Hero and incarnation of \\\"Almighty\\\" and which promotes communal disaffection affecting public peace and tranquility the publication of which is punishable Under Sections 295A and 153A of the Indian Penal Code, 1860 (45 of 1860), namely-\\n(a) the book depicts wrong and distorted facts on the life and character of Sri Aurobindo, which is clearly blasphemous\\n(b) the book contains absurd, irrelevant and self-made stories, which do not have any scriptural support and has caused widespread indignation amongst the devotees\\n(c) the writings portrayed in the book have seriously hurt the sentiments of the apostles of Sri Aurobindo and the said book, with deliberate and malicious intention has insulted the religious beliefs of millions;\\n(d) the said book, inter alia, narrates at page 245 that \\\"but those familiar with the literature of psychiatry and clinical psychiatry may be struck by the similarity between Aurobindo's powers and experiences and the symptoms of schizophrenia\\\";\\n(e) it is mentioned at page 399 that \\\"Early in the afternoon the Mother rejoined him, and they walked together to the small outer room where they sat together on a sofa, the Mother on Sri Aurobindo's right. Here they remained for the next few hours as ashramites and visitors-more than three thousand by the end of the 1940s-passed before them one by one, \\\"There is no suggestion of a vulgar jostle anywhere in the moving procession,\\\" a visitor noted. \\\"The mystic sits bare-bodied except for a part of his dhoti thrown around his shoulders, A kindly light plays in his eyes,\\\" Sri Aurobindo looked directly at each person for a moment \\\"the moving visitor is conscious of a particular contact with these [eyes] as he bends down to do his obeisance. They leave upon him a mysterious 'feel' that baffles description. The contact, almost physical, instills a faint sense of a fragrance into his heart and he has a perception of a glow akin to that spreading in every fibre of his being.\\\" Most visitors had similarly positive experiences. But some, particularly those from the West, were distracted by the theatricality of the setting and the religiosity of the pageantry.\\\"\\nNow, therefore, in exercise of the powers conferred by Sub-section (1) of Section 95 of the Code of Criminal Procedure, 1973 (2 of 1974), the State Government do hereby declare that every copy of the book titled \\\"The Lives of Sri Aurobindo\\\" written by Peter Heehs and published by Columbia University Press New York, U.S.A. its copies, reprints, translations or other documents containing extracts taken therefrom be forfeited to the Government.\\n17. Notwithstanding the above coercive action taken by the Government of Orissa and the Government of India, the Appellants did not take any steps to expel Peter Heehs from the Ashram or to sever all ties of the Trust with him; no restatement was made by the Trust disassociating itself from the objectionable book and no steps were taken by the Appellants to stop the publication of the book by contacting Columbia University Press in the United States, while independent organizations such as Google, Flipkart and A1 Books made the objectionable book permanently unavailable on their websites and through sales channels in India.\\n18. On the contrary, the Appellants stood financial guarantee for renewal of Peter Heehs' visa to stay in India. Notwithstanding this, the devotees of Sri Aurobindo and the residents of the Ashram continued to persuade the Appellants and addressed to them\\nfurther letters dated 28th May, 2010 and 2nd July, 2010 and several other letters. The\\nonly replies received from the Appellants were on 21st June, 2010 and 22nd July, 2010 but no clear stand was taken therein to redress the grievances of the Respondents. It was alleged in the plaint that these acts of omission and commission by Appellants Nos. 2 to 6 was a clear indication that they were mismanaging the affairs of the Trust and needed to be removed.\\n19. Leave to sue was granted by the Trial Judge to the Respondents and summons was then issued in the civil suit to the Appellants who preferred I.A. No. 494 of 2011 to revoke the leave granted. This application was dismissed by the Trial Judge by an order\\ndated 6th October, 2012.\\nOrder of the Trial Court\\n20. The Trial Court was of the view that where leave is granted Under Section 92 of the Code of Civil Procedure without notice to the Defendants in the suit, those Defendants would have a right to apply for revocation of leave. However, since leave was granted to the Respondents in the present case after giving full opportunity to the Appellants to put forth their case, the question of revocation would arise only after evidence is led in the matter and on final determination of the suit.\\n21.The Trial Court rejected the contention of the Appellants that the documents referred to and relied upon by the Respondents were fabricated on the ground that this could be adjudicated only after oral and documentary evidence was led on both sides in a full-fledged trial. It was also noted that several impleadment applications were filed in the suit for being heard in the matter. Therefore if leave is revoked, those applicants would lose their right and the real truth would not come out.\\n22. Based on the above reasoning the Trial Judge rejected the application to revoke the leave granted to the Respondents.\\n23. Feeling aggrieved, the Appellants preferred a civil revision petition being C.R.P. (P.D.) No. 4357 of 2012 which came to be dismissed by the impugned judgment and\\norder dated 2nd April, 2013 by the Madras High Court.7\\nDecision of the High Court\\n24. The High Court took the view that the main allegation in the plaint is with regard to the objectionable book written by Peter Heehs who was allowed to reside in the Ashram and allowed access to the archives of the Ashram.\\n25. The High Court took into consideration the law laid down by this Court inSwami Parmatmanand Saraswati v. Ramji Tripathi MANU/SC/0023/1974 : (1974) 2 SCC 695 to hold that only the allegations in the plaint should be looked into in the first instance to determine whether the suit filed by the Respondents falls within the scope and ambit of Section 92 of the Code of Civil Procedure. However, reliance was also placed on Vidyodaya Trust v. Mohan Prasad R and Ors. MANU/SC/7227/2008 : (2008) 4 SCC 115 to hold that the Court should go beyond the relief prayed for and focus on the basis on which the suit was filed and whether it was for vindicating public rights. Taking the law into consideration as well as the averments made in the plaint, the High Court held as follows:\\nAccording to me, for the purpose of deciding the issue involved in this revision, there is no necessity to go into the veracity of the contents of the book. Admittedly, the Plaintiffs have not filed the copy of the book and it is their allegation that the book has not been published in India and it will be available for access only through the Internet. In my opinion, in the absence of producing the book before this Court, it is not possible to comment on the statements made in the book about Sri Aurobindo. Even assuming that in the said book, derogatory remarks are made against Sri Aurobindo and his relationship with the Mother, in my opinion, the revision Petitioners cannot be held responsible for the same as admittedly, the revision Petitioners have not sponsored the book nor published the book under the aegis of Aurobindo Ashram. The only allegation made against the revision Petitioners is that they have not taken any steps to remove such a person from the Ashram. According to me, such inaction on the part of the revision Petitioners cannot be brought into the caption of breach of trust. Nevertheless, having regard to the scope of Section 92 of the Code of Civil Procedure and as per the law laid down by the Honourable Supreme Court in Vidyodaya Trust case, the court has to go beyond the relief and focus on the basis for which the suit was filed to find out whether a suit can be entertained Under Section 92 of the Code of Civil Procedure.\\n26. Thereafter, the High Court held that since the Ashram had nothing to do with the publication of the objectionable book by one of its inmates it could not be held that there is a breach of trust. However (and this is important) the High Court concluded that since the Appellants had not taken any action to secure the ban of the objectionable book or to take any action against Peter Heehs, the Respondents had made out a case to bring the suit within the ambit of Section 92 of the Code of Civil Procedure and therefore the Trial Court was right in rejecting the application to revoke leave. It was also held that under these circumstances, the Respondents had no personal interest in the matter and the suit was not filed by them to vindicate any personal interest. Consequently, they had the necessary locus to file a suit Under Section 92 of the Code of Civil Procedure.\\n27. The High Court also held, reversing the Trial Court in this regard, that merely because leave had been granted after hearing the Appellants, it would not be a ground to deny to them the right to file an application for revocation of leave.\\n28. On the above basis, the High Court rejected the revision petition and it is under these circumstances that the rejection is under challenge before us.\\nDiscussion and findings\\n29. The sum and substance of the grievance of the Respondents is really two-fold: firstly, the Appellants failed to take any positive action to prohibit the availability of the objectionable book or dissociate themselves from the objectionable book; secondly, instead of taking some coercive action against Peter Heehs (such as removing him from the Ashram) the Appellants assisted him in getting a visa for his continued stay in India by standing guarantee for him. 30. In our opinion, the second grievance would arise only if there is substance in the first grievance, namely, that the Appellants failed to take proactive measures to have the objectionable book proscribed and that they failed to dissociate themselves from the contents of the book. This really begs the question whether the objectionable book ought at all to be proscribed or its sale prohibited. As we have seen above, the matter is very much alive before the Orissa High Court and it is for that Court to take a final call on the legality or otherwise of the action taken by the concerned authorities in the State in prohibiting the availability of the objectionable book. Until that decision is taken by the High Court, it would be premature to hold that the book is objectionable enough as not to be made available to readers.\\n31. In Swami Paramatmanand Saraswati it was held by this Court (relying upon several earlier decisions) that it is only the allegations made in the plaint that ought to be looked into in the first instance to determine whether the suit filed lies within the ambit of Section 92 of the Code of Civil Procedure. It was also held that if the allegations in the plaint indicate that the suit has been filed to remedy the infringement of a private right or to vindicate a private right, then the suit would not fall within the ambit of Section 92 of the Code of Civil Procedure. Finally, it was also held that in deciding whether the suit falls within the ambit of Section 92 of the Code of Civil Procedure, the Court must consider the purpose for which the suit was filed. This view was reiterated in Vidyodaya Trust.\\n32. Considering the purpose of the suit filed by the Respondents, it is quite clear that it was to highlight the failure of the Appellants to take action against the availability of the objectionable book and against the author. As we have noted above, the issue whether the book is objectionable or not, whether it deserves to be proscribed or not, whether it violates the provisions of Section 153-A or Section 295-A of the Indian Penal Code has yet to be determined by the Orissa High Court. Until that determination is made, it would be premature to expect the Appellants to take any precipitate action in the matter against the author.\\n33. The best that the Appellants could have done under the circumstances was to make it clear whether they have anything to do with the objectionable book or not. The High Court has noted quite explicitly that the Appellants have not sponsored the book nor was it published under the aegis of the Aurobindo Ashram. The Appellants have also, it may be recalled, expressed displeasure with the contents of the objectionable book\\nthrough the communication of 11th November, 2008. This being the position, we are of the opinion that the Appellants have done what could reasonably be expected of them in relation to the objectionable book, pending a determination by the Orissa High Court.\\n34. The High Court has effectively faulted the Appellants for not making the first strike to secure a ban on the objectionable book. This is really a question of the degree of reaction to the objectionable book on which we would not like to comment. The Appellants could have expressed their displeasure over the contents of the objectionable book, or dissociated themselves from the objectionable book or even taken proactive steps to have the objectionable book banned or proscribed. That the Appellants chose only to express their displeasure may be construed as a mild reaction (as compared to outright condemnation of the objectionable book), particularly since the Appellants had nothing to do with its publication. But the question is whether the mild reaction is perverse or could in any way be held to be a breach of trust or an absence of effective administration of the Trust warranting the removal of the trustees. We do not think so. Failure to take steps to ban a book that is critical of the philosophical and spiritual guru of a Trust would not fall within the compass of administration of the Trust. It might be an omission of the exercise of proper discretion on the part of the trustees, but certainly not an omission touching upon the administration of the Trust. We are not in agreement with the High Court that the failure of the Appellants to take the initiative in banning the objectionable book gives rise to a cause of action for the removal of the trustees of the Trust and settling a scheme for its administration. The trustees of a trust are entitled to a wide discretion in the administration of a trust. A disagreement with the exercise of the discretion (however passionate the disagreement might be) does not necessarily lead to a conclusion of maladministration, unless the exercise of discretion is perverse. In our opinion, the High Court ought to have allowed the application filed by the Appellants for the revocation of leave granted to the Respondents to initiate proceedings Under Section 92 of the Code of Civil Procedure, in the facts of this case.\\n35. We were invited to express a view on the constitutional freedom of speech and expression guaranteed by Article 19(1)(a) of the Constitution. It is not at all necessary for us to do so. The Orissa High Court might be called upon to do so, depending on the views of the contesting parties, one of whom we were told, is the author of the objectionable book. We express no opinion on the issue and leave the matter at that.\\n36. This being our conclusion with regard to the first grievance of the Respondents, their second grievance is rather premature. It would arise only if and when appropriate directions are issued by the Orissa High Court in the pending litigation.\\nConclusion\\n37. We find merit in the appeal and accordingly set aside the impugned judgment and order of the High Court and allow the application filed by the Appellants for revocation of leave. The parties are left to bear their own costs and once again consider an amicable settlement of their dispute.\\n1 Vidyodaya Trust v. Mohan Prasad R, MANU/SC/7227/2008 : (2008) 4 SCC 115\\n2 Subsequently renumbered as O.S. No. 15/2011\\n3 92. Public charities.--(1) In the case of any alleged breach of any express or constructive trust created for public purposes of a charitable or religious nature, or where the direction of the Court is deemed necessary for the administration of any such trust, the Advocate-General, or two or more persons having an interest in the trust and having obtained the leave of the Court, may institute a suit, whether contentious or not, in the principal Civil Court of original jurisdiction or in any other Court empowered in that behalf by the State Government within the local limits of whose jurisdiction the whole or any part of the subject-matter of the trust is situate to obtain a decree--\\n(a) removing any trustee;\\n(b) appointing a new trustee;\\n(c) vesting any property in a trustee;\\n(cc) directing a trustee who has been removed or a person who has ceased to be a trustee, to deliver possession of any trust property in his possession to the person entitled to the possession of such property;\\n(d) directing accounts and inquiries;\\n(e) declaring what proportion of the trust property or of the interest therein shall be allocated to any particular object of the trust;\\n(f) authorising the whole or any part of the trust property to be let, sold, mortgaged or exchanged;\\n(g) settling a scheme; or\\n(h) granting such further or other relief as the nature of the case may require. (2) xxx xxx xxx xxx\\n(3) xxx xxx xxx xxx\\n495. Power to declare certain publications forfeited and to issue search warrants for the same.--(1) Where--\\n(a) any newspaper, or book, or\\n(b) any document,\\nwherever printed, appears to the State Government to contain any matter the publication of which is punishable Under Section 124-A or Section 153-A or Section 153-B or Section 292 or Section 293 or Section 295-A of the Indian Penal Code (45 of 1860), the State Government may, by notification, stating the grounds of its opinion, declare every copy of the issue of the newspaper containing such matter, and every copy of such book or other document to be forfeited to Government, and thereupon any police officer may seize the same wherever found in India and any Magistrate may by warrant authorise any police officer not below the rank of sub-inspector to enter upon and search for the same in any premises where any copy of such issue or any such book or other document may be or may be reasonably suspected to be.\\n(2) In this section and in Section 96,--\\n(a) \\\"newspaper\\\" and \\\"book\\\" have the same meaning as in the Press and Registration of Books Act, 1867 (25 of 1867);\\n(b) \\\"document\\\" includes any painting, drawing or photograph, or other visible representation.\\n(3) No order passed or action taken under this section shall be called in question in any Court otherwise than in accordance with the provisions of Section 96.\\n5 295-A. Deliberate and malicious acts intended to outrage religious feelings of any class by insulting its religion or religious beliefs.--Whoever, with deliberate and malicious intention of outraging the religious feelings of any class of citizens of India, by words, either spoken or written, or by signs or by visible representations or otherwise, insults or attempts to insult the religion or the religious beliefs of that class, shall be punished with imprisonment of either description for a term which may extend to three years, or with fine, or with both.\\n6 153-A. Promoting enmity between different groups on grounds of religion, race, place of birth, residence, language, etc., and doing acts prejudicial to maintenance of harmony.--(1) Whoever--\\n(a) by words, either spoken or written, or by signs or by visible representations or otherwise, promotes or attempts to promote, on grounds of religion, race, place of birth, residence, language, caste or community or any other ground whatsoever, disharmony or feelings of enmity, hatred or ill-will between different religious, racial, language or regional groups or castes or communities, or\\n(b) commits any act which is prejudicial to the maintenance of harmony between different religious, racial, language or regional groups or castes or communities, and which disturbs or is likely to disturb the public tranquility, or\\n(c) organizes any exercise, movement, drill or other similar activity intending that the participants in such activity shall use or be trained to use criminal force or violence or knowing it to be likely that the participant\"\n        ],\n        \"semantic_type\": \"\",\n        \"description\": \"\"\n      }\n    },\n    {\n      \"column\": \"Catchphrases\",\n      \"properties\": {\n        \"dtype\": \"category\",\n        \"num_unique_values\": 98,\n        \"samples\": [\n          \"1. Second Appeal 2. Regular Civil Appeal 3. Original defendant 4. Original plaintiff 51. Second. Suit for Appeal 2. Regular Civil partition 6. Joint family properties 7. Plaintiff 8. Appe Defendant 9.al T 3. Original defendant 4. Original plaintiff 5. Suit for partition 6. Joint family properties 7. Plaintiff 8. Defendant 9. Trial Court 10. Appellate Court 11. Firstrial Court 10. Appellate Court 11. First Appellate Court 12. Will 13. Sound state of mind 14. Disposition 15. Father-in-law's house 16. Love and affection Appellate Court 12. Will 13. Sound state 17. Learned Appellate Court 18. Important fact 19. Counsel 20. Divorce 21 of mind 14. Disposition 15. Father-in-law's house 16. Love and affection 17. Lear. Custody 22. Habeas corned Appellate Court 18. Important factpus 23. Jurisdiction 24. Ex parte order 25. U 19. Counsel 20. Divorce 21. CCCJEA (Uniformustody 22. Jurisdiction 23. Inconvenient forum 24. Supervis Child-Custody Jurisdiction and Enforceory or superintendence jurisdictional area 25. Parement Actns patriae jurisdiction 26. Substantive proceedings 27. Procedural proceedings 28. Ape) 26. Foreign Court 27. Domicile 28.x Court (Supreme Court) 29. Special Leave Petition 30. Stay Ordinary place of residence 29 . Appellate review31. Merits 30. Incon 32. Gvenient forum 31. Supervisory or superintendence jurisdictional area 32. Pareoverning law 33. Expeditiously 34. Decns patriae jurisdiction 33.ree 35. Appeal 36. Amicus curiae 37. Self-acquired properties 38. K Substantive proceedings 34. Procedural proceedings 35. Apex Court (Supreme Court)arta 39. J 36. Special Leave Petition 37. Stay oint family funds 40. Ten38. Meritsancy and Agricult 39. Governing law 40. Expedural Lands Act 41. Revenue recordsitiously 41. Decree 42. Judgment 43 42. Metes and bounds 43. Mesne profits 44. Written Statement 45. Issues 46. Decree 47. Will. Issues 44. Evidence 45. execution 48. Disposing state of mind 49. HUF (Hindu Undivided Family) 50. Plaintiff's share 51. Deceased 52. Revenue records 53. Fabricated Will 54. Sep Tenable 46. Error 47. Amicus curiae 48. Self-acquired properties 49. Karation 55. Witness 56. Documentary evidence 57. Soundnessarta 50. Joint family funds 51. Bombay Ten of mind 58. Illness 59. Evidence on record 60. Judancy and Agricultural Lands Act 52. Revenue records 53. Metes and bounds 54. Mesne profits 55. Fabricated Will 56. Dismissal 57. Partitiongment and decree 61. Ten 58. Hindu Undivided Family (HUF) 59. Hindu Succession Actable in the eyes of law 62, 1956 60. Coparcener 61. Mitakshara coparc. Serious error of facts and law 63. Second appenary property 62. Disposition by Will 63. Indianellate Court 64. Re-appreciate the evidence on record 65. Succession Act, 192 Hindu5 64. Sound disposing state Succession Act, 1956 of mind 65. Fabricated document 66. Test 66. Coparcener 67. Mitakshara coparcenary property 68. Disposition by Will 69. Indian Succession Act, 1925 70. Testamentary disposition 71. Hindu Mitakshara copator 67. Intestate 68. Will executed in sound state of mind 69. Legal necessity 70. Attarcenary property 72. Joint family propertyest 73. Devolution of interest 74. Intestate succession ing75. Testate succession 76. Tenancy-in-common 77. Joint tenants 78. Per capita 79. Per stirpes 80. Class-I of the Schedule witness 71. Scribe 72. Hindu81. Female heir 82. Survivorship 83. Ten Succession (Amendment) Act, 2005 7ancy and Agricultural Lands Act 84. Revenue records 85. Fab3. Devolution of interest in coparcenary property ricated Will 86. Separation 87. Witness 88. Documentary evidence 8974. Mode of succession of two or more heirs 75. Per cap. Soundness of mind 9ita 76. Per stirpes 77. Tenants0. Illness 91. Evidence on record 92. Judgment and decree 93. Tenable in the eyes of law 94. Serious error of facts and law 95.-in-common 78. Joint tenants Second appellate Court 96. Re-appreciate the 79. Notional partition 80. evidence on record. Share of the female heirs 81. Fluctuations in the fortunes of the coparceners 82. Survivorship 83. Testate succession 84. Intestate succession 85. Instrument 86. Execution 87. Registered 88. Attested 89. Probate 90. Executor 91. Beneficiary 92. Caveat 93. Notice 94. Probate petition 95. Probate grant 96. Will contest 97. Will challenge 98. Testamentary disposition 99. Legal heirs 100. Legal representative.\",\n          \"Decree\\nAdjudicating authority\\nSummary proceedings\\nDebt recovery\\nAppellants\\nDefendants\\nCounsel\\nWrit petition\\nLetters Patent Appeal (LPA)\\nSingle Judge\\nDivision Bench\\nSLP (Special Leave Petition)\\nExecuting court\\nOrder XXI Rule 90 of the Code of Civil Procedure, 1908 (CPC)\\nStatus quo\\nLimitation\\nFraud\\nImmovable property\\nProclamation of sale\\nMaterial irregularity\\nDue diligence\\nProsecuting with due diligence\\nGood faith\\nDefect of jurisdiction\\nCause of a like nature\\nExclusion of time\\nProceedings bona fide in court without jurisdiction\\nMisjoinder of parties or of causes of action\\nPlaintiff\\nApplicant\\nRelief\\nCivil proceeding\\nSuit\\nAppeal\\nRevision\\nFirst instance\\nJudgment\\nOrder\\nPermission\\nFresh suit\\nMisled\\nHigh Court\\nDefendant\\nRateable distribution of assets\\nInterests\\nAffected by the sale\\nShare\\nPurchaser\\nMaterial irregularity or fraud\\nProceedings relating to the same matter in issue\\nProsecuted in good faith\\nUnable to entertain it\\nProclamation of sale\\nIrregularity or fraud\\nSubstantial injury\\nGround which the applicant could have taken\\nDate on which the proclamation of sale was drawn up. Deepak Gupta, J. is presiding over two civil appeal cases (Civil Appeal Nos. 1643-1644 of 2020 and Civil Appeal No. 1647 of 2020).\\nThe first case, Civil Appeal Nos. 1643-1644 of 2020, involves M/s. Abhilasha Construction (R-3) and Shree Mahalaxmi Mercantile Co-op Bank Ltd. (R-2). R-3 obtained a loan from R-2 but failed to repay it, leading to summary proceedings for debt recovery. During the proceedings, R-3 applied for the release of 12 flats and 2 penthouses, but failed to deposit the required amount. The adjudicating authority granted leave to contest the suit on the condition that 33% of the claimed amount be deposited, but this was also not done. A decree for a sum of Rs. 1,89,94,105.50 was passed in favor of R-2.\\nThe second case, Civil Appeal No. 1647 of 2020, concerns the advertisement and sale of a bungalow on 13.01.2008 and 03.03.2008, respectively.\",\n          \"Section 92 of the Code of Civil Procedure: This section deals with public charities and allows the Advocate-General or interested parties to institute a suit to remove a trustee, appoint a new trustee, vest property in a trustee, or settle a scheme, among other things.\\nSection 95 of the Code of Criminal Procedure: This section grants the State Government the power to declare certain publications forfeited and to issue search warrants for the same if the publication contains matter punishable under various sections of the Indian Penal Code.\\nSection 124-A, Section 153-A, Section 153-B, Section 292, Section 293, and Section 295-A of the Indian Penal Code: These sections outline various offenses related to maintaining harmony, outraging religious feelings, and obscene or deliberate and malicious acts. The Respondents, residents or otherwise concerned with the Sri Aurobindo Ashram in Pondicherry, filed a civil suit (O.S. No. 15/2010) under Section 92 of the Code of Civil Procedure against the Appellants, trustees of the Sri Aurobindo Ashram Trust. The Respondents sought the removal of the Appellants as trustees and the appointment of new trustees due to the Appellants' failure to promote Sri Aurobindo's tenets and philosophy and their support of Peter Heehs, author of \\\"The Lives of Sri Aurobindo.\\\" The Respondents alleged that the book contained baseless distortions about Sri Aurobindo's life and that Peter Heehs impersonated as a founder of the archives to lend credibility to the book.\"\n        ],\n        \"semantic_type\": \"\",\n        \"description\": \"\"\n      }\n    }\n  ]\n}"
            }
          },
          "metadata": {},
          "execution_count": 5
        }
      ]
    },
    {
      "cell_type": "code",
      "source": [
        "print(df.info())"
      ],
      "metadata": {
        "colab": {
          "base_uri": "https://localhost:8080/"
        },
        "id": "-Ylb1CzP_YMg",
        "outputId": "98b0379a-193b-4400-9a23-7aa24992af28"
      },
      "execution_count": null,
      "outputs": [
        {
          "output_type": "stream",
          "name": "stdout",
          "text": [
            "<class 'pandas.core.frame.DataFrame'>\n",
            "RangeIndex: 200 entries, 0 to 199\n",
            "Data columns (total 2 columns):\n",
            " #   Column        Non-Null Count  Dtype \n",
            "---  ------        --------------  ----- \n",
            " 0   Text          200 non-null    object\n",
            " 1   Catchphrases  200 non-null    object\n",
            "dtypes: object(2)\n",
            "memory usage: 3.2+ KB\n",
            "None\n"
          ]
        }
      ]
    },
    {
      "cell_type": "markdown",
      "source": [
        "#**Pre-processing**"
      ],
      "metadata": {
        "id": "c2LE4ML-l-cu"
      }
    },
    {
      "cell_type": "code",
      "source": [
        "df['Text'] = df['Text'].apply(lambda x: x.lower())\n",
        "df['Text'] = df['Text'].str.replace('[^\\w\\s]', '')\n",
        "\n",
        "stop_words = set(stopwords.words('english'))\n",
        "df['Text'] = df['Text'].apply(lambda x: ' '.join([word for word in x.split() if word not in stop_words]))"
      ],
      "metadata": {
        "id": "zIe-52rFrcF8"
      },
      "execution_count": null,
      "outputs": []
    },
    {
      "cell_type": "code",
      "source": [
        "df['Text']"
      ],
      "metadata": {
        "colab": {
          "base_uri": "https://localhost:8080/"
        },
        "id": "4MPcOcG67zEw",
        "outputId": "5889612f-0c70-44a7-e191-701726b4f3bf"
      },
      "execution_count": null,
      "outputs": [
        {
          "output_type": "execute_result",
          "data": {
            "text/plain": [
              "0      dipak misra, j. 1. leave granted. 2. appellant...\n",
              "1      u.u. lalit, j. 1. state bank india 13 banks1 f...\n",
              "2      ﻿a.m. khanwilkar, j. 1. leave granted. judgmen...\n",
              "3      ranjan gogoi, j. 1. leave granted. 2 . writ pe...\n",
              "4      jasti chelameswar, j. 1. leave granted 2 . m/s...\n",
              "                             ...                        \n",
              "195    ﻿n.v. ramana, j. 1. appeals special leave file...\n",
              "196    ﻿madan b. lokur, j. 1. leave granted. judgment...\n",
              "197    ﻿abhay manohar sapre, j. 1. leave granted. 2 ....\n",
              "198    ﻿aniruddha bose, j. 1. leave granted. judgment...\n",
              "199    ﻿b.r. gavai, j. 1. appeals challenge common ju...\n",
              "Name: Text, Length: 200, dtype: object"
            ]
          },
          "metadata": {},
          "execution_count": 8
        }
      ]
    },
    {
      "cell_type": "markdown",
      "source": [
        "#**Word Embedding**"
      ],
      "metadata": {
        "id": "Dw49e2h9oyNC"
      }
    },
    {
      "cell_type": "code",
      "source": [
        "tokenizer = Tokenizer()\n",
        "tokenizer.fit_on_texts(df['Text'])\n",
        "vocab_size = len(tokenizer.word_index) + 1\n",
        "\n",
        "sequences = tokenizer.texts_to_sequences(df['Text'])\n",
        "max_length = max(len(seq) for seq in sequences)\n",
        "padded_sequences = pad_sequences(sequences, maxlen=max_length, padding='post')"
      ],
      "metadata": {
        "id": "ZXUtJyTHrfeG"
      },
      "execution_count": null,
      "outputs": []
    },
    {
      "cell_type": "code",
      "source": [
        "labels = []\n",
        "\n",
        "for i, text in enumerate(df['Text']):\n",
        "    text_words = text.split()\n",
        "    catchphrase_words = df['Catchphrases'][i].split()\n",
        "    label_seq = []\n",
        "    for word in text_words:\n",
        "        if word in catchphrase_words:\n",
        "            label_seq.append(0)  # 'B'\n",
        "            catchphrase_words.remove(word)\n",
        "        elif label_seq and label_seq[-1] == 0:\n",
        "            label_seq.append(1)  # 'I'\n",
        "        else:\n",
        "            label_seq.append(2)  # 'O'\n",
        "\n",
        "    label_seq += [2] * (max_length - len(label_seq))\n",
        "    labels.append(label_seq)\n",
        "\n",
        "labels = np.array(labels)"
      ],
      "metadata": {
        "id": "ZXC91Wb7rjKP"
      },
      "execution_count": null,
      "outputs": []
    },
    {
      "cell_type": "code",
      "source": [
        "documents = [TaggedDocument(doc, [i]) for i, doc in enumerate(df['Text'])]\n",
        "doc2vec_model = Doc2Vec(documents, vector_size=100, window=3, min_count=1, workers=4)"
      ],
      "metadata": {
        "colab": {
          "base_uri": "https://localhost:8080/"
        },
        "id": "x-ERNVyJrl_j",
        "outputId": "c52944d9-3513-46c3-b943-742751bd3d57"
      },
      "execution_count": null,
      "outputs": [
        {
          "output_type": "stream",
          "name": "stderr",
          "text": [
            "WARNING:gensim.models.doc2vec:Each 'words' should be a list of words (usually unicode strings). First 'words' here is instead plain <class 'str'>.\n"
          ]
        }
      ]
    },
    {
      "cell_type": "markdown",
      "source": [
        "#**Embedding Matrix**"
      ],
      "metadata": {
        "id": "pH6iiknJpa1d"
      }
    },
    {
      "cell_type": "code",
      "source": [
        "embedding_dim = 100\n",
        "embedding_matrix = np.zeros((vocab_size, embedding_dim))\n",
        "for word, i in tokenizer.word_index.items():\n",
        "    try:\n",
        "        embedding_vector = doc2vec_model.wv[word]\n",
        "    except KeyError:\n",
        "        embedding_vector = np.random.uniform(-0.25, 0.25, embedding_dim)\n",
        "    embedding_matrix[i] = embedding_vector"
      ],
      "metadata": {
        "id": "9iYQ3yl0robk"
      },
      "execution_count": null,
      "outputs": []
    },
    {
      "cell_type": "code",
      "source": [
        "print(embedding_vector)"
      ],
      "metadata": {
        "colab": {
          "base_uri": "https://localhost:8080/"
        },
        "id": "418Z7S6d8dly",
        "outputId": "6796f953-37fb-4ba9-ca8c-03f4de8e4eda"
      },
      "execution_count": null,
      "outputs": [
        {
          "output_type": "stream",
          "name": "stdout",
          "text": [
            "[ 0.03146301 -0.04241385 -0.01739126  0.06113508  0.00776357 -0.1940488\n",
            " -0.24638997  0.10171869  0.01145234 -0.05911075 -0.16306732  0.02559243\n",
            "  0.15414191 -0.12232738 -0.10890217 -0.03966722 -0.07090547  0.08275879\n",
            " -0.00872382  0.04897892  0.12934095 -0.03939585  0.11620134  0.16144918\n",
            "  0.08651817  0.06143934  0.2206835   0.01321031  0.19566756  0.14011854\n",
            " -0.23253964  0.15094848 -0.09806223 -0.07587779 -0.08708489 -0.13376489\n",
            "  0.02552228 -0.17036379  0.21111715 -0.10593357 -0.17827871 -0.16598403\n",
            "  0.03052925 -0.09660225 -0.00133673  0.18377165 -0.08152463  0.06473488\n",
            "  0.16028268 -0.01392791  0.13466776  0.01760714  0.2213569  -0.10896495\n",
            " -0.22873621  0.17036638 -0.12718521 -0.08618734 -0.00949721 -0.23034158\n",
            "  0.03713617 -0.12075659 -0.01283773 -0.05809856 -0.06023437 -0.23429089\n",
            " -0.22627569 -0.08333825  0.00116785 -0.16472417 -0.08127919  0.23044871\n",
            " -0.15774182  0.07368158  0.18924578  0.06060995  0.22432711 -0.21642997\n",
            "  0.04706064 -0.0096659  -0.20385028 -0.19126999  0.23371181  0.03242915\n",
            "  0.02427236  0.04165774  0.16920321  0.08384662  0.18369968 -0.01271047\n",
            " -0.01042164  0.04534554 -0.01886635 -0.12315308 -0.12341601 -0.13359649\n",
            " -0.12566526 -0.04404167  0.05034039 -0.22862651]\n"
          ]
        }
      ]
    },
    {
      "cell_type": "code",
      "source": [
        "print(embedding_matrix)"
      ],
      "metadata": {
        "colab": {
          "base_uri": "https://localhost:8080/"
        },
        "id": "eLERDfqo8Yvq",
        "outputId": "aca79810-a734-4f58-d88e-c1c919a54a57"
      },
      "execution_count": null,
      "outputs": [
        {
          "output_type": "stream",
          "name": "stdout",
          "text": [
            "[[ 0.          0.          0.         ...  0.          0.\n",
            "   0.        ]\n",
            " [-0.19834372 -0.21657379  0.24375728 ... -0.11446495  0.1138432\n",
            "  -0.12549954]\n",
            " [ 0.19733731 -0.16246201  0.15119903 ...  0.11992944  0.0555561\n",
            "  -0.1015736 ]\n",
            " ...\n",
            " [-0.24250117  0.000805   -0.16631529 ... -0.24461556 -0.05271532\n",
            "   0.09498772]\n",
            " [ 0.1372467   0.07440186  0.01323015 ...  0.19475185 -0.02124131\n",
            "   0.14908556]\n",
            " [ 0.03146301 -0.04241385 -0.01739126 ... -0.04404167  0.05034039\n",
            "  -0.22862651]]\n"
          ]
        }
      ]
    },
    {
      "cell_type": "markdown",
      "source": [
        "#**Bi-LSTM Model**"
      ],
      "metadata": {
        "id": "-l5iZdIdpoA_"
      }
    },
    {
      "cell_type": "code",
      "source": [
        "inputs = Input(shape=(max_length,))\n",
        "\n",
        "embedding = Embedding(vocab_size, 100, weights=[embedding_matrix], input_length=max_length, trainable=False)(inputs)\n",
        "bilstm = Bidirectional(LSTM(256, return_sequences=True))(embedding)\n",
        "bilstm1 = Bidirectional(LSTM(128, return_sequences=True))(bilstm)\n",
        "bilstm2 = Bidirectional(LSTM(64, return_sequences=True))(bilstm1)\n",
        "bilstm3 = Bidirectional(LSTM(32, return_sequences=True))(bilstm2)\n",
        "output = TimeDistributed(Dense(3, activation='softmax'))(bilstm3)\n",
        "\n",
        "model = Model(inputs, output)\n",
        "model.compile(optimizer='adam', loss='sparse_categorical_crossentropy', metrics=['accuracy'])\n",
        "\n",
        "model.summary()"
      ],
      "metadata": {
        "colab": {
          "base_uri": "https://localhost:8080/"
        },
        "id": "ogogQMVHrrsb",
        "outputId": "3a52a2ad-e711-4c30-e0e7-e12b87cb98af"
      },
      "execution_count": null,
      "outputs": [
        {
          "output_type": "stream",
          "name": "stdout",
          "text": [
            "Model: \"model\"\n",
            "_________________________________________________________________\n",
            " Layer (type)                Output Shape              Param #   \n",
            "=================================================================\n",
            " input_1 (InputLayer)        [(None, 3484)]            0         \n",
            "                                                                 \n",
            " embedding (Embedding)       (None, 3484, 100)         1441800   \n",
            "                                                                 \n",
            " bidirectional (Bidirection  (None, 3484, 512)         731136    \n",
            " al)                                                             \n",
            "                                                                 \n",
            " bidirectional_1 (Bidirecti  (None, 3484, 256)         656384    \n",
            " onal)                                                           \n",
            "                                                                 \n",
            " bidirectional_2 (Bidirecti  (None, 3484, 128)         164352    \n",
            " onal)                                                           \n",
            "                                                                 \n",
            " bidirectional_3 (Bidirecti  (None, 3484, 64)          41216     \n",
            " onal)                                                           \n",
            "                                                                 \n",
            " time_distributed (TimeDist  (None, 3484, 3)           195       \n",
            " ributed)                                                        \n",
            "                                                                 \n",
            "=================================================================\n",
            "Total params: 3035083 (11.58 MB)\n",
            "Trainable params: 1593283 (6.08 MB)\n",
            "Non-trainable params: 1441800 (5.50 MB)\n",
            "_________________________________________________________________\n"
          ]
        }
      ]
    },
    {
      "cell_type": "markdown",
      "source": [
        "#**Model Train**"
      ],
      "metadata": {
        "id": "DMNxj7mhpvHL"
      }
    },
    {
      "cell_type": "code",
      "source": [
        "model.fit(padded_sequences, labels, epochs=5, batch_size=32)"
      ],
      "metadata": {
        "colab": {
          "base_uri": "https://localhost:8080/"
        },
        "id": "S4CyxFVWrum6",
        "outputId": "54ecc7de-7245-4791-f702-b4811f502722"
      },
      "execution_count": null,
      "outputs": [
        {
          "output_type": "stream",
          "name": "stdout",
          "text": [
            "Epoch 1/5\n",
            "7/7 [==============================] - 30s 998ms/step - loss: 0.6346 - accuracy: 0.8350\n",
            "Epoch 2/5\n",
            "7/7 [==============================] - 6s 851ms/step - loss: 0.2010 - accuracy: 0.9587\n",
            "Epoch 3/5\n",
            "7/7 [==============================] - 6s 816ms/step - loss: 0.2007 - accuracy: 0.9587\n",
            "Epoch 4/5\n",
            "7/7 [==============================] - 6s 870ms/step - loss: 0.2010 - accuracy: 0.9587\n",
            "Epoch 5/5\n",
            "7/7 [==============================] - 6s 817ms/step - loss: 0.2004 - accuracy: 0.9587\n"
          ]
        },
        {
          "output_type": "execute_result",
          "data": {
            "text/plain": [
              "<keras.src.callbacks.History at 0x7f391ff997b0>"
            ]
          },
          "metadata": {},
          "execution_count": 16
        }
      ]
    },
    {
      "cell_type": "code",
      "source": [
        "loss, accuracy = model.evaluate(padded_sequences, labels)\n",
        "print(\"Loss: %.2f\" % (loss*100))\n",
        "print(\"Accuracy: %.2f\" % (accuracy*100))"
      ],
      "metadata": {
        "colab": {
          "base_uri": "https://localhost:8080/"
        },
        "id": "KZBXxxJqr0eL",
        "outputId": "c2afd750-ad52-4bea-8189-c2a31accfed1"
      },
      "execution_count": null,
      "outputs": [
        {
          "output_type": "stream",
          "name": "stdout",
          "text": [
            "7/7 [==============================] - 6s 374ms/step - loss: 0.2002 - accuracy: 0.9587\n",
            "Loss: 20.02\n",
            "Accuracy: 95.87\n"
          ]
        }
      ]
    },
    {
      "cell_type": "markdown",
      "source": [
        "#**Install Libraries for CRF**"
      ],
      "metadata": {
        "id": "MJ6Op6_op2Md"
      }
    },
    {
      "cell_type": "code",
      "source": [
        "pip install sklearn-crfsuite"
      ],
      "metadata": {
        "colab": {
          "base_uri": "https://localhost:8080/"
        },
        "id": "YmnOhOqgRNr_",
        "outputId": "1c939576-9fc4-4e49-bcbd-2b5e41591ad6"
      },
      "execution_count": null,
      "outputs": [
        {
          "output_type": "stream",
          "name": "stdout",
          "text": [
            "Collecting sklearn-crfsuite\n",
            "  Downloading sklearn_crfsuite-0.3.6-py2.py3-none-any.whl (12 kB)\n",
            "Collecting python-crfsuite>=0.8.3 (from sklearn-crfsuite)\n",
            "  Downloading python_crfsuite-0.9.10-cp310-cp310-manylinux_2_17_x86_64.manylinux2014_x86_64.whl (1.1 MB)\n",
            "\u001b[2K     \u001b[90m━━━━━━━━━━━━━━━━━━━━━━━━━━━━━━━━━━━━━━━━\u001b[0m \u001b[32m1.1/1.1 MB\u001b[0m \u001b[31m5.7 MB/s\u001b[0m eta \u001b[36m0:00:00\u001b[0m\n",
            "\u001b[?25hRequirement already satisfied: six in /usr/local/lib/python3.10/dist-packages (from sklearn-crfsuite) (1.16.0)\n",
            "Requirement already satisfied: tabulate in /usr/local/lib/python3.10/dist-packages (from sklearn-crfsuite) (0.9.0)\n",
            "Requirement already satisfied: tqdm>=2.0 in /usr/local/lib/python3.10/dist-packages (from sklearn-crfsuite) (4.66.4)\n",
            "Installing collected packages: python-crfsuite, sklearn-crfsuite\n",
            "Successfully installed python-crfsuite-0.9.10 sklearn-crfsuite-0.3.6\n"
          ]
        }
      ]
    },
    {
      "cell_type": "code",
      "source": [
        "!pip install python-crfsuite"
      ],
      "metadata": {
        "colab": {
          "base_uri": "https://localhost:8080/"
        },
        "id": "ODyGltKIQdDg",
        "outputId": "57edaccc-dd32-4263-ce21-0bc1a5f0e541"
      },
      "execution_count": null,
      "outputs": [
        {
          "output_type": "stream",
          "name": "stdout",
          "text": [
            "Requirement already satisfied: python-crfsuite in /usr/local/lib/python3.10/dist-packages (0.9.10)\n"
          ]
        }
      ]
    },
    {
      "cell_type": "markdown",
      "source": [
        "#**Import Libraries for CRF**"
      ],
      "metadata": {
        "id": "hNK1u5RRp7_r"
      }
    },
    {
      "cell_type": "code",
      "source": [
        "import keras_contrib\n",
        "from keras_contrib.layers import CRF\n",
        "from sklearn_crfsuite import CRF\n",
        "import sklearn_crfsuite\n",
        "import pycrfsuite\n",
        "from sklearn_crfsuite import metrics"
      ],
      "metadata": {
        "id": "fIrnzkyWWU5Z"
      },
      "execution_count": null,
      "outputs": []
    },
    {
      "cell_type": "markdown",
      "source": [
        "#**CRF Model**"
      ],
      "metadata": {
        "id": "MLWZxYSiqEaw"
      }
    },
    {
      "cell_type": "code",
      "source": [
        "crf = CRF(algorithm='lbfgs', c1=1.0, c2=0.001)\n",
        "crf_output = output"
      ],
      "metadata": {
        "id": "Yvbha5m0Uzo9"
      },
      "execution_count": null,
      "outputs": []
    },
    {
      "cell_type": "code",
      "source": [
        "from keras.utils import to_categorical\n",
        "\n",
        "one_hot_labels = to_categorical(labels, num_classes=3)\n",
        "\n",
        "model = Model(inputs=inputs, outputs=crf_output)\n",
        "model.compile(optimizer='adam', loss='binary_crossentropy', metrics=['accuracy'])\n",
        "\n",
        "model.fit(padded_sequences, one_hot_labels, epochs=5, batch_size=32, validation_data=(padded_sequences, one_hot_labels))\n"
      ],
      "metadata": {
        "colab": {
          "base_uri": "https://localhost:8080/"
        },
        "id": "tFyAVUmlSliV",
        "outputId": "9b3f9770-3456-447d-d3d0-4a4d68fbf11d"
      },
      "execution_count": null,
      "outputs": [
        {
          "output_type": "stream",
          "name": "stdout",
          "text": [
            "Epoch 1/5\n",
            "7/7 [==============================] - 39s 3s/step - loss: 0.1247 - accuracy: 0.9587 - val_loss: 0.1252 - val_accuracy: 0.9587\n",
            "Epoch 2/5\n",
            "7/7 [==============================] - 8s 1s/step - loss: 0.1244 - accuracy: 0.9587 - val_loss: 0.1247 - val_accuracy: 0.9587\n",
            "Epoch 3/5\n",
            "7/7 [==============================] - 9s 1s/step - loss: 0.1245 - accuracy: 0.9587 - val_loss: 0.1247 - val_accuracy: 0.9587\n",
            "Epoch 4/5\n",
            "7/7 [==============================] - 8s 1s/step - loss: 0.1244 - accuracy: 0.9587 - val_loss: 0.1243 - val_accuracy: 0.9587\n",
            "Epoch 5/5\n",
            "7/7 [==============================] - 9s 1s/step - loss: 0.1244 - accuracy: 0.9587 - val_loss: 0.1243 - val_accuracy: 0.9587\n"
          ]
        },
        {
          "output_type": "execute_result",
          "data": {
            "text/plain": [
              "<keras.src.callbacks.History at 0x7f3910733100>"
            ]
          },
          "metadata": {},
          "execution_count": 22
        }
      ]
    },
    {
      "cell_type": "markdown",
      "source": [
        "#**Predictions**"
      ],
      "metadata": {
        "id": "ziXHEd9JqLzX"
      }
    },
    {
      "cell_type": "code",
      "source": [
        "predictions = model.predict(padded_sequences)\n",
        "print(predictions)"
      ],
      "metadata": {
        "colab": {
          "base_uri": "https://localhost:8080/"
        },
        "id": "F2DablXddtSR",
        "outputId": "c35de974-547c-4fab-9d61-95ef17001a75"
      },
      "execution_count": null,
      "outputs": [
        {
          "output_type": "stream",
          "name": "stdout",
          "text": [
            "7/7 [==============================] - 5s 389ms/step\n",
            "[[[0.08243462 0.07389201 0.84367335]\n",
            "  [0.06009332 0.04416538 0.8957413 ]\n",
            "  [0.04801075 0.03065212 0.9213371 ]\n",
            "  ...\n",
            "  [0.03010805 0.02063832 0.94925356]\n",
            "  [0.03574431 0.02440508 0.9398507 ]\n",
            "  [0.05533995 0.03740406 0.907256  ]]\n",
            "\n",
            " [[0.06783316 0.061314   0.87085277]\n",
            "  [0.04372946 0.03476739 0.9215031 ]\n",
            "  [0.03326113 0.02482508 0.9419138 ]\n",
            "  ...\n",
            "  [0.03010804 0.02063832 0.94925356]\n",
            "  [0.03574431 0.02440508 0.9398507 ]\n",
            "  [0.05533995 0.03740406 0.907256  ]]\n",
            "\n",
            " [[0.08031955 0.07178751 0.8478929 ]\n",
            "  [0.05765367 0.0425005  0.8998459 ]\n",
            "  [0.04577699 0.0295856  0.9246374 ]\n",
            "  ...\n",
            "  [0.03010805 0.02063832 0.94925356]\n",
            "  [0.03574431 0.02440508 0.9398507 ]\n",
            "  [0.05533995 0.03740406 0.907256  ]]\n",
            "\n",
            " ...\n",
            "\n",
            " [[0.08291093 0.07445236 0.84263676]\n",
            "  [0.06067361 0.0445674  0.894759  ]\n",
            "  [0.04861871 0.0308875  0.9204938 ]\n",
            "  ...\n",
            "  [0.03010805 0.02063832 0.94925356]\n",
            "  [0.03574431 0.02440508 0.9398507 ]\n",
            "  [0.05533994 0.03740405 0.907256  ]]\n",
            "\n",
            " [[0.07500049 0.06687897 0.85812056]\n",
            "  [0.0515646  0.03879802 0.9096374 ]\n",
            "  [0.0400135  0.02718255 0.9328039 ]\n",
            "  ...\n",
            "  [0.03010805 0.02063832 0.9492537 ]\n",
            "  [0.03574431 0.02440507 0.93985057]\n",
            "  [0.05533994 0.03740405 0.907256  ]]\n",
            "\n",
            " [[0.07943083 0.07091197 0.84965724]\n",
            "  [0.05652733 0.04182226 0.90165037]\n",
            "  [0.04471009 0.0291345  0.9261554 ]\n",
            "  ...\n",
            "  [0.03010805 0.02063832 0.9492537 ]\n",
            "  [0.03574431 0.02440508 0.9398507 ]\n",
            "  [0.05533994 0.03740405 0.907256  ]]]\n"
          ]
        }
      ]
    },
    {
      "cell_type": "code",
      "source": [
        "predictions = model.predict(labels)\n",
        "print(predictions)"
      ],
      "metadata": {
        "colab": {
          "base_uri": "https://localhost:8080/"
        },
        "id": "6YLwHjUtfNAE",
        "outputId": "4fba0dbf-d18b-414d-8393-3775bf81a9dc"
      },
      "execution_count": null,
      "outputs": [
        {
          "output_type": "stream",
          "name": "stdout",
          "text": [
            "7/7 [==============================] - 9s 471ms/step\n",
            "[[[0.06333964 0.05903164 0.87762874]\n",
            "  [0.04261008 0.03624504 0.9211449 ]\n",
            "  [0.03459289 0.02818183 0.93722534]\n",
            "  ...\n",
            "  [0.03016034 0.0207991  0.9490406 ]\n",
            "  [0.03579594 0.0245733  0.93963075]\n",
            "  [0.05539455 0.0376142  0.90699124]]\n",
            "\n",
            " [[0.06334004 0.05903281 0.8776272 ]\n",
            "  [0.04261072 0.03624564 0.9211436 ]\n",
            "  [0.03459318 0.02818213 0.9372247 ]\n",
            "  ...\n",
            "  [0.03016033 0.0207991  0.9490406 ]\n",
            "  [0.03579595 0.02457331 0.93963075]\n",
            "  [0.05539456 0.0376142  0.90699124]]\n",
            "\n",
            " [[0.06333959 0.05903162 0.8776288 ]\n",
            "  [0.04261006 0.03624502 0.9211449 ]\n",
            "  [0.03459288 0.02818182 0.93722534]\n",
            "  ...\n",
            "  [0.03016034 0.0207991  0.9490406 ]\n",
            "  [0.03579594 0.0245733  0.93963075]\n",
            "  [0.05539455 0.0376142  0.90699124]]\n",
            "\n",
            " ...\n",
            "\n",
            " [[0.06333981 0.05903211 0.8776281 ]\n",
            "  [0.0426103  0.03624529 0.9211444 ]\n",
            "  [0.03459303 0.02818192 0.937225  ]\n",
            "  ...\n",
            "  [0.03016034 0.0207991  0.9490406 ]\n",
            "  [0.03579595 0.02457331 0.93963075]\n",
            "  [0.05539458 0.03761421 0.9069912 ]]\n",
            "\n",
            " [[0.06333972 0.05903184 0.87762845]\n",
            "  [0.04261021 0.03624514 0.9211446 ]\n",
            "  [0.03459297 0.02818186 0.9372252 ]\n",
            "  ...\n",
            "  [0.03016033 0.0207991  0.9490406 ]\n",
            "  [0.03579595 0.02457331 0.93963075]\n",
            "  [0.05539458 0.03761421 0.9069912 ]]\n",
            "\n",
            " [[0.06333962 0.05903164 0.87762874]\n",
            "  [0.04261006 0.03624504 0.9211449 ]\n",
            "  [0.03459288 0.02818182 0.93722534]\n",
            "  ...\n",
            "  [0.03016033 0.0207991  0.9490406 ]\n",
            "  [0.03579594 0.02457331 0.93963075]\n",
            "  [0.05539457 0.03761421 0.90699124]]]\n"
          ]
        }
      ]
    },
    {
      "cell_type": "markdown",
      "source": [
        "#**Generated Catchphrases**"
      ],
      "metadata": {
        "id": "oz2bqGpDqQVm"
      }
    },
    {
      "cell_type": "code",
      "source": [
        "def remove_duplicates(text):\n",
        "    words = text.split()\n",
        "    unique_words = []\n",
        "\n",
        "    for word in words:\n",
        "        if word not in unique_words:\n",
        "            unique_words.append(word)\n",
        "\n",
        "    return ' '.join(unique_words)\n",
        "\n",
        "for i, seq in enumerate(labels):\n",
        "    catchphrases = []\n",
        "    non_catchphrases = []\n",
        "    keyword = \"\"\n",
        "    not_keyword = \"\"\n",
        "    original_text = df['Catchphrases'][i].split()\n",
        "    predicted_text = df['Text'][i].split()\n",
        "    for j, label in enumerate(seq):\n",
        "        if j < len(original_text):  # Check if j is within the bounds of original_text\n",
        "            if label == 0:  # B\n",
        "                keyword = original_text[j]\n",
        "            elif label == 1:  # I\n",
        "                keyword += \" \" + original_text[j]\n",
        "            elif label == 2:  # O\n",
        "                if not_keyword:\n",
        "                    non_catchphrases.append(not_keyword)\n",
        "                    not_keyword = \"\"\n",
        "        if label in [0, 1]:\n",
        "            catchphrases.append(keyword)\n",
        "\n",
        "    if keyword:\n",
        "        non_catchphrases.append(keyword)\n",
        "\n",
        "    catchphrases = remove_duplicates(' '.join(catchphrases))\n",
        "\n",
        "    print(f\"Document {i+1} catchphrases: {catchphrases}\")\n",
        "    #print(f\"Document {i+1} non-catchphrases: {', '.join(non_catchphrases)}\")"
      ],
      "metadata": {
        "colab": {
          "base_uri": "https://localhost:8080/"
        },
        "id": "aUeIJtetOVjo",
        "outputId": "d0a5ab8d-e043-4035-c9d5-2e67edbf3722"
      },
      "execution_count": null,
      "outputs": [
        {
          "output_type": "stream",
          "name": "stdout",
          "text": [
            "Document 1 catchphrases: proceeding against quashed. ropolitan and 294 the Indian Penal Technology Act, MLegal Keywords: Learned Metropolitan Magistrate Cognizance of offences Sections proceedings Prima facie Section 292 85 Instruments94 67 2000 Criminal Misc. Case 138 Manager Secretary Officer company Consent connivance Neglect be guilty\n",
            "Document 2 catchphrases: High Court Nos. 12191-12194 of 2016 Leave granted Petitioners-banks Respondent 1 to Personal guarantee Non-performing Recovery Tribunal OA 766 2013 amounts Interlocutory applications passport Arrest warrant Garnishee order Bengaluru Expeditious disposal Ad interim direction Special leave petitions This Indian. The have filed special challenging the dated 04.03.2016 passed by Karnataka at in Writ Petition 2016. had individually advanced loans No. 1. existing 2 and 3 corporate 21.12.2010 a personal respectively, guaranteeing repayment entire amount due. accounts were classified as non-performing assets, 9 before Bengaluru) seeking Rs. 6203,35,03,879.32 Despite requiring details their assets on Respondents never disclosed instead, tried secretly dispose with an intention recovery proceedings pending DRT Bengaluru. On 10 11 London Stock Exchange Bombay that resigned Chairman would be immediately. statement settle 3, issue\n",
            "Document 3 catchphrases: Judge Demerger Stamp duty limited company Instructions Perpetual Stipulation Obligation\n",
            "Document 4 catchphrases: Court Scheduled (Act of Act tribe Auction the III Constitution Protection Legislative State federal Counter filed\n",
            "Document 5 catchphrases: Procedure, 1973 Demand Payment sale Notification Infraction Approved valuer Condone Revision Maintainability an Accused for investigation Factual allegations Ingredients the offence of cheque statement Judgment\n",
            "Document 6 catchphrases: Appellant Himachal (Recovery of Loans Truck Industry Steel Warrant Withdrawal order hunting Arrears Statutory one ESI Corporation notice Section\n",
            "Document 7 catchphrases: Service Cheque Act, 1881 Section 177 drawee bank Retrospectivity SLP Branch of the cheque Cause jurisdiction Negotiable case Same drawer Different Taking Criminal Procedure 220 thereof\n",
            "Document 8 catchphrases: Receipt. The the interpretation of Section 13(2)(a) Consumer 1986 (the\n",
            "Document 9 catchphrases: evidence Concurrent Order Counsel Consumer Protection Act, 1986 Respondents District Forum\n",
            "Document 10 catchphrases: \n",
            "Document 11 catchphrases: \n",
            "Document 12 catchphrases: Cause Notice\n",
            "Document 13 catchphrases: of fact debt Post-dated loan agreement between two parties, where to advance a Rs. the up power project. provision for amount and interest. High Court seek quashing complaints arising crores, contending that way was due cheques were issued.\n",
            "Document 14 catchphrases: agreement Claims Default National Consumer Disputes Redressal Sons International, to foreign The buyers towards the policy. Respondent sought enhancement of defaulting presented 17 claims. Appellant rejected compliance with Clause 8(b) Commission upon case and make payments due under different claims, 9% appeals before\n",
            "Document 15 catchphrases: judgment and Order National Consumer Disputes Redressal Buyer's Agreement Occupancy Certificate Deficiency of service Complaint Ex-parte Interim Possession Letter Compensation. Indu Malhotra, the Final Case No. case involves in Sector 62, Course Extension Road, Gurugram. The Appellant-Builder launched project Respondent-Flat Purchaser entered into an dated 08.05.2012 to purchase apartment said for a total sale consideration per Clause 11.2 Agreement, was required apply from date with 180 days. commenced on 04.06.2012. within further grace period 6 months Agreement. part failure hand over possession flat. passed 06.02.2017 Commission, obtained 23.07.2018 however, submitted not interested account delay 3 years. towards compensation.\n",
            "Document 16 catchphrases: Service Refund National Consumer Redressal Commission Supreme Intestate Succession interest and compensation. The Developer leave petitions in the\n",
            "Document 17 catchphrases: Special Judge The Appellant possession. recovery was Judge, giving benefit of\n",
            "Document 18 catchphrases: Eviction Suit Court Supreme Appeal Dismissal. landlord then\n",
            "Document 19 catchphrases: 193 and FSL Report Code Site plan Sections 193, 195 211 Indian Penal of Criminal justice Expedient in the interest justice. The prosecutrix at Camp, Katwaria Sarai, entered her jhuggi about 9.00 PM on 28.07.1997 demanded a bidi to give them any Respondents/Accused switched electricity Respondent/Accused No. 2 Gunjesh Chaudhary hands clothes committed rape turn. an alarm fell unconscious. Bashira Khatoon, mother prosecutrix, came there saw coming medial aspects\n",
            "Document 20 catchphrases: United States Handbook Narcotics provision Admissibility Operating Procedure Reliability Threshold admissibility proof Document Expression Device Opposite party Possession Valuable assistance of India\n",
            "Document 21 catchphrases: Judgment Order 342, 324, Gravamen Abduction of authority Illicit intercourse Applicability Section 366 Penal Code Six months Appellant, Kavita 354, 323, and II) a discharge Respondent No. 2 in respect 506(ii) before the High Court, which filed an appeal\n",
            "Document 22 catchphrases: Act) Conviction Additional Sessions NDPS Act Prosecution Charge Witnesses Compliance Mandatory Procedure Res integra Evidence Admitted The Appellant was not in the and\n",
            "Document 23 catchphrases: of cheques Investments Promissory proof Revisional Ex parte debt Liability Cogent evidence Appeals Allowance K. Muralidharan, two The Appellants the Respondent involved in where Note for favour with and Rs. towards discharge their liability company. were encashment on which dishonoured Payment' instructions issued by statutory notices under Section debt/liability dues. not Pvt. Ltd. a hire-purchase both\n",
            "Document 24 catchphrases: Special Leave of proof Liability Cogent Rs. 37,00,000 with two company. The\n",
            "Document 25 catchphrases: Reference No. Indian Penal Code Accused Respondents Prosecution Case Firing Report) Evidence Enmity Implicated Ex.-P1 Cross-examination Act Weigh case Kesar Bai (PW-1) Opinion expert Fired Ex.-EC1 to\n",
            "Document 26 catchphrases: Court Judgment Criminal Appeal Accused Respondents Ghaziabad Uttar cart Sugarcane Injured Police FIR Inquest Investigating Officer Sub-Inspector R.K. Chaudhary PW6 Committed the Penal Code 302 Section 34 25 Complainant Naresh Pal Formal witness Conspiracy PW4 Credibility Trustworthiness Depositions Contradictory Conduct Flaws Prosecution case Guilt Article 136 Interference Merit Dismissed. appeal is filed by State of three accused in a murder case. The Mahipal and his were going appeared from Mahipal, resulting police station to hospital, where he injuries. investigation (PW6), who recorded prepared collected evidence, sent Sessions, read with convicted under 34, Indian sentenced them life imprisonment pay fine High finding Court.\n",
            "Document 27 catchphrases: Judgment Order High Court Jharkhand Trial Post-mortem Investigating Chaudhary PW6 Well-reasoned judgment\n",
            "Document 28 catchphrases: Substances Act, Code of Criminal Conviction Trial Singh v. Bench Punjab and Cosmetics 8 Narcotic drugs Psychotropic Rigorous imprisonment Commercial quantity power Court Reasons Judgment Embargo DEALING Medical or scientific purpose Prohibition Evidence Union India usage Intoxication Purchase Transport inter-State Export Import into purposes concerns the (NDPS Act) High Court's The Accused-Respondents convicted by under NDPS pendency\n",
            "Document 29 catchphrases: 366 Section Conviction Kidnapping Rape sentence R.I. (Rigorous Probable cause of evidence Guilt doubt Counsel Confirmation Case No. Criminal Appeal 2014 SLP (Crl.) Nos. 5416-17/2015 Supreme circumstances Balancing approach Rarest rare Proportionate Gravity the offence Reform Lack remorse Possibility to detail Learned Counsel. The Appellant, Viran Gyanlal Rajput, was convicted by Additional Sessions Judge, Mangaon, Raigad, for kidnapping, rape, and murder girl. victim last seen with Appellant while she running instance asphyxia death Under year's in default) a fine Rs. 200 (1\n",
            "Document 30 catchphrases: grants individuals the enforcement of their rights. Adversarial This is legal system in which parties present to a such as decides outcome based information presented prove or disprove Witness: A person who and can by opposing party's lawyer. protection: refers measures Hostile witness: hostile testify on evidence guilt criminal case. Sentencing: return for judicial proceeding. Indian trials. findings. The text highlights intimidation, lack program India\n",
            "Document 31 catchphrases: High Court of Appeal Judgment Sessions Judge Trial Explosive Substances Perversity (F.S.L.) report criminal cases police personnel, a Section the scene occurrence. Rioters started firing upon and his defense, mosque, rioters had already fled away. The F.I.R. P.M. on 16.03.2001. Accused No. 2-Respondent (Mumtaz alias Maulana) brought to 02.08.2001, 1-Respondent (Wasif Haider) was arrested Kanpur.\n",
            "Document 32 catchphrases: Fighter Jets, Indian Airforce, post-Kargil defence procurement, Defence Procurement Procedure (DPP), Services of Necessity, Role Combat Aircrafts (MMRCA), (IGA), Cabinet Committee award Corruption Act, Constitution the its origins in experience and was initiated commenced August evaluations, a Dassault L-1 January but withdrawal Request for relation Agreement with be delivered process became matter statement attributed regarding selection Partners.\n",
            "Document 33 catchphrases: 304/34, 302/324/323 read with (CrPC), Section 173, blunt weapon, Part-II, 302/34, 299, actus appellate court, corroboration, evidence, planted road rage Jaswinder Singh were traveling in a Maruti car they had accused over right of way. Gurnam blows, while the second did was taken Hospital, where PW3 went police station lodged an against first and prepared inquest examination determine cause death. A medical constituted\n",
            "Document 34 catchphrases: of Property Act, Bombay, Supreme Court, personal interest, public policy, contractual obligations, amendment, Insurance 1999, (9), General Clauses Punjab, Agricultural Market Shalimar Chemical Works Ltd., contra The Appellant, refused to register assignments insurance policies a company consideration. through wagering contracts. writ that LIC are freely tradable and in accordance with the 1938. High life\n",
            "Document 35 catchphrases: High Court new director. The Respondent had for a company in 1984 and requested the bank to from guarantees. A director, Mr. V. Nandakumar, was loan, suit recovery transferred Debts Recovery Tribunal. decreed restricted allowed on ground that challenged petition against writ while one\n",
            "Document 36 catchphrases: forum, insurer, insurance company, transit summary proceeding, factual dispute, necessary parties, joinder, allegation delivery, consignment, open note, invoice, surveyor, claim, revisional jurisdiction, of All Aluminium Alloy Conductor wire, filed complaints against Company Limited Rs. 43.59 lacs along with interest for wire during transit. was supplied the Power Grid Corporation 1.3.1998 to shortage noticed by PGCIL reported insurer appointed a surveyor who assessed lacs. However, ground loss. District Forum declined on preferred 21 lacs, making and carrier jointly liable. The revisions before that intimation stood not\n",
            "Document 37 catchphrases: claim proceeding, insurer, negligence, coordinate bench, compensation, social adjudication, fault liability, legislative regular disposal, merits, true scope, meaning, Section 170, trial made by a Court to 163A of from the conclusion matter parties. The and Ors. v. United India Oriental\n",
            "Document 38 catchphrases: of Orissa, loan, power Under Section 29 Finance Corporation Act, 1951, seized assets, auction, and machinery, theft/burglary, FIR, Respondent No. 1, insured, claim form, Burglary House Breaking Policy, policy, compensation application, read with 36-A Restrictive Trade Practices Delhi, Order, appeal. The Appellant, a wholly Public Sector Undertaking the finances medium scale industries State Orissa is also involved in setting up joint sector private entrepreneurs. Appellant extended term loan to M/s. Josna Casting Centre Ltd. As amount was not repaid, took over assets on 14-02-1992. On 23-01-1996, insured 1 for sum under Miscellaneous Accident Rs. 60,40,000/- 46,00,000/- Policy. time detected that parts plant 25-01-1997\n",
            "Document 39 catchphrases: loss, surveyor, repudiation, district theft, intimation, policy cover, costs.The National determining the ground Alloy Conductor Insurance Company Limited and Organization, claiming interest for shortage was who assessed However, lacs, making vehicles that there after delivery\n",
            "Document 40 catchphrases: pleadings, evidence, burden of animus deserendi, locus poenitentiae, marital offence, cause, separation, abandonment, forsaking, consent, willful neglect, torturing, maltreatment, branding, witchcraft, child. an appeal by the on cruelty and desertion. The for divorce wife claimed that to cruelty,\n",
            "Document 41 catchphrases: minor; best breast feeding; mental illness; paramount consideration; medical facilities; education; dispute between minor daughter, Poonam Pradhan. the petitioner-respondent, a petition under Section 25 to leave allegations and abandoned care of would be her well-being. up in his custody.\n",
            "Document 42 catchphrases: (LPA) Single Judge court Order of the Code Procedure, 1908 (CPC) Status quo Limitation Defect jurisdiction Cause parties or causes action Plaintiff Applicant Relief Civil proceeding Suit Appeal Revision instance Judgment Permission suit Misled Court Defendant Rateable assets Proceedings relating to same in good faith entertain it Proclamation sale Irregularity 2020 No. 1647 The first proceedings, R-3 12 flats required was also Rs. 1,89,94,105.50 favor respectively.\n",
            "Document 43 catchphrases: security, mortgage by deposit of title deeds, debt recovery, Debts Recovery possession notice, Power sale deed, assignment, writ petition, registration authority, sub-registrar, register, book, 17, section 34-B, amendment act, limitation rules, law, proceedings, defence, jurisdiction, provision, Company (India) Limited, Bank assigned the loans a particular borrower, has filed appeals judgment Bench Court High reversed Registering case involves Indian Bank, which facilities to Industries in was created an Institutions Act, After Securitisation demand notice and 5 executed deed Velayutham 2006, Office 2007, Mr. S.P. sold property his sale. collateral issued notice. favor encroachments took 145 civil suits\n",
            "Document 44 catchphrases: Civil Procedure, DRT, RDDBFI Act, Certificate, Demand Notice, Ex-parte Principal borrower, of attorney, Forgery, Indian Code, Fast-track prudence, Vexatious, Frivolous, Abuse process law, Suits, Injunction, Jurisdiction, Bona Sale deeds, 49,50,000/- to M/s. Coimbatore Hatcheries, a partnership 1995. The loan immovable property belonging the firm and land owned by Shri M.C. Kallikutty, who dispute. mortgage deposit original borrower bank filed before Debt Recovery Tribunal against partners, Guarantor. ex-parte decree High Court creation ordered under Section sections Court. pursuance recovered Rs. 38 lacs. aside 15 years from date seven declaration that passed not suit property, for consequential permanent injunction restraining Officer interfering with their reject plaints in\n",
            "Document 45 catchphrases: 1. Central Corporation1. law 13. C&I) 16. the parties 20. Ad-interim Economic Zone\n",
            "Document 46 catchphrases: Act, 1881 Criminal Appeal Revision 4. Conviction 138 6. Promissory Note notice 10. 11. Appellate court 12. Court 13. Leave Indemnify 15. Endorsement 16. Consideration 17. liability 18. Compensation 20. 22. Judgment 23. Order 24. Parties Agreement 26. Construction 28. Parcel of 29. Claim 30. Determinate amount 31. Holder Unilateral claim 34. Business Logic 36. In favor 45. Cancellation funds cheques 52. Advance payment 53. rates 56. Unequivocal Outstanding 59. Negotiable a partner in with Nazimul Islam for multistoreyed building paid Rs. Ten Lakhs only) to did not dated 13th August, 2007 promising refund the month through postdated cheques. acknowledging that filed Since had passed away, proceedings abated. The trial simple imprisonment period one year and awarded three months. Aggrieved by order Haren Mudoi No. 9 Kamrup at Guwahati, who sentence 41 High\n",
            "Document 47 catchphrases: 1. Arbitration and Conciliation Act, 1996 Section 34 petition 3. Arbitral award 4. Charter-party 6. M.V. Navios Sagittarius 7. Charterers 8. Owners 9. Demurrage 10. Notice limits 12. Laytime 13. 14. tribunal 15. Exclusion of time 16. Counterclaim 17. action Award interest 20. Foreign currency 21. LIBOR rate 22. Discretion 23. Reasonable 24. Error in appeal 26. Dismissal the Motion 28. Disposal arises decision a learned Single dated 19 March 2013 on under 1996, which legality an arbitral rendered by three-member 15 November vessel m.v. Sagittarius. The Appellants are charterers vessel, was nominated for voyage charter carry consignment coking bulk from QLD, Australia, to Ports namely Vizag, Paradip relates quantum Respondents upon completion Clause 33 count 24 Readiness at Vizag 28 February reported 1415 excluded period actually berthed. 9% per\n",
            "Document 48 catchphrases: 7. Charter-party 9. Bids 10. Work Order Contract agreement (LD) 17. Final bill Bank Guarantee 11(6) 21. Arbitrator 22. claim 23. Section 34 24. Grounds 25. Jurisdiction 26. Notice Notification 29. Arbitrability Public policy 31. Scope of arbitration 37 34. Merits the cause action. The appellant had floated tender for execution was awarded respondent. contract a 27/03/1995, respondent completed work on 01/10/1996, i.e., after delay 553 extension time final LD deduction did approached High under Act, 1996, appointment allowed Act setting aside award, which rejected\n",
            "Document 49 catchphrases: Lease deed Power of Attorney Joint inspection report lease Writ Petition Arbitrator 34 Judgment and order Misc. (Arbitration) District Judge Revenue Officers Forest Horticulture Officer illegality appearing on the Review merits Land mafia civil Income tax title Bona fide Registered Vendors Public Arbitrary Perverse Capricious Conscience Court Factual aspects fact Error Ravindra Maithani, J. is hearing an against a judgment dated 28.09.2007, passed 28 2005, Smt. Madhav Nayan Vs. Commissioner. The case involves executed 31.12.1966 between lessor original lessees, Kamal Ram, for developing orchard planting fruit-bearing trees in Plot No. 44 Section 3, below Motor Road Village Khuret. respondent, Nayan, son In 1996, respondent land to with regard was conducted 28.01.2000. joint team found that were planted dispute, they appeared been two he had Kisan Singh salary. told dispute growing agricultural Based 2003, vs. State issue canceled\n",
            "Document 50 catchphrases: cheatingwords: Ar, merbitration and: and Conciliation appeal, ex-judicial factual appreciation of facts, inj, injunction, bankunction, vendors, public record counter-guarantee, Section 9, 37, Order 39, perversity, capriciousness, Court, patent review petition 3 Rule C9 PC, prima3 appearing facie the award, errone, balanceous application law, reappreciation XXXVIII case, balance 5 C, irreparable ad-interim measures, forum shopping, suppPC, material facts., merits of, Act, exclusion, memorandum understanding dispute, interference, environmental clearance, interest India, conflict with appointment adjudication board justice or morality, enforcement foreign arbitral awards, conciliation, connected matters, incidental matters., supply fraud, merits, bona scope jurisdiction, erroneous 37,9 CPC, convenience, supp Cression respondent No. cause amounts. The 2nd injunction to restrain guarantees. consultant, performance a\n",
            "Document 51 catchphrases: Act, 1996 Division and6 Section Commercial 37, High Arbitration and 9, 29 201 Conciliation of the Act,, Courts, Courts 2015 stand 15 Act,6. Injunction Bankellate contract Purpose Vehicle standi Contract of. Cour 3, Bank guarantee Special Privity contract. by agency from\n",
            "Document 52 catchphrases: impartiality, Seventh jurisdiction, Civil convenience, irreparable injury, competence proceeding, illegal and nullity, TRF Ltd.-Vs- Energo Engineering Projects Ltd., Bharat Broadband Network Limited-Vs- United Telecoms Limited, case revolves of Section Act, 1996, which deals The plaintiff argues that the arbitrator capacity due with parties or counsel subject matter anti-arbitration injunction. arbitration clause, Court, 12(5) Arbitration filed a defendant 7 ineligible to relationship\n",
            "Document 53 catchphrases: 1996, injunction, trademark infringement, arbitration original copy command, waiver right, jurisdiction case is an appeal under Section 37(1)(a) the Arbitration and Conciliation Act, 1996 (Act, 1996) rejection defendant-appellant's application or a filed by seeking injunction to restrain into agreement registered trademark, artistic work, in relation feed. The defendant District Judge had not\n",
            "Document 54 catchphrases: 1996, mandatory, notice, prior jurisdiction, Court, 227, Article judicial superintendence, Letters Patent Appeal, 10 of High statutory rights, patent appeal, intra-Court writs, The appellant bank State are over a money. Request Case No. 4 an allowed, and Mr. Justice Jha (Retired) through was dismissed. application made under 34 District Judge. issued to the 1996 Act. 227 Appeal has been\n",
            "Document 55 catchphrases: additional chief judicial magistrate, judge, original Conciliation Act, 1996, Section 8, Order 10 C.P.C., builder agreement, contract, remedy, arbitration clause, stay The plaintiffs-appellants own a property entered into Developers (defendant-respondent property. MOU provided that the area of entire proposed commercial complex. clause for executed Builder similar stipulations. portion to Carrier Coaching Allahabad Pvt. Ltd. 2) suit\n",
            "Document 56 catchphrases: Act, 1996 Section City Civil Award Appellant and orderistributorship agreement Letter Court Agreementellant Res Arbitrator Showpondent Distributorship Letter-cause Previous of intent Memorandum Agreement S written approval 1ole934 1 proprietor Partnership Arbitration clause. Business Contract Patent error Public policy Fraud Corruption Arbit Termination Cancellral Tribunal 1ation Liability Jurisdictional evidence Interpretation Construction illegality Perverse decision Irrational decision7. Show-cause notice statutory provision Conjoint reading Inherent power Formalities Photostat. Indira Banerjee, J. is Calcutta dismissing an application filed by the appellant Conciliation on 1st for. The respondent applied setting aside award published Learned distribution area Be for Lhala in his 21 23rd Junest requested a letter distributorship A was 16th September 21st June, requ 'isite 1995 between\n",
            "Document 57 catchphrases: Enforcement of 31B the Constitution Entries 18 Article 254 Court Federal supremacy Repugnancy Inconsistency matter List State\n",
            "Document 58 catchphrases: (Act of 1996) Section 37 the Act order Learned District Judge Arb Case Arbitral award Setting aside Inviting Tender (NIT) Designated oil Assignment work Termination contract Invoice Payment clause Arbitrator 1996 arbitral Reasons Contravention India Form and Statement reasons Agreement \"conclusion\" or Members Tribunal. Drilling Services entered into a for carrying (four) wells situated The was between ONGC make payment in respect 6 (six) invoices. its claim rejected case No. 26 impugned judgment learned Judge, Sivasagar has set grounds: (i) that not record any reason, respondent under section 16(3) 1996, had acted contravention 16(5)\n",
            "Document 59 catchphrases: District Judge Supervisory Jurisdiction Aside of\n",
            "Document 60 catchphrases: dispute, Sole Arbitrator, section 11(6), Orissa High Court, Chief Justice, retired 34, application, bar, Arbitration and Conciliation Act, 1996, appeal, interest of justice, competence, terms arbitration, finality, pronouncement, action, original jurisdiction, judicial authority, Justice The case an appeal a judgment order passed the Additional District Judge, Court at - South 24-Parganas, dismissing application out by Lafarge India Private Limited. appellant Commission Agent named Kishore Sahoo. requested for adjudicate certain disputes pertaining February, 2001. Arbitrator Calcutta on 12th 1996 challenging award 2012, which was dismissed dated 5th August, giving rise to present\n",
            "Document 61 catchphrases: Facilitation Council, Case, order, quash, in law, payments, mobile petitions, District Act, 1996, statute, conciliator, arbitrator, agreement, forum, arbitration conciliation mechanism, dilatory tactics, small-scale industry, buyer, award, review, remedy, Bench, binding. The case involves single judge order passed the Reference Case relates to certain payments for establishment of services works and material. Council an 30th June, 2016 directing appellant, which was challenged by respondent petitioner Thereafter, proceedings two writ\n",
            "Document 62 catchphrases: Act, 1996 2. Section 37(1)(a) 24.2.2009 4. Judge, Kamrup 9 measures 8. Opposite party 13. Interim injunction Ex parte 15. Ad interim order quo 17. 141 19. Proceedings 20. Civil Procedure, Original proceedings 23. application Arbitral tribunal part 29. Injunction 30. 31. Extraordinary Appellants 34. Payment 37. Security deposit Cheques 39. Acknowledgement godown 45. charges 46. 55. Learned debito justitiae 62. (P.) Ltd. v. (1) R.A.J. MANU/SC/2936/2007 : SCC 125 41 to a\n",
            "Document 63 catchphrases: Divorce Custody order UCCJEA and Enforcement review Inconvenient forum Parens patriae Petition Stay Dismissal Merits Governing law Expeditiously. couple, the appellant/petitioner U. Durga Prasad Rao minor boy N. Jainarayan The marriage was child Division Court Michigan, custody until time set to be alternate every 1, 2018, reside in same Tirupati with June 2017 visited India spent three her order. She petition before of State Telangana guardianship stating that Michigan judgment binding on both parties.\n",
            "Document 64 catchphrases: Appeal 3. Original plaintiff 51. family properties 7. Plaintiff 8. Defendant 9. Trial Court Appellate 11. First Will 13. Sound 18. Important house 16. Love and 17. Lear. Ex parte Jurisdiction proceedings 28. Ape) 27. 30. Incon K Substantive Petition 37. 43. Mesne execution 48. 49. HUF Family) 50. Deceased 52. Revenue 47. Amicus curiae Self-acquired 57. Soundnessarta on record 60. records 53. bounds Mitakshara coparc. by evidence Legal necessity Intestate succession 71. Scribe 72. Hindu81. Female heir 82. Survivorship 92. Judgment heirs 81. Beneficiary petition 95. 98. Testamentary\n",
            "Document 65 catchphrases: of marriage Condonation cruelty\n",
            "Document 66 catchphrases: Defendant Legal decidendi Obiter Relief Act possession of extent Acs. 3.18 cents in survey or Prakasam and his appellant herein (defendant No. 2). the pendency respect contends application\n",
            "Document 67 catchphrases: second appeal, representatives, declaration of title, Will, concocted 3, attestation, 68, sound mind, coercion, probate the background facts, onus free will, undisputed fact, counsel's fee. had five forged Will in favor claim The plaintiff amended it a prayer for possession\n",
            "Document 68 catchphrases: action, notice, 319 of the Code 1973, cheque, company, liability, Section 142, cognizance, Criminal Procedure, investigation, evidence, payee, drawer, & Spinners (P) is managing for filed a complaint 39 lakhs The cheque was drawn account Ltd. (DAKSHIN), complaint. Appellant\n",
            "Document 69 catchphrases: specific performance, gift deed, co-brother, market value. readiness and rejoinder, close suit for claimed a interest compensation. The plaintiff (appellant) the 1st defendant agreed to 8,75,000/- as per an agreement paid of Rs. 3,50,000/- under registered\n",
            "Document 70 catchphrases: Section 13 (1) of Act 1955 husband Defendant-Appellant i.e. wife Learned counsel Indian Navy Suit No. 367 'cruelty' Ground Restitution conjugal relationship Moral and legal obligations Judgment illegal In excess Behaviour Shady v. Neelu Kohli Rishikesh Sharma Vs. Union India Amendment Care\n",
            "Document 71 catchphrases: Section 19, of 2012, service, notice, break down, decree divorce, lucid Act, negotiation marriage, concealment, dissolution mangtani, satish sitole, mental isolated instances, and emotions, alimony, lump\n",
            "Document 72 catchphrases: Courts Act, 1984, Section 13 of Hindu Marriage divorce, cruelty, and decree, plaintiff respondent, defendant appellant, happy married life, genuine demands, chores, quarreling, frequent visits, unknown person, telephone, threats, parental home, matrimonial removal, money, gold, obligations, companionship, husband, wife, illicit relationship, cause, locus corroborative evidence, burden 23(1) 13-B 1955, living separately, motion, withdrawal 13(1)(i)(a) intention, impact, capacity advancement, social ill-treatment, cessation intercourse, studied neglect, indifference, irretrievably broken marriage, straitjacket mutual trust, life. The Family Court, 2011 filed was decreed. respondent had the divorce his permission, put live separately family, talked on telephone him. not like an ideal amounted to\n",
            "Document 73 catchphrases: Suit Plaintiff house Co* Undivided dwelling *aser Market Brick Full tile roof member Preventree Val Firstuation Appellate Court Rights Basting partiesu Lear Bench Ple* Transadings Adjudication Und Finalual decree Contualesting parties circumstances In Partition suitas Portion Sep the sale ofarate houses *feree Family memberagmentation Photostat certified copy. for preemption Right of interest family partition and separate share Give pay Enable left Effectively denied entry Stranger Dilapidated land Purchased Evidence PW No existence\n",
            "Document 74 catchphrases: ground Adopted son Puja and Inducement or Co-sharer's right Dismiss Maintainable the land Plaintiff's mother aunt niece grandfather's sister's Plaintiff'\n",
            "Document 75 catchphrases: Revenue records family Coparceners partition Relief separate possession Preliminary Calculations Permutations/combinations/alternatives interests of Reunion Trustees by metes Decree Recognition Section 171 the (Revenue) Appeal Discriminatory Illegal Unequal share\n",
            "Document 76 catchphrases: report, affidavit, burden of proof, clinching allegation, negligence, restitution matrimonial house, domestic assurance, maltreatment, torture, branding, corroborative evidence, explanation Section 13, The husband filed an application for divorce on the alleged that frequent visits to her forced Kirana shop, poisonous substances in his wife denied all allegations and was negligent death parental house third pregnancy harassment by\n",
            "Document 77 catchphrases: appeal under Hindu Marriage Act, 1955 read The marriage between the appellant and respondent was solemnized of.05.2001 to rituals. have two female children, born on 04.05.2001 13.03.2002 23.1.2002 and2 2.2004. presented petition3.12.2004. petition before learned Family learned7.03.201 Court on2, seeking 1 dissolution of diss Section 1olution the3(1)(ia 1) Mar3riage 1955. (1)(ia) Mar* appriage 1ellant stated955. that he press* appurized marry insistence Sri Digambellant J pressha andurized G one Digambar Jha G.M. Srivastav, who served.M. served as Director General Police Assam. (DGP), compelled nuptial knot entire family were mentally tortured high-ranking period subsequent passed off peacefully, but gradually started treating with mentalellant cruelty. originally hailed from appellant's is permanently settled an employee in Assam since year 1998 comp. appelled tieellant reside at house his threatened mother, elder brother, sister-in-law also usedrank toing officials. reside. initial app mental Guwahati, statedellant the998. where stated visit theent 2 DGP frequently, without giving frequently any reason, which used cause frequent, disobey well members frequent alterc threat themen 498Aob against they them. In home after cases 498A Code ( 2007, Bihar. arrived persuasion, a meeting held by come Guwahati members. However, again startedatra deliberately. She go out whenever she liked, District anyone protested act-M, casesaffarpur, Bihar, However help, Sukhent againchand cruelty deliberately police vehicle DGP, liked said case. D2009 had8.200 agreed give her mat were,rimonial daughter behind 2)\n",
            "Document 78 catchphrases: Appeal Impugned Act Family rule Notice order Public law proceedings Custodian 12 of the Hindu registered as No. 2656 2015 Additional Principal Judge, Lucknow. The Marriage in aforementioned case. below passed parte judgment hearing. highlights order. Furthermore, text mentions achieve its purpose. ex order, discretion, hearing, delay, and\n",
            "Document 79 catchphrases: Financial Institutions Act, 2002 (SARFAESI in personam Right Board of 1992 to Banks Act) Overriding effect Provisions law Cumulative 13(2) the SARFAESI Act for one seven properties on 24.11.2016. The issued another notice two Section 37(2)(b) Arbitration against\n",
            "Document 80 catchphrases: perpetual injunction and possession Partition deed statement Framing First Appellate High Court Rule 5 Civil Procedure Order 41 Code of Taluk Surveyor Possession Lawful settled parties Cause a suit for permanent property, claiming ownership filed the fresh\n",
            "Document 81 catchphrases: Act Family Court justice Audi alteram partem rule order Public Custodian General Substantial justice. The appellant, registered as 12 of an ex that she the audi rule, a party representation before legal fails to parte delay, and decree.The Supreme Bishambhar Nath Kohli v. ground Justice V.R. observed hearing section 115, in view be unheard if without same violation impugned matter shall appear\n",
            "Document 82 catchphrases: holder, judgment foreign Court, reciprocating territory, Code of pecuniary limits, Delhi High Court Act, 1966, execution 13 Code, Section 47 the 24 original, appellate 5(2) Act 2(4) civil jurisdiction, Court's Division that relegated file a money decree District obtained in is still unsure about which The respondent, vessel M.V. with Profitable Inc. for Wealth to Oil. Gulf Oil from IOC amend changing Respondent Letter Petroleum FZC and there were another company, criminal proceedings cargo. Bank without production\n",
            "Document 83 catchphrases: suit, mis-delivery lawful holder, 1971, financing, XIV Rule Order XIIIA Civil Procedure, joinder, summary judgment, the High Court, interim is of vessel Marine Services, acting as M/s. Galaxy Inc. for charter sub-chartered to Gulf cargo a contract purchase be Kandla Port, Petroleum FZC Bank later requested Respondent Singapore. The amend Letter after provided addendum issued an Master Admiralty Suit 96 2021 before\n",
            "Document 84 catchphrases: 1996 Indian6 Insolvency and Bankruptolvency Financial creditor Deed Noned Company Corporate Infrastructure Finance Interim Res owner Adolution Professionaljudicating Authority 1 Notice of6. IRP Independent val 18 uer marketolution resolution Section b right Movables Statutory Expenses 67., Pres Pledgeeervation Right of disposition rede Performanceem aw78. Admitted Registration Custody Issuer Li Liabilities Depository Participantabilities Noticeurities Transfer Defend Adjudicating Disputed value invocation admission Fair market Date Accepting MHPL\n",
            "Document 85 catchphrases: Defendant Trial Court Issues Evidence Appeal Review Petition Civil Procedure Injunction Amendment Separate Suit Respondents Original Defendants Impugned Judgment First Magistrate Indian Code Order 6 Rule 17 7 11 47 1 Section 114 Error Apparent Record Jurisdiction Mistake Sufficient Reason. Shri Ram Sahu, the predecessor of Appellants, 04A for registered dated 25.03.1995 executed by original No. in favour & 2 regarding 28/955 as null and permanent injunction Nos. restraining any other person. The claimed ownership property on basis will one his 19.10.1993. Plaintiff that he became sole owner death Chhimmabai possession holder entire house same capacity; is continuous over same. It was case adopted 3 later on, Adoption 13.05.1992 disputed 2. adoption said well an application Under Appellant suit property. also filed regards issuance disposessing forcibly from ground High Appeal, herein-Original before review observations para judgment house. Appellants herein. However, impugned order, has ordered to 20 order 241 2005.\n",
            "Document 86 catchphrases: right to of action, written statement, pleadings, trial court, or denial service for suits, Limitation Act, 1963, Section 2(j), period limitation, prescribed period, dismissal suit, 3, Sections 24, residuary article, not otherwise provided in the Schedule, India v. West Coast Paper Mills Ltd., Khatri Hotels Private Limited Union India, three-Judge Bench, sue, accrual clear and Rukhmabai Lala Laxminarayan. The Appellant, M/s. Surya Roshni filed a suit on 23.2.2005 against decree rendition true correct accounts respect deducted by No. CCM between 1.4.1997 excess interest at 18% per annum from deduction pendente plaint Under law beyond Article 1963 Appellant had contended that cause action accrued him only rejection representation Respondent entailing refusal letters dated notice was courts\n",
            "Document 87 catchphrases: Petition,\"ension scheme \"Letters Patent Appeal,\" \"P Mines \"Provident Fund \"Notification Act,\" \"San,ction,\" \"D 194ismiss8al,\" and,\" Coal Pension Scheme, 1998,\" \"Notification,\" \"Regional \"Inter Commissioner,\" \"pension contribution,\" \"retest.\"irement benefits,\" \"Superannuation,\" of India,\" \"Darbhanga,\" \"Bihar,\" \"Jharkhand \"forum conveniens,\" \"judgment,\" \"appeal,\" and \"Patna The case Single Judge dismissed a No. 5999 9 2014 filed the Appellant. Writ was letter201 dated 07.10.2013 06.11.20134 by Appellant Regional. challenginger, datedines Prov 07ident Fund, Region-1, Asansol. letters directed refund November 201306..11 App.2013ellant' issueds late husband Regional employed iner, pension at Bankola 2013 Indiaified Limited Notification 0 working5 Mo99ira8 Coll. Notierification 09y,.01.2002 amended 1998, did not opt notified under 199A8, inserting Sche an opted Family coveredident Scheme to within submitted Scheension Manager, being Mishra in Manager India, sanctioned Bihar. started Court, 200 B.N. State Bank. 5 2006 which 07.10.201 on present territorial jurisdiction Pat Patna High writ* aters \"terna\n",
            "Document 88 catchphrases: appeal filed by Appellant questioning the Patna High Court in Letters Patent 1265 of dismissal The Single Judge dismissed Writ No. 5999 2014 late husband ground territorial jurisdiction. 13955 stoppage judgment also relies on granted. Those therein cannot to give Petition amount wrongly did not 2014. is challenging were\n",
            "Document 89 catchphrases: farmers Landholding register Judicial review 14 of Rational nexus Proportionality test Protective discrimination Intelligible differentia classification Electoral promise Class legislation Reasonable Administrative convenience Legislative experimentation Non-comparative unreasonableness Arbitrariness Two-pronged Nexus Fundamental right Aadhar scheme Criminal defamation speech and expression Reservation Postgraduate courses educational institutions End Degrees harm Majoritarian morality Constitutional weaker sections earners Agricultural households Land holdings Rural India Average monthly income Outstanding loans Indebted agricultural Percentage purpose Income from crop outstanding standard Right to privacy Constitution Bench judge action Socially economically technology Wage Madras High Court at the Madurai allowed writ petition filed by Respondent under Article 226 loan waivers only small marginal Appellant all landholding. G.O. Ms. No. issued on 13 May 2016, granting a waiver loans, medium-term (agriculture) long-term (farm sector) challenged unconstitutional for provide arrive that exclusion is discriminatory violative 14: (i) courts State (iv) time\n",
            "Document 90 catchphrases: of Criminal Procedure, Section 258, 205, 357(3), 64 Indian Code, sentence, recovery compensatory aspect, hardship, personal 205 capacity, conduct, preliminary evidence, High Courts, updated cases. The Appellants in this case the Negotiable Instruments Act, (the Act) for issuing a cheque that were an agreement, had not amount. However, complainant demand draft. then filed application compounding\n",
            "Document 91 catchphrases: Collector Market value Duty Final not. Inspector Officer ( FinalStamps) order 23.14. High Court limit Stamp duty (1-A Def v. Chieficit Inspection reports the authorities to 7 of party Ordinary competent official SCC 346 Law Board 295: 1966 Supp nature aversion Standard\n",
            "Document 92 catchphrases: RBI guidelines EquDebts Recovery Rule 2A Code 30 D. Defendants' witnesses order Disobedience Breach Order XXXIX Front entrance assessment Land Materials used Deputy Tahsildar proof Admissibility Relevance Learned contra Impounding of passport\n",
            "Document 93 catchphrases: EquDebts Recovery loan Guarantor floor Parkunction order Civil Procedure bounds Subsequent entrance Stamp and approval Building Plinth inspection True Patent unreason Standard of Reasonableness Proportionality justiceocks 103.den Attorney Power passport Appropriate\n",
            "Document 94 catchphrases: 2. Order Letters Patent Appeal Learned Single Bench money 9. Director 12. Cancellation of allotment Contempt petition 14. Balance convenience 15. Cross-examination Proportionate reduction 21. Technical and financial proposal 23. Memorandum Annexure 25. 26. Injunction injunction 28. Procedure 29. conditions 33. Concluded contract 34. Allotment price Judge 36. 37. Arbitrary India 41. Rational basis Estoppel 43. interest 44. Transparent policy 45. Objective Invitation to Competitive bids 49. Hidden agenda 50. Trust 51. Public property 52. Fair transparent 53. persons 54. 55. Contractual entitlement 56. Specified 57. 62. Vested Remedies 64. Consumer Disputes 66. Stay by the payment 69. Article 142 Constitution 70. sale a plot in Lohia Patna. The Respondent applied for Appellant take decision on application one month. Subsequently, liberty challenge writ petition, Board decided plots was communicated consider same terms asked price, which accepted subject formal letter issued, an directions\n",
            "Document 95 catchphrases: title or No. 41, Evidence Act, Foundational evidence Authentication Genuineness Correctness Specific Relief the Appellant-Def3 Appellant has no right, interest over property and for a restraining order Appellant. defined as Survey Kasauli Tehsil specificallyellant-Defendant declaration that against The is part 4har1ma Late Sh. Duni Chand Advocatet. was Te in possession land, which he gifted to his Tek registeredauli expired inings more specifically son Justice one son. late 2, Smt. Anita Beri, Plaintiff 2 suit property, Defendant However, of platform parking. requested lock gate, gate hindrance, user\n",
            "Document 96 catchphrases: schedule properties Department Holkar The Respondent/Plaintiff, daughter and a declaration of title (plots) known as Ashapura, Bercha, Mohna, Gajihata. Plaintiff claims that these birs the State to Army Maharaja, who property 1948. notice her claiming land belonged State. pass such\n",
            "Document 97 catchphrases: suit to State Government the harmony, outraging feelings, and Trust. The their support of \"The Lives book contained a founder\n",
            "Document 98 catchphrases: the suit. Order 7 Rule Procedure, 1908: Code to file additional Section 21 Rent Control section deals with court pleadings. The Appellant, owns a has let it out Respondent on eviction grounds and availability of alternative accommodation. filed allegations. close evidence, two applications: one under 17 Civil 1908 (Code) 2001 (Act) amend ofCode seeking) Act, documents in) another\n",
            "Document 99 catchphrases: seas sale Consumer Disputes National Redressal Commission, insurance coverage, endorsement schedules, period of insurance, manufacturers, aluminium products, Jawaharlal Nehru Port Trust Silvassa, UMarine Cargo-Open Policy, Sales Turnover basis, insured, highT theft, claim, repudiation, Dadra and respondumer endorse Statement sched Commissionules, conditions, carrier, extra policy, Coordinate general policy comb, risk details, voyage, additional terms, claimants, traders, Bench, SCC, Ltd. v. India Insurance S Chem Nagaricals Haveli, company Co. Ltd., respondANU/SC/ent, State1733/2 National019, Saurashtra. report, authorized generalium have spont condition June two thousand Forum (Maharashtra), against the dismissal order Commission. The rupees crores, which goods from in to covering a given time. on 18th Legal keywords unit, UT transporter,\n",
            "Document 100 catchphrases: application under settlement plan. an Debtor,which was admittedwhich Tribunal (NCLT). Creditors (CoC), be approved as it received only votes. The seeking Company Law (RP) presented a RP then S the NCLT.ettlement Co majority of 9 challenged However, rejected CIRP and Appellate liquidation process. appeals. Legal orders before (NCLAT), which dismissed appewords: Insolvency authority, appellate IBC, Regulation 2016, National Resolution Professional, India (Insolvency Corporate Persons) 2016.\n",
            "Document 101 catchphrases: proceeding against quashed. ropolitan and 294 the Indian Penal Technology Act, MLegal Keywords: Learned Metropolitan Magistrate Cognizance of offences Sections proceedings Prima facie Section 292 85 Instruments94 67 2000 Criminal Misc. Case 138 Manager Secretary Officer company Consent connivance Neglect be guilty\n",
            "Document 102 catchphrases: High Court Nos. 12191-12194 of 2016 Leave granted Petitioners-banks Respondent 1 to Personal guarantee Non-performing Recovery Tribunal OA 766 2013 amounts Interlocutory applications passport Arrest warrant Garnishee order Bengaluru Expeditious disposal Ad interim direction Special leave petitions This Indian. The have filed special challenging the dated 04.03.2016 passed by Karnataka at in Writ Petition 2016. had individually advanced loans No. 1. existing 2 and 3 corporate 21.12.2010 a personal respectively, guaranteeing repayment entire amount due. accounts were classified as non-performing assets, 9 before Bengaluru) seeking Rs. 6203,35,03,879.32 Despite requiring details their assets on Respondents never disclosed instead, tried secretly dispose with an intention recovery proceedings pending DRT Bengaluru. On 10 11 London Stock Exchange Bombay that resigned Chairman would be immediately. statement settle 3, issue\n",
            "Document 103 catchphrases: Judge Demerger Stamp duty limited company Instructions Perpetual Stipulation Obligation\n",
            "Document 104 catchphrases: Court Scheduled (Act of Act tribe Auction the III Constitution Protection Legislative State federal Counter filed\n",
            "Document 105 catchphrases: Procedure, 1973 Demand Payment sale Notification Infraction Approved valuer Condone Revision Maintainability an Accused for investigation Factual allegations Ingredients the offence of cheque statement Judgment\n",
            "Document 106 catchphrases: Appellant Himachal (Recovery of Loans Truck Industry Steel Warrant Withdrawal order hunting Arrears Statutory one ESI Corporation notice Section\n",
            "Document 107 catchphrases: Service Cheque Act, 1881 Section 177 drawee bank Retrospectivity SLP Branch of the cheque Cause jurisdiction Negotiable case Same drawer Different Taking Criminal Procedure 220 thereof\n",
            "Document 108 catchphrases: Receipt. The the interpretation of Section 13(2)(a) Consumer 1986 (the\n",
            "Document 109 catchphrases: evidence Concurrent Order Counsel Consumer Protection Act, 1986 Respondents District Forum\n",
            "Document 110 catchphrases: \n",
            "Document 111 catchphrases: \n",
            "Document 112 catchphrases: Cause Notice\n",
            "Document 113 catchphrases: of fact debt Post-dated loan agreement between two parties, where to advance a Rs. the up power project. provision for amount and interest. High Court seek quashing complaints arising crores, contending that way was due cheques were issued.\n",
            "Document 114 catchphrases: agreement Claims Default National Consumer Disputes Redressal Sons International, to foreign The buyers towards the policy. Respondent sought enhancement of defaulting presented 17 claims. Appellant rejected compliance with Clause 8(b) Commission upon case and make payments due under different claims, 9% appeals before\n",
            "Document 115 catchphrases: judgment and Order National Consumer Disputes Redressal Buyer's Agreement Occupancy Certificate Deficiency of service Complaint Ex-parte Interim Possession Letter Compensation. Indu Malhotra, the Final Case No. case involves in Sector 62, Course Extension Road, Gurugram. The Appellant-Builder launched project Respondent-Flat Purchaser entered into an dated 08.05.2012 to purchase apartment said for a total sale consideration per Clause 11.2 Agreement, was required apply from date with 180 days. commenced on 04.06.2012. within further grace period 6 months Agreement. part failure hand over possession flat. passed 06.02.2017 Commission, obtained 23.07.2018 however, submitted not interested account delay 3 years. towards compensation.\n",
            "Document 116 catchphrases: Service Refund National Consumer Redressal Commission Supreme Intestate Succession interest and compensation. The Developer leave petitions in the\n",
            "Document 117 catchphrases: Special Judge The Appellant possession. recovery was Judge, giving benefit of\n",
            "Document 118 catchphrases: Eviction Suit Court Supreme Appeal Dismissal. landlord then\n",
            "Document 119 catchphrases: 193 and FSL Report Code Site plan Sections 193, 195 211 Indian Penal of Criminal justice Expedient in the interest justice. The prosecutrix at Camp, Katwaria Sarai, entered her jhuggi about 9.00 PM on 28.07.1997 demanded a bidi to give them any Respondents/Accused switched electricity Respondent/Accused No. 2 Gunjesh Chaudhary hands clothes committed rape turn. an alarm fell unconscious. Bashira Khatoon, mother prosecutrix, came there saw coming medial aspects\n",
            "Document 120 catchphrases: United States Handbook Narcotics provision Admissibility Operating Procedure Reliability Threshold admissibility proof Document Expression Device Opposite party Possession Valuable assistance of India\n",
            "Document 121 catchphrases: Judgment Order 342, 324, Gravamen Abduction of authority Illicit intercourse Applicability Section 366 Penal Code Six months Appellant, Kavita 354, 323, and II) a discharge Respondent No. 2 in respect 506(ii) before the High Court, which filed an appeal\n",
            "Document 122 catchphrases: Act) Conviction Additional Sessions NDPS Act Prosecution Charge Witnesses Compliance Mandatory Procedure Res integra Evidence Admitted The Appellant was not in the and\n",
            "Document 123 catchphrases: of cheques Investments Promissory proof Revisional Ex parte debt Liability Cogent evidence Appeals Allowance K. Muralidharan, two The Appellants the Respondent involved in where Note for favour with and Rs. towards discharge their liability company. were encashment on which dishonoured Payment' instructions issued by statutory notices under Section debt/liability dues. not Pvt. Ltd. a hire-purchase both\n",
            "Document 124 catchphrases: Special Leave of proof Liability Cogent Rs. 37,00,000 with two company. The\n",
            "Document 125 catchphrases: Reference No. Indian Penal Code Accused Respondents Prosecution Case Firing Report) Evidence Enmity Implicated Ex.-P1 Cross-examination Act Weigh case Kesar Bai (PW-1) Opinion expert Fired Ex.-EC1 to\n",
            "Document 126 catchphrases: Court Judgment Criminal Appeal Accused Respondents Ghaziabad Uttar cart Sugarcane Injured Police FIR Inquest Investigating Officer Sub-Inspector R.K. Chaudhary PW6 Committed the Penal Code 302 Section 34 25 Complainant Naresh Pal Formal witness Conspiracy PW4 Credibility Trustworthiness Depositions Contradictory Conduct Flaws Prosecution case Guilt Article 136 Interference Merit Dismissed. appeal is filed by State of three accused in a murder case. The Mahipal and his were going appeared from Mahipal, resulting police station to hospital, where he injuries. investigation (PW6), who recorded prepared collected evidence, sent Sessions, read with convicted under 34, Indian sentenced them life imprisonment pay fine High finding Court.\n",
            "Document 127 catchphrases: Judgment Order High Court Jharkhand Trial Post-mortem Investigating Chaudhary PW6 Well-reasoned judgment\n",
            "Document 128 catchphrases: Substances Act, Code of Criminal Conviction Trial Singh v. Bench Punjab and Cosmetics 8 Narcotic drugs Psychotropic Rigorous imprisonment Commercial quantity power Court Reasons Judgment Embargo DEALING Medical or scientific purpose Prohibition Evidence Union India usage Intoxication Purchase Transport inter-State Export Import into purposes concerns the (NDPS Act) High Court's The Accused-Respondents convicted by under NDPS pendency\n",
            "Document 129 catchphrases: 366 Section Conviction Kidnapping Rape sentence R.I. (Rigorous Probable cause of evidence Guilt doubt Counsel Confirmation Case No. Criminal Appeal 2014 SLP (Crl.) Nos. 5416-17/2015 Supreme circumstances Balancing approach Rarest rare Proportionate Gravity the offence Reform Lack remorse Possibility to detail Learned Counsel. The Appellant, Viran Gyanlal Rajput, was convicted by Additional Sessions Judge, Mangaon, Raigad, for kidnapping, rape, and murder girl. victim last seen with Appellant while she running instance asphyxia death Under year's in default) a fine Rs. 200 (1\n",
            "Document 130 catchphrases: grants individuals the enforcement of their rights. Adversarial This is legal system in which parties present to a such as decides outcome based information presented prove or disprove Witness: A person who and can by opposing party's lawyer. protection: refers measures Hostile witness: hostile testify on evidence guilt criminal case. Sentencing: return for judicial proceeding. Indian trials. findings. The text highlights intimidation, lack program India\n",
            "Document 131 catchphrases: High Court of Appeal Judgment Sessions Judge Trial Explosive Substances Perversity (F.S.L.) report criminal cases police personnel, a Section the scene occurrence. Rioters started firing upon and his defense, mosque, rioters had already fled away. The F.I.R. P.M. on 16.03.2001. Accused No. 2-Respondent (Mumtaz alias Maulana) brought to 02.08.2001, 1-Respondent (Wasif Haider) was arrested Kanpur.\n",
            "Document 132 catchphrases: Fighter Jets, Indian Airforce, post-Kargil defence procurement, Defence Procurement Procedure (DPP), Services of Necessity, Role Combat Aircrafts (MMRCA), (IGA), Cabinet Committee award Corruption Act, Constitution the its origins in experience and was initiated commenced August evaluations, a Dassault L-1 January but withdrawal Request for relation Agreement with be delivered process became matter statement attributed regarding selection Partners.\n",
            "Document 133 catchphrases: 304/34, 302/324/323 read with (CrPC), Section 173, blunt weapon, Part-II, 302/34, 299, actus appellate court, corroboration, evidence, planted road rage Jaswinder Singh were traveling in a Maruti car they had accused over right of way. Gurnam blows, while the second did was taken Hospital, where PW3 went police station lodged an against first and prepared inquest examination determine cause death. A medical constituted\n",
            "Document 134 catchphrases: of Property Act, Bombay, Supreme Court, personal interest, public policy, contractual obligations, amendment, Insurance 1999, (9), General Clauses Punjab, Agricultural Market Shalimar Chemical Works Ltd., contra The Appellant, refused to register assignments insurance policies a company consideration. through wagering contracts. writ that LIC are freely tradable and in accordance with the 1938. High life\n",
            "Document 135 catchphrases: High Court new director. The Respondent had for a company in 1984 and requested the bank to from guarantees. A director, Mr. V. Nandakumar, was loan, suit recovery transferred Debts Recovery Tribunal. decreed restricted allowed on ground that challenged petition against writ while one\n",
            "Document 136 catchphrases: forum, insurer, insurance company, transit summary proceeding, factual dispute, necessary parties, joinder, allegation delivery, consignment, open note, invoice, surveyor, claim, revisional jurisdiction, of All Aluminium Alloy Conductor wire, filed complaints against Company Limited Rs. 43.59 lacs along with interest for wire during transit. was supplied the Power Grid Corporation 1.3.1998 to shortage noticed by PGCIL reported insurer appointed a surveyor who assessed lacs. However, ground loss. District Forum declined on preferred 21 lacs, making and carrier jointly liable. The revisions before that intimation stood not\n",
            "Document 137 catchphrases: claim proceeding, insurer, negligence, coordinate bench, compensation, social adjudication, fault liability, legislative regular disposal, merits, true scope, meaning, Section 170, trial made by a Court to 163A of from the conclusion matter parties. The and Ors. v. United India Oriental\n",
            "Document 138 catchphrases: of Orissa, loan, power Under Section 29 Finance Corporation Act, 1951, seized assets, auction, and machinery, theft/burglary, FIR, Respondent No. 1, insured, claim form, Burglary House Breaking Policy, policy, compensation application, read with 36-A Restrictive Trade Practices Delhi, Order, appeal. The Appellant, a wholly Public Sector Undertaking the finances medium scale industries State Orissa is also involved in setting up joint sector private entrepreneurs. Appellant extended term loan to M/s. Josna Casting Centre Ltd. As amount was not repaid, took over assets on 14-02-1992. On 23-01-1996, insured 1 for sum under Miscellaneous Accident Rs. 60,40,000/- 46,00,000/- Policy. time detected that parts plant 25-01-1997\n",
            "Document 139 catchphrases: loss, surveyor, repudiation, district theft, intimation, policy cover, costs.The National determining the ground Alloy Conductor Insurance Company Limited and Organization, claiming interest for shortage was who assessed However, lacs, making vehicles that there after delivery\n",
            "Document 140 catchphrases: pleadings, evidence, burden of animus deserendi, locus poenitentiae, marital offence, cause, separation, abandonment, forsaking, consent, willful neglect, torturing, maltreatment, branding, witchcraft, child. an appeal by the on cruelty and desertion. The for divorce wife claimed that to cruelty,\n",
            "Document 141 catchphrases: minor; best breast feeding; mental illness; paramount consideration; medical facilities; education; dispute between minor daughter, Poonam Pradhan. the petitioner-respondent, a petition under Section 25 to leave allegations and abandoned care of would be her well-being. up in his custody.\n",
            "Document 142 catchphrases: (LPA) Single Judge court Order of the Code Procedure, 1908 (CPC) Status quo Limitation Defect jurisdiction Cause parties or causes action Plaintiff Applicant Relief Civil proceeding Suit Appeal Revision instance Judgment Permission suit Misled Court Defendant Rateable assets Proceedings relating to same in good faith entertain it Proclamation sale Irregularity 2020 No. 1647 The first proceedings, R-3 12 flats required was also Rs. 1,89,94,105.50 favor respectively.\n",
            "Document 143 catchphrases: security, mortgage by deposit of title deeds, debt recovery, Debts Recovery possession notice, Power sale deed, assignment, writ petition, registration authority, sub-registrar, register, book, 17, section 34-B, amendment act, limitation rules, law, proceedings, defence, jurisdiction, provision, Company (India) Limited, Bank assigned the loans a particular borrower, has filed appeals judgment Bench Court High reversed Registering case involves Indian Bank, which facilities to Industries in was created an Institutions Act, After Securitisation demand notice and 5 executed deed Velayutham 2006, Office 2007, Mr. S.P. sold property his sale. collateral issued notice. favor encroachments took 145 civil suits\n",
            "Document 144 catchphrases: Civil Procedure, DRT, RDDBFI Act, Certificate, Demand Notice, Ex-parte Principal borrower, of attorney, Forgery, Indian Code, Fast-track prudence, Vexatious, Frivolous, Abuse process law, Suits, Injunction, Jurisdiction, Bona Sale deeds, 49,50,000/- to M/s. Coimbatore Hatcheries, a partnership 1995. The loan immovable property belonging the firm and land owned by Shri M.C. Kallikutty, who dispute. mortgage deposit original borrower bank filed before Debt Recovery Tribunal against partners, Guarantor. ex-parte decree High Court creation ordered under Section sections Court. pursuance recovered Rs. 38 lacs. aside 15 years from date seven declaration that passed not suit property, for consequential permanent injunction restraining Officer interfering with their reject plaints in\n",
            "Document 145 catchphrases: 1. Central Corporation1. law 13. C&I) 16. the parties 20. Ad-interim Economic Zone\n",
            "Document 146 catchphrases: Act, 1881 Criminal Appeal Revision 4. Conviction 138 6. Promissory Note notice 10. 11. Appellate court 12. Court 13. Leave Indemnify 15. Endorsement 16. Consideration 17. liability 18. Compensation 20. 22. Judgment 23. Order 24. Parties Agreement 26. Construction 28. Parcel of 29. Claim 30. Determinate amount 31. Holder Unilateral claim 34. Business Logic 36. In favor 45. Cancellation funds cheques 52. Advance payment 53. rates 56. Unequivocal Outstanding 59. Negotiable a partner in with Nazimul Islam for multistoreyed building paid Rs. Ten Lakhs only) to did not dated 13th August, 2007 promising refund the month through postdated cheques. acknowledging that filed Since had passed away, proceedings abated. The trial simple imprisonment period one year and awarded three months. Aggrieved by order Haren Mudoi No. 9 Kamrup at Guwahati, who sentence 41 High\n",
            "Document 147 catchphrases: 1. Arbitration and Conciliation Act, 1996 Section 34 petition 3. Arbitral award 4. Charter-party 6. M.V. Navios Sagittarius 7. Charterers 8. Owners 9. Demurrage 10. Notice limits 12. Laytime 13. 14. tribunal 15. Exclusion of time 16. Counterclaim 17. action Award interest 20. Foreign currency 21. LIBOR rate 22. Discretion 23. Reasonable 24. Error in appeal 26. Dismissal the Motion 28. Disposal arises decision a learned Single dated 19 March 2013 on under 1996, which legality an arbitral rendered by three-member 15 November vessel m.v. Sagittarius. The Appellants are charterers vessel, was nominated for voyage charter carry consignment coking bulk from QLD, Australia, to Ports namely Vizag, Paradip relates quantum Respondents upon completion Clause 33 count 24 Readiness at Vizag 28 February reported 1415 excluded period actually berthed. 9% per\n",
            "Document 148 catchphrases: 7. Charter-party 9. Bids 10. Work Order Contract agreement (LD) 17. Final bill Bank Guarantee 11(6) 21. Arbitrator 22. claim 23. Section 34 24. Grounds 25. Jurisdiction 26. Notice Notification 29. Arbitrability Public policy 31. Scope of arbitration 37 34. Merits the cause action. The appellant had floated tender for execution was awarded respondent. contract a 27/03/1995, respondent completed work on 01/10/1996, i.e., after delay 553 extension time final LD deduction did approached High under Act, 1996, appointment allowed Act setting aside award, which rejected\n",
            "Document 149 catchphrases: Lease deed Power of Attorney Joint inspection report lease Writ Petition Arbitrator 34 Judgment and order Misc. (Arbitration) District Judge Revenue Officers Forest Horticulture Officer illegality appearing on the Review merits Land mafia civil Income tax title Bona fide Registered Vendors Public Arbitrary Perverse Capricious Conscience Court Factual aspects fact Error Ravindra Maithani, J. is hearing an against a judgment dated 28.09.2007, passed 28 2005, Smt. Madhav Nayan Vs. Commissioner. The case involves executed 31.12.1966 between lessor original lessees, Kamal Ram, for developing orchard planting fruit-bearing trees in Plot No. 44 Section 3, below Motor Road Village Khuret. respondent, Nayan, son In 1996, respondent land to with regard was conducted 28.01.2000. joint team found that were planted dispute, they appeared been two he had Kisan Singh salary. told dispute growing agricultural Based 2003, vs. State issue canceled\n",
            "Document 150 catchphrases: cheatingwords: Ar, merbitration and: and Conciliation appeal, ex-judicial factual appreciation of facts, inj, injunction, bankunction, vendors, public record counter-guarantee, Section 9, 37, Order 39, perversity, capriciousness, Court, patent review petition 3 Rule C9 PC, prima3 appearing facie the award, errone, balanceous application law, reappreciation XXXVIII case, balance 5 C, irreparable ad-interim measures, forum shopping, suppPC, material facts., merits of, Act, exclusion, memorandum understanding dispute, interference, environmental clearance, interest India, conflict with appointment adjudication board justice or morality, enforcement foreign arbitral awards, conciliation, connected matters, incidental matters., supply fraud, merits, bona scope jurisdiction, erroneous 37,9 CPC, convenience, supp Cression respondent No. cause amounts. The 2nd injunction to restrain guarantees. consultant, performance a\n",
            "Document 151 catchphrases: Act, 1996 Division and6 Section Commercial 37, High Arbitration and 9, 29 201 Conciliation of the Act,, Courts, Courts 2015 stand 15 Act,6. Injunction Bankellate contract Purpose Vehicle standi Contract of. Cour 3, Bank guarantee Special Privity contract. by agency from\n",
            "Document 152 catchphrases: impartiality, Seventh jurisdiction, Civil convenience, irreparable injury, competence proceeding, illegal and nullity, TRF Ltd.-Vs- Energo Engineering Projects Ltd., Bharat Broadband Network Limited-Vs- United Telecoms Limited, case revolves of Section Act, 1996, which deals The plaintiff argues that the arbitrator capacity due with parties or counsel subject matter anti-arbitration injunction. arbitration clause, Court, 12(5) Arbitration filed a defendant 7 ineligible to relationship\n",
            "Document 153 catchphrases: 1996, injunction, trademark infringement, arbitration original copy command, waiver right, jurisdiction case is an appeal under Section 37(1)(a) the Arbitration and Conciliation Act, 1996 (Act, 1996) rejection defendant-appellant's application or a filed by seeking injunction to restrain into agreement registered trademark, artistic work, in relation feed. The defendant District Judge had not\n",
            "Document 154 catchphrases: 1996, mandatory, notice, prior jurisdiction, Court, 227, Article judicial superintendence, Letters Patent Appeal, 10 of High statutory rights, patent appeal, intra-Court writs, The appellant bank State are over a money. Request Case No. 4 an allowed, and Mr. Justice Jha (Retired) through was dismissed. application made under 34 District Judge. issued to the 1996 Act. 227 Appeal has been\n",
            "Document 155 catchphrases: additional chief judicial magistrate, judge, original Conciliation Act, 1996, Section 8, Order 10 C.P.C., builder agreement, contract, remedy, arbitration clause, stay The plaintiffs-appellants own a property entered into Developers (defendant-respondent property. MOU provided that the area of entire proposed commercial complex. clause for executed Builder similar stipulations. portion to Carrier Coaching Allahabad Pvt. Ltd. 2) suit\n",
            "Document 156 catchphrases: Act, 1996 Section City Civil Award Appellant and orderistributorship agreement Letter Court Agreementellant Res Arbitrator Showpondent Distributorship Letter-cause Previous of intent Memorandum Agreement S written approval 1ole934 1 proprietor Partnership Arbitration clause. Business Contract Patent error Public policy Fraud Corruption Arbit Termination Cancellral Tribunal 1ation Liability Jurisdictional evidence Interpretation Construction illegality Perverse decision Irrational decision7. Show-cause notice statutory provision Conjoint reading Inherent power Formalities Photostat. Indira Banerjee, J. is Calcutta dismissing an application filed by the appellant Conciliation on 1st for. The respondent applied setting aside award published Learned distribution area Be for Lhala in his 21 23rd Junest requested a letter distributorship A was 16th September 21st June, requ 'isite 1995 between\n",
            "Document 157 catchphrases: Enforcement of 31B the Constitution Entries 18 Article 254 Court Federal supremacy Repugnancy Inconsistency matter List State\n",
            "Document 158 catchphrases: (Act of 1996) Section 37 the Act order Learned District Judge Arb Case Arbitral award Setting aside Inviting Tender (NIT) Designated oil Assignment work Termination contract Invoice Payment clause Arbitrator 1996 arbitral Reasons Contravention India Form and Statement reasons Agreement \"conclusion\" or Members Tribunal. Drilling Services entered into a for carrying (four) wells situated The was between ONGC make payment in respect 6 (six) invoices. its claim rejected case No. 26 impugned judgment learned Judge, Sivasagar has set grounds: (i) that not record any reason, respondent under section 16(3) 1996, had acted contravention 16(5)\n",
            "Document 159 catchphrases: District Judge Supervisory Jurisdiction Aside of\n",
            "Document 160 catchphrases: dispute, Sole Arbitrator, section 11(6), Orissa High Court, Chief Justice, retired 34, application, bar, Arbitration and Conciliation Act, 1996, appeal, interest of justice, competence, terms arbitration, finality, pronouncement, action, original jurisdiction, judicial authority, Justice The case an appeal a judgment order passed the Additional District Judge, Court at - South 24-Parganas, dismissing application out by Lafarge India Private Limited. appellant Commission Agent named Kishore Sahoo. requested for adjudicate certain disputes pertaining February, 2001. Arbitrator Calcutta on 12th 1996 challenging award 2012, which was dismissed dated 5th August, giving rise to present\n",
            "Document 161 catchphrases: Facilitation Council, Case, order, quash, in law, payments, mobile petitions, District Act, 1996, statute, conciliator, arbitrator, agreement, forum, arbitration conciliation mechanism, dilatory tactics, small-scale industry, buyer, award, review, remedy, Bench, binding. The case involves single judge order passed the Reference Case relates to certain payments for establishment of services works and material. Council an 30th June, 2016 directing appellant, which was challenged by respondent petitioner Thereafter, proceedings two writ\n",
            "Document 162 catchphrases: Act, 1996 2. Section 37(1)(a) 24.2.2009 4. Judge, Kamrup 9 measures 8. Opposite party 13. Interim injunction Ex parte 15. Ad interim order quo 17. 141 19. Proceedings 20. Civil Procedure, Original proceedings 23. application Arbitral tribunal part 29. Injunction 30. 31. Extraordinary Appellants 34. Payment 37. Security deposit Cheques 39. Acknowledgement godown 45. charges 46. 55. Learned debito justitiae 62. (P.) Ltd. v. (1) R.A.J. MANU/SC/2936/2007 : SCC 125 41 to a\n",
            "Document 163 catchphrases: Divorce Custody order UCCJEA and Enforcement review Inconvenient forum Parens patriae Petition Stay Dismissal Merits Governing law Expeditiously. couple, the appellant/petitioner U. Durga Prasad Rao minor boy N. Jainarayan The marriage was child Division Court Michigan, custody until time set to be alternate every 1, 2018, reside in same Tirupati with June 2017 visited India spent three her order. She petition before of State Telangana guardianship stating that Michigan judgment binding on both parties.\n",
            "Document 164 catchphrases: Appeal 3. Original plaintiff 51. family properties 7. Plaintiff 8. Defendant 9. Trial Court Appellate 11. First Will 13. Sound 18. Important house 16. Love and 17. Lear. Ex parte Jurisdiction proceedings 28. Ape) 27. 30. Incon K Substantive Petition 37. 43. Mesne execution 48. 49. HUF Family) 50. Deceased 52. Revenue 47. Amicus curiae Self-acquired 57. Soundnessarta on record 60. records 53. bounds Mitakshara coparc. by evidence Legal necessity Intestate succession 71. Scribe 72. Hindu81. Female heir 82. Survivorship 92. Judgment heirs 81. Beneficiary petition 95. 98. Testamentary\n",
            "Document 165 catchphrases: of marriage Condonation cruelty\n",
            "Document 166 catchphrases: Defendant Legal decidendi Obiter Relief Act possession of extent Acs. 3.18 cents in survey or Prakasam and his appellant herein (defendant No. 2). the pendency respect contends application\n",
            "Document 167 catchphrases: second appeal, representatives, declaration of title, Will, concocted 3, attestation, 68, sound mind, coercion, probate the background facts, onus free will, undisputed fact, counsel's fee. had five forged Will in favor claim The plaintiff amended it a prayer for possession\n",
            "Document 168 catchphrases: action, notice, 319 of the Code 1973, cheque, company, liability, Section 142, cognizance, Criminal Procedure, investigation, evidence, payee, drawer, & Spinners (P) is managing for filed a complaint 39 lakhs The cheque was drawn account Ltd. (DAKSHIN), complaint. Appellant\n",
            "Document 169 catchphrases: specific performance, gift deed, co-brother, market value. readiness and rejoinder, close suit for claimed a interest compensation. The plaintiff (appellant) the 1st defendant agreed to 8,75,000/- as per an agreement paid of Rs. 3,50,000/- under registered\n",
            "Document 170 catchphrases: Section 13 (1) of Act 1955 husband Defendant-Appellant i.e. wife Learned counsel Indian Navy Suit No. 367 'cruelty' Ground Restitution conjugal relationship Moral and legal obligations Judgment illegal In excess Behaviour Shady v. Neelu Kohli Rishikesh Sharma Vs. Union India Amendment Care\n",
            "Document 171 catchphrases: Section 19, of 2012, service, notice, break down, decree divorce, lucid Act, negotiation marriage, concealment, dissolution mangtani, satish sitole, mental isolated instances, and emotions, alimony, lump\n",
            "Document 172 catchphrases: Courts Act, 1984, Section 13 of Hindu Marriage divorce, cruelty, and decree, plaintiff respondent, defendant appellant, happy married life, genuine demands, chores, quarreling, frequent visits, unknown person, telephone, threats, parental home, matrimonial removal, money, gold, obligations, companionship, husband, wife, illicit relationship, cause, locus corroborative evidence, burden 23(1) 13-B 1955, living separately, motion, withdrawal 13(1)(i)(a) intention, impact, capacity advancement, social ill-treatment, cessation intercourse, studied neglect, indifference, irretrievably broken marriage, straitjacket mutual trust, life. The Family Court, 2011 filed was decreed. respondent had the divorce his permission, put live separately family, talked on telephone him. not like an ideal amounted to\n",
            "Document 173 catchphrases: Suit Plaintiff house Co* Undivided dwelling *aser Market Brick Full tile roof member Preventree Val Firstuation Appellate Court Rights Basting partiesu Lear Bench Ple* Transadings Adjudication Und Finalual decree Contualesting parties circumstances In Partition suitas Portion Sep the sale ofarate houses *feree Family memberagmentation Photostat certified copy. for preemption Right of interest family partition and separate share Give pay Enable left Effectively denied entry Stranger Dilapidated land Purchased Evidence PW No existence\n",
            "Document 174 catchphrases: ground Adopted son Puja and Inducement or Co-sharer's right Dismiss Maintainable the land Plaintiff's mother aunt niece grandfather's sister's Plaintiff'\n",
            "Document 175 catchphrases: Revenue records family Coparceners partition Relief separate possession Preliminary Calculations Permutations/combinations/alternatives interests of Reunion Trustees by metes Decree Recognition Section 171 the (Revenue) Appeal Discriminatory Illegal Unequal share\n",
            "Document 176 catchphrases: report, affidavit, burden of proof, clinching allegation, negligence, restitution matrimonial house, domestic assurance, maltreatment, torture, branding, corroborative evidence, explanation Section 13, The husband filed an application for divorce on the alleged that frequent visits to her forced Kirana shop, poisonous substances in his wife denied all allegations and was negligent death parental house third pregnancy harassment by\n",
            "Document 177 catchphrases: appeal under Hindu Marriage Act, 1955 read The marriage between the appellant and respondent was solemnized of.05.2001 to rituals. have two female children, born on 04.05.2001 13.03.2002 23.1.2002 and2 2.2004. presented petition3.12.2004. petition before learned Family learned7.03.201 Court on2, seeking 1 dissolution of diss Section 1olution the3(1)(ia 1) Mar3riage 1955. (1)(ia) Mar* appriage 1ellant stated955. that he press* appurized marry insistence Sri Digambellant J pressha andurized G one Digambar Jha G.M. Srivastav, who served.M. served as Director General Police Assam. (DGP), compelled nuptial knot entire family were mentally tortured high-ranking period subsequent passed off peacefully, but gradually started treating with mentalellant cruelty. originally hailed from appellant's is permanently settled an employee in Assam since year 1998 comp. appelled tieellant reside at house his threatened mother, elder brother, sister-in-law also usedrank toing officials. reside. initial app mental Guwahati, statedellant the998. where stated visit theent 2 DGP frequently, without giving frequently any reason, which used cause frequent, disobey well members frequent alterc threat themen 498Aob against they them. In home after cases 498A Code ( 2007, Bihar. arrived persuasion, a meeting held by come Guwahati members. However, again startedatra deliberately. She go out whenever she liked, District anyone protested act-M, casesaffarpur, Bihar, However help, Sukhent againchand cruelty deliberately police vehicle DGP, liked said case. D2009 had8.200 agreed give her mat were,rimonial daughter behind 2)\n",
            "Document 178 catchphrases: Appeal Impugned Act Family rule Notice order Public law proceedings Custodian 12 of the Hindu registered as No. 2656 2015 Additional Principal Judge, Lucknow. The Marriage in aforementioned case. below passed parte judgment hearing. highlights order. Furthermore, text mentions achieve its purpose. ex order, discretion, hearing, delay, and\n",
            "Document 179 catchphrases: Financial Institutions Act, 2002 (SARFAESI in personam Right Board of 1992 to Banks Act) Overriding effect Provisions law Cumulative 13(2) the SARFAESI Act for one seven properties on 24.11.2016. The issued another notice two Section 37(2)(b) Arbitration against\n",
            "Document 180 catchphrases: perpetual injunction and possession Partition deed statement Framing First Appellate High Court Rule 5 Civil Procedure Order 41 Code of Taluk Surveyor Possession Lawful settled parties Cause a suit for permanent property, claiming ownership filed the fresh\n",
            "Document 181 catchphrases: Act Family Court justice Audi alteram partem rule order Public Custodian General Substantial justice. The appellant, registered as 12 of an ex that she the audi rule, a party representation before legal fails to parte delay, and decree.The Supreme Bishambhar Nath Kohli v. ground Justice V.R. observed hearing section 115, in view be unheard if without same violation impugned matter shall appear\n",
            "Document 182 catchphrases: holder, judgment foreign Court, reciprocating territory, Code of pecuniary limits, Delhi High Court Act, 1966, execution 13 Code, Section 47 the 24 original, appellate 5(2) Act 2(4) civil jurisdiction, Court's Division that relegated file a money decree District obtained in is still unsure about which The respondent, vessel M.V. with Profitable Inc. for Wealth to Oil. Gulf Oil from IOC amend changing Respondent Letter Petroleum FZC and there were another company, criminal proceedings cargo. Bank without production\n",
            "Document 183 catchphrases: suit, mis-delivery lawful holder, 1971, financing, XIV Rule Order XIIIA Civil Procedure, joinder, summary judgment, the High Court, interim is of vessel Marine Services, acting as M/s. Galaxy Inc. for charter sub-chartered to Gulf cargo a contract purchase be Kandla Port, Petroleum FZC Bank later requested Respondent Singapore. The amend Letter after provided addendum issued an Master Admiralty Suit 96 2021 before\n",
            "Document 184 catchphrases: 1996 Indian6 Insolvency and Bankruptolvency Financial creditor Deed Noned Company Corporate Infrastructure Finance Interim Res owner Adolution Professionaljudicating Authority 1 Notice of6. IRP Independent val 18 uer marketolution resolution Section b right Movables Statutory Expenses 67., Pres Pledgeeervation Right of disposition rede Performanceem aw78. Admitted Registration Custody Issuer Li Liabilities Depository Participantabilities Noticeurities Transfer Defend Adjudicating Disputed value invocation admission Fair market Date Accepting MHPL\n",
            "Document 185 catchphrases: Defendant Trial Court Issues Evidence Appeal Review Petition Civil Procedure Injunction Amendment Separate Suit Respondents Original Defendants Impugned Judgment First Magistrate Indian Code Order 6 Rule 17 7 11 47 1 Section 114 Error Apparent Record Jurisdiction Mistake Sufficient Reason. Shri Ram Sahu, the predecessor of Appellants, 04A for registered dated 25.03.1995 executed by original No. in favour & 2 regarding 28/955 as null and permanent injunction Nos. restraining any other person. The claimed ownership property on basis will one his 19.10.1993. Plaintiff that he became sole owner death Chhimmabai possession holder entire house same capacity; is continuous over same. It was case adopted 3 later on, Adoption 13.05.1992 disputed 2. adoption said well an application Under Appellant suit property. also filed regards issuance disposessing forcibly from ground High Appeal, herein-Original before review observations para judgment house. Appellants herein. However, impugned order, has ordered to 20 order 241 2005.\n",
            "Document 186 catchphrases: right to of action, written statement, pleadings, trial court, or denial service for suits, Limitation Act, 1963, Section 2(j), period limitation, prescribed period, dismissal suit, 3, Sections 24, residuary article, not otherwise provided in the Schedule, India v. West Coast Paper Mills Ltd., Khatri Hotels Private Limited Union India, three-Judge Bench, sue, accrual clear and Rukhmabai Lala Laxminarayan. The Appellant, M/s. Surya Roshni filed a suit on 23.2.2005 against decree rendition true correct accounts respect deducted by No. CCM between 1.4.1997 excess interest at 18% per annum from deduction pendente plaint Under law beyond Article 1963 Appellant had contended that cause action accrued him only rejection representation Respondent entailing refusal letters dated notice was courts\n",
            "Document 187 catchphrases: Petition,\"ension scheme \"Letters Patent Appeal,\" \"P Mines \"Provident Fund \"Notification Act,\" \"San,ction,\" \"D 194ismiss8al,\" and,\" Coal Pension Scheme, 1998,\" \"Notification,\" \"Regional \"Inter Commissioner,\" \"pension contribution,\" \"retest.\"irement benefits,\" \"Superannuation,\" of India,\" \"Darbhanga,\" \"Bihar,\" \"Jharkhand \"forum conveniens,\" \"judgment,\" \"appeal,\" and \"Patna The case Single Judge dismissed a No. 5999 9 2014 filed the Appellant. Writ was letter201 dated 07.10.2013 06.11.20134 by Appellant Regional. challenginger, datedines Prov 07ident Fund, Region-1, Asansol. letters directed refund November 201306..11 App.2013ellant' issueds late husband Regional employed iner, pension at Bankola 2013 Indiaified Limited Notification 0 working5 Mo99ira8 Coll. Notierification 09y,.01.2002 amended 1998, did not opt notified under 199A8, inserting Sche an opted Family coveredident Scheme to within submitted Scheension Manager, being Mishra in Manager India, sanctioned Bihar. started Court, 200 B.N. State Bank. 5 2006 which 07.10.201 on present territorial jurisdiction Pat Patna High writ* aters \"terna\n",
            "Document 188 catchphrases: appeal filed by Appellant questioning the Patna High Court in Letters Patent 1265 of dismissal The Single Judge dismissed Writ No. 5999 2014 late husband ground territorial jurisdiction. 13955 stoppage judgment also relies on granted. Those therein cannot to give Petition amount wrongly did not 2014. is challenging were\n",
            "Document 189 catchphrases: farmers Landholding register Judicial review 14 of Rational nexus Proportionality test Protective discrimination Intelligible differentia classification Electoral promise Class legislation Reasonable Administrative convenience Legislative experimentation Non-comparative unreasonableness Arbitrariness Two-pronged Nexus Fundamental right Aadhar scheme Criminal defamation speech and expression Reservation Postgraduate courses educational institutions End Degrees harm Majoritarian morality Constitutional weaker sections earners Agricultural households Land holdings Rural India Average monthly income Outstanding loans Indebted agricultural Percentage purpose Income from crop outstanding standard Right to privacy Constitution Bench judge action Socially economically technology Wage Madras High Court at the Madurai allowed writ petition filed by Respondent under Article 226 loan waivers only small marginal Appellant all landholding. G.O. Ms. No. issued on 13 May 2016, granting a waiver loans, medium-term (agriculture) long-term (farm sector) challenged unconstitutional for provide arrive that exclusion is discriminatory violative 14: (i) courts State (iv) time\n",
            "Document 190 catchphrases: of Criminal Procedure, Section 258, 205, 357(3), 64 Indian Code, sentence, recovery compensatory aspect, hardship, personal 205 capacity, conduct, preliminary evidence, High Courts, updated cases. The Appellants in this case the Negotiable Instruments Act, (the Act) for issuing a cheque that were an agreement, had not amount. However, complainant demand draft. then filed application compounding\n",
            "Document 191 catchphrases: Collector Market value Duty Final not. Inspector Officer ( FinalStamps) order 23.14. High Court limit Stamp duty (1-A Def v. Chieficit Inspection reports the authorities to 7 of party Ordinary competent official SCC 346 Law Board 295: 1966 Supp nature aversion Standard\n",
            "Document 192 catchphrases: RBI guidelines EquDebts Recovery Rule 2A Code 30 D. Defendants' witnesses order Disobedience Breach Order XXXIX Front entrance assessment Land Materials used Deputy Tahsildar proof Admissibility Relevance Learned contra Impounding of passport\n",
            "Document 193 catchphrases: EquDebts Recovery loan Guarantor floor Parkunction order Civil Procedure bounds Subsequent entrance Stamp and approval Building Plinth inspection True Patent unreason Standard of Reasonableness Proportionality justiceocks 103.den Attorney Power passport Appropriate\n",
            "Document 194 catchphrases: 2. Order Letters Patent Appeal Learned Single Bench money 9. Director 12. Cancellation of allotment Contempt petition 14. Balance convenience 15. Cross-examination Proportionate reduction 21. Technical and financial proposal 23. Memorandum Annexure 25. 26. Injunction injunction 28. Procedure 29. conditions 33. Concluded contract 34. Allotment price Judge 36. 37. Arbitrary India 41. Rational basis Estoppel 43. interest 44. Transparent policy 45. Objective Invitation to Competitive bids 49. Hidden agenda 50. Trust 51. Public property 52. Fair transparent 53. persons 54. 55. Contractual entitlement 56. Specified 57. 62. Vested Remedies 64. Consumer Disputes 66. Stay by the payment 69. Article 142 Constitution 70. sale a plot in Lohia Patna. The Respondent applied for Appellant take decision on application one month. Subsequently, liberty challenge writ petition, Board decided plots was communicated consider same terms asked price, which accepted subject formal letter issued, an directions\n",
            "Document 195 catchphrases: title or No. 41, Evidence Act, Foundational evidence Authentication Genuineness Correctness Specific Relief the Appellant-Def3 Appellant has no right, interest over property and for a restraining order Appellant. defined as Survey Kasauli Tehsil specificallyellant-Defendant declaration that against The is part 4har1ma Late Sh. Duni Chand Advocatet. was Te in possession land, which he gifted to his Tek registeredauli expired inings more specifically son Justice one son. late 2, Smt. Anita Beri, Plaintiff 2 suit property, Defendant However, of platform parking. requested lock gate, gate hindrance, user\n",
            "Document 196 catchphrases: schedule properties Department Holkar The Respondent/Plaintiff, daughter and a declaration of title (plots) known as Ashapura, Bercha, Mohna, Gajihata. Plaintiff claims that these birs the State to Army Maharaja, who property 1948. notice her claiming land belonged State. pass such\n",
            "Document 197 catchphrases: suit to State Government the harmony, outraging feelings, and Trust. The their support of \"The Lives book contained a founder\n",
            "Document 198 catchphrases: the suit. Order 7 Rule Procedure, 1908: Code to file additional Section 21 Rent Control section deals with court pleadings. The Appellant, owns a has let it out Respondent on eviction grounds and availability of alternative accommodation. filed allegations. close evidence, two applications: one under 17 Civil 1908 (Code) 2001 (Act) amend ofCode seeking) Act, documents in) another\n",
            "Document 199 catchphrases: seas sale Consumer Disputes National Redressal Commission, insurance coverage, endorsement schedules, period of insurance, manufacturers, aluminium products, Jawaharlal Nehru Port Trust Silvassa, UMarine Cargo-Open Policy, Sales Turnover basis, insured, highT theft, claim, repudiation, Dadra and respondumer endorse Statement sched Commissionules, conditions, carrier, extra policy, Coordinate general policy comb, risk details, voyage, additional terms, claimants, traders, Bench, SCC, Ltd. v. India Insurance S Chem Nagaricals Haveli, company Co. Ltd., respondANU/SC/ent, State1733/2 National019, Saurashtra. report, authorized generalium have spont condition June two thousand Forum (Maharashtra), against the dismissal order Commission. The rupees crores, which goods from in to covering a given time. on 18th Legal keywords unit, UT transporter,\n",
            "Document 200 catchphrases: application under settlement plan. an Debtor,which was admittedwhich Tribunal (NCLT). Creditors (CoC), be approved as it received only votes. The seeking Company Law (RP) presented a RP then S the NCLT.ettlement Co majority of 9 challenged However, rejected CIRP and Appellate liquidation process. appeals. Legal orders before (NCLAT), which dismissed appewords: Insolvency authority, appellate IBC, Regulation 2016, National Resolution Professional, India (Insolvency Corporate Persons) 2016.\n"
          ]
        }
      ]
    },
    {
      "cell_type": "markdown",
      "source": [
        "#**Evaluation**"
      ],
      "metadata": {
        "id": "1ukvc3E0qW5i"
      }
    },
    {
      "cell_type": "code",
      "source": [
        "from sklearn.metrics import precision_score, recall_score, f1_score, confusion_matrix\n",
        "import matplotlib.pyplot as plt\n",
        "\n",
        "def flatten_labels(labels):\n",
        "    return [label for seq in labels for label in seq]\n",
        "\n",
        "def flatten_true_labels(labels):\n",
        "    return [label for seq in labels for label in seq if label != 2]\n",
        "\n",
        "predicted_labels = model.predict(padded_sequences)\n",
        "predicted_labels = np.argmax(predicted_labels, axis=-1)\n",
        "\n",
        "flat_predicted_labels = flatten_labels(predicted_labels)\n",
        "flat_true_labels = flatten_true_labels(labels)"
      ],
      "metadata": {
        "id": "edQvll3_wazs",
        "colab": {
          "base_uri": "https://localhost:8080/"
        },
        "outputId": "6a68822f-8ba6-440e-b382-abcac04e0873"
      },
      "execution_count": null,
      "outputs": [
        {
          "output_type": "stream",
          "name": "stdout",
          "text": [
            "7/7 [==============================] - 4s 540ms/step\n"
          ]
        }
      ]
    },
    {
      "cell_type": "code",
      "source": [
        "precision = precision_score(labels.flatten(), predicted_labels.flatten(), average='macro')\n",
        "recall = recall_score(labels.flatten(), predicted_labels.flatten(), average='macro')\n",
        "f1 = f1_score(labels.flatten(), predicted_labels.flatten(), average='macro')\n",
        "\n",
        "print(\"Precision:\", precision)\n",
        "print(\"Recall:\", recall)\n",
        "print(\"F1 Score:\", f1)"
      ],
      "metadata": {
        "colab": {
          "base_uri": "https://localhost:8080/"
        },
        "id": "MMRyLmGTfSQE",
        "outputId": "6b109f90-debd-4cd0-929c-af022c20c766"
      },
      "execution_count": null,
      "outputs": [
        {
          "output_type": "stream",
          "name": "stderr",
          "text": [
            "/usr/local/lib/python3.10/dist-packages/sklearn/metrics/_classification.py:1344: UndefinedMetricWarning: Precision is ill-defined and being set to 0.0 in labels with no predicted samples. Use `zero_division` parameter to control this behavior.\n",
            "  _warn_prf(average, modifier, msg_start, len(result))\n"
          ]
        },
        {
          "output_type": "stream",
          "name": "stdout",
          "text": [
            "Precision: 0.3195646766169154\n",
            "Recall: 0.3333333333333333\n",
            "F1 Score: 0.3263038246369357\n"
          ]
        }
      ]
    }
  ]
}